{
 "cells": [
  {
   "cell_type": "code",
   "execution_count": 3,
   "metadata": {},
   "outputs": [
    {
     "name": "stdout",
     "output_type": "stream",
     "text": [
      "Загадано число от 1 до 100\n",
      "33\n",
      "Угадываемое число больше 33 \n",
      "44\n",
      "Угадываемое число больше 44 \n",
      "77\n",
      "Угадываемое число меньше 77 \n",
      "55\n",
      "Угадываемое число меньше 55 \n",
      "47\n",
      "Угадываемое число больше 47 \n",
      "50\n",
      "Угадываемое число больше 50 \n",
      "53\n",
      "Вы угадали число 53 за 7 попыток.\n"
     ]
    }
   ],
   "source": [
    "import numpy as np\n",
    "count = 0                            # счетчик попыток\n",
    "number = np.random.randint(1,101)    # загадали число\n",
    "print (\"Загадано число от 1 до 100\")\n",
    "\n",
    "while True:                        # бесконечный цикл\n",
    "    predict = int(input())         # предполагаемое число\n",
    "    count += 1                     # плюсуем попытку\n",
    "    if number == predict: break    # выход из цикла, если угадали\n",
    "    elif number > predict: print (f\"Угадываемое число больше {predict} \")\n",
    "    elif number < predict: print (f\"Угадываемое число меньше {predict} \")\n",
    "        \n",
    "print (f\"Вы угадали число {number} за {count} попыток.\")"
   ]
  },
  {
   "cell_type": "code",
   "execution_count": 4,
   "metadata": {},
   "outputs": [
    {
     "name": "stdout",
     "output_type": "stream",
     "text": [
      "Загадано число от 1 до 100\n",
      "Вы угадали число 65 за 65 попыток.\n"
     ]
    }
   ],
   "source": [
    "number = np.random.randint(1,101)    # загадали число\n",
    "print (\"Загадано число от 1 до 100\")\n",
    "for count in range(1,101):         # более компактный вариант счетчика\n",
    "    if number == count: break    # выход из цикла, если угадали      \n",
    "print (f\"Вы угадали число {number} за {count} попыток.\")"
   ]
  },
  {
   "cell_type": "code",
   "execution_count": 5,
   "metadata": {},
   "outputs": [],
   "source": [
    "def game_core_v1(number):\n",
    "    '''Просто угадываем на random, никак не используя информацию о больше или меньше.\n",
    "       Функция принимает загаданное число и возвращает число попыток'''\n",
    "    count = 0\n",
    "    while True:\n",
    "        count+=1\n",
    "        predict = np.random.randint(1,101) # предполагаемое число\n",
    "        if number == predict: \n",
    "            return(count) # выход из цикла, если угадали\n",
    "        \n",
    "        \n",
    "def score_game(game_core):\n",
    "    '''Запускаем игру 1000 раз, чтобы узнать, как быстро игра угадывает число'''\n",
    "    count_ls = []\n",
    "    np.random.seed(1)  # фиксируем RANDOM SEED, чтобы ваш эксперимент был воспроизводим!\n",
    "    random_array = np.random.randint(1,101, size=(1000))\n",
    "    for number in random_array:\n",
    "        count_ls.append(game_core(number))\n",
    "    score = int(np.mean(count_ls))\n",
    "    print(f\"Ваш алгоритм угадывает число в среднем за {score} попыток\")\n",
    "    return(score)"
   ]
  },
  {
   "cell_type": "code",
   "execution_count": 6,
   "metadata": {},
   "outputs": [
    {
     "name": "stdout",
     "output_type": "stream",
     "text": [
      "Ваш алгоритм угадывает число в среднем за 101 попыток\n"
     ]
    },
    {
     "data": {
      "text/plain": [
       "101"
      ]
     },
     "execution_count": 6,
     "metadata": {},
     "output_type": "execute_result"
    }
   ],
   "source": [
    "score_game(game_core_v1)"
   ]
  },
  {
   "cell_type": "code",
   "execution_count": 7,
   "metadata": {},
   "outputs": [],
   "source": [
    "def game_core_v2(number):\n",
    "    '''Сначала устанавливаем любое random число, а потом уменьшаем или увеличиваем его в зависимости от того, больше оно или меньше нужного.\n",
    "       Функция принимает загаданное число и возвращает число попыток'''\n",
    "    count = 1\n",
    "\n",
    "    predict = np.random.randint(1,101)\n",
    "    while number != predict:\n",
    "        count+=1\n",
    "        if number > predict: \n",
    "            predict += 1\n",
    "        elif number < predict: \n",
    "            predict -= 1\n",
    "    return(count) # выход из цикла, если угадали\n"
   ]
  },
  {
   "cell_type": "code",
   "execution_count": 8,
   "metadata": {},
   "outputs": [
    {
     "name": "stdout",
     "output_type": "stream",
     "text": [
      "Ваш алгоритм угадывает число в среднем за 33 попыток\n"
     ]
    },
    {
     "data": {
      "text/plain": [
       "33"
      ]
     },
     "execution_count": 8,
     "metadata": {},
     "output_type": "execute_result"
    }
   ],
   "source": [
    "# Проверяем\n",
    "score_game(game_core_v2)"
   ]
  },
  {
   "cell_type": "code",
   "execution_count": 9,
   "metadata": {},
   "outputs": [],
   "source": [
    "import math\n",
    "\n",
    "def game_core_v3(number,logfn=None):\n",
    "    '''Угадываем число\n",
    "       Параметры:\n",
    "         number : int - диапазон значений от 1 до 100.\n",
    "         logfn : fn(message:String)|None - функция логгирования\n",
    "       результат:\n",
    "         Возвращаем кол-во попыток.\n",
    "       Требование менимизировать кол-во попыток.\n",
    "       Допустимые операции с number:\n",
    "          сравнение на равенство, больше, меньше\n",
    "          непосредственно присвоение counter к number не допускается\n",
    "    '''\n",
    "\n",
    "    # проверка входящих аргументов\n",
    "    if number < 1 or number>100:\n",
    "        raise ValueError(\"number out of range\")\n",
    "    if type(number)!=int:\n",
    "        #raise ValueError(\"number not int type\")\n",
    "        number = int(number)\n",
    "\n",
    "    # логгирование\n",
    "    def log(message):\n",
    "        if logfn != None:\n",
    "            logfn(message)\n",
    "\n",
    "    count = 1\n",
    "    found = False # факт нахождения искомого числа\n",
    "\n",
    "    # границы искомого диапазона\n",
    "    leftInclude = 1\n",
    "    rightExclude = 101\n",
    "    while True:\n",
    "        count += 1\n",
    "        \n",
    "        rangeSize = int(math.fabs(leftInclude - rightExclude))\n",
    "        if rangeSize<=0:\n",
    "            break\n",
    "\n",
    "        predict = int(leftInclude + rangeSize * 0.5)\n",
    "        log(f\"try {count} \"+\n",
    "            f\"left={leftInclude} predict={predict} right={rightExclude}\")\n",
    "\n",
    "        if predict == number:\n",
    "            found = True\n",
    "            break\n",
    "        elif predict < number:\n",
    "            leftInclude = predict\n",
    "        else:\n",
    "            rightExclude = predict\n",
    "\n",
    "    if not(found):\n",
    "        raise ValueError(\"not found\")\n",
    "\n",
    "    return count"
   ]
  },
  {
   "cell_type": "code",
   "execution_count": 10,
   "metadata": {},
   "outputs": [
    {
     "name": "stdout",
     "output_type": "stream",
     "text": [
      "Ваш алгоритм угадывает число в среднем за 6 попыток\n"
     ]
    },
    {
     "data": {
      "text/plain": [
       "6"
      ]
     },
     "execution_count": 10,
     "metadata": {},
     "output_type": "execute_result"
    }
   ],
   "source": [
    "score_game(game_core_v3)"
   ]
  },
  {
   "cell_type": "code",
   "execution_count": 11,
   "metadata": {},
   "outputs": [],
   "source": [
    "def game_core_v4(number,logfn=None):\n",
    "    '''Угадываем число\n",
    "       Параметры:\n",
    "         number : int - диапазон значений от 1 до 100.\n",
    "         logfn : fn(message:String)|None - функция логгирования\n",
    "       результат:\n",
    "         Возвращаем кол-во попыток.\n",
    "       Требование минимизировать кол-во попыток.\n",
    "       Допустимые операции с number:\n",
    "          сравнение на равенство, больше, меньше\n",
    "          непосредственно присвоение counter к number не допускается\n",
    "       Реализация - бинарный поиск со случайным смещением\n",
    "    '''\n",
    "\n",
    "    # проверка входящих аргументов\n",
    "    if number < 1 or number>100:\n",
    "        raise ValueError(\"number out of range\")\n",
    "    if type(number)!=int:\n",
    "        #raise ValueError(\"number not int type\")\n",
    "        number = int(number)\n",
    "\n",
    "    # логгирование\n",
    "    def log(message):\n",
    "        if logfn != None:\n",
    "            logfn(message)\n",
    "\n",
    "    count = 1\n",
    "    found = False # факт нахождения искомого числа\n",
    "\n",
    "    # границы искомого диапазона\n",
    "    leftInclude = 1\n",
    "    rightExclude = 101\n",
    "    while True:\n",
    "        count += 1\n",
    "        \n",
    "        rangeSize = int(math.fabs(leftInclude - rightExclude))\n",
    "        if rangeSize<=0:\n",
    "            break\n",
    "\n",
    "        predict = int(leftInclude + rangeSize * np.random.random())\n",
    "        log(f\"try {count} \"+\n",
    "            f\"left={leftInclude} predict={predict} right={rightExclude}\")\n",
    "\n",
    "        if predict == number:\n",
    "            found = True\n",
    "            break\n",
    "        elif predict < number:\n",
    "            leftInclude = predict\n",
    "        else:\n",
    "            rightExclude = predict\n",
    "\n",
    "    if not(found):\n",
    "        raise ValueError(\"not found\")\n",
    "\n",
    "    return count"
   ]
  },
  {
   "cell_type": "code",
   "execution_count": 12,
   "metadata": {},
   "outputs": [
    {
     "name": "stdout",
     "output_type": "stream",
     "text": [
      "Ваш алгоритм угадывает число в среднем за 9 попыток\n"
     ]
    },
    {
     "data": {
      "text/plain": [
       "9"
      ]
     },
     "execution_count": 12,
     "metadata": {},
     "output_type": "execute_result"
    }
   ],
   "source": [
    "score_game(game_core_v4)"
   ]
  },
  {
   "cell_type": "code",
   "execution_count": null,
   "metadata": {},
   "outputs": [],
   "source": []
  }
 ],
 "metadata": {
  "kernelspec": {
   "display_name": "Python 3",
   "language": "python",
   "name": "python3"
  },
  "language_info": {
   "codemirror_mode": {
    "name": "ipython",
    "version": 3
   },
   "file_extension": ".py",
   "mimetype": "text/x-python",
   "name": "python",
   "nbconvert_exporter": "python",
   "pygments_lexer": "ipython3",
   "version": "3.8.3"
  }
 },
 "nbformat": 4,
 "nbformat_minor": 4
}
