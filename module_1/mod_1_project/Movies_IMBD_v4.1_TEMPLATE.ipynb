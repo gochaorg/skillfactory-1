{
 "cells": [
  {
   "cell_type": "code",
   "execution_count": 1,
   "metadata": {
    "_cell_guid": "b1076dfc-b9ad-4769-8c92-a6c4dae69d19",
    "_uuid": "8f2839f25d086af736a60e9eeb907d3b93b6e0e5",
    "colab": {},
    "colab_type": "code",
    "id": "U2D2gTdJVp90"
   },
   "outputs": [],
   "source": [
    "import numpy as np\n",
    "import pandas as pd\n",
    "import seaborn as sns\n",
    "import matplotlib.pyplot as plt\n",
    "from collections import Counter"
   ]
  },
  {
   "cell_type": "code",
   "execution_count": 2,
   "metadata": {
    "_cell_guid": "79c7e3d0-c299-4dcb-8224-4455121ee9b0",
    "_uuid": "d629ff2d2480ee46fbb7e2d37f6b5fab8052498a",
    "colab": {},
    "colab_type": "code",
    "id": "oyGfxL3eVp9-"
   },
   "outputs": [
    {
     "output_type": "execute_result",
     "data": {
      "text/plain": [
       "        imdb_id    budget    revenue        original_title  \\\n",
       "82    tt1674771  30000000   49263404             Entourage   \n",
       "870   tt0264464  52000000  352114312   Catch Me If You Can   \n",
       "1672  tt0440963  70000000  442824138  The Bourne Ultimatum   \n",
       "121   tt2911666  20000000   78739897             John Wick   \n",
       "1621  tt0387575  12000000   24829644        Seed of Chucky   \n",
       "\n",
       "                                                   cast  \\\n",
       "82    Jeremy Piven|Adrian Grenier|Jerry Ferrara|Kevi...   \n",
       "870   Leonardo DiCaprio|Tom Hanks|Christopher Walken...   \n",
       "1672  Matt Damon|Julia Stiles|David Strathairn|Scott...   \n",
       "121   Keanu Reeves|Michael Nyqvist|Alfie Allen|Wille...   \n",
       "1621  Brad Dourif|Jennifer Tilly|Billy Boyd|Redman|H...   \n",
       "\n",
       "                         director                                tagline  \\\n",
       "82                     Doug Ellin              Dream Large. Live Larger.   \n",
       "870              Steven Spielberg         The true story of a real fake.   \n",
       "1672              Paul Greengrass  Remember everything. Forgive nothing.   \n",
       "121   Chad Stahelski|David Leitch                     Don't set him off.   \n",
       "1621                  Don Mancini                 Fear The Second Coming   \n",
       "\n",
       "                                               overview  runtime  \\\n",
       "82    Movie star Vincent Chase, together with his bo...      104   \n",
       "870   Frank W. Abagnale Jr. is a cunning con man â€“...      141   \n",
       "1672  Bourne is brought out of hiding once again by ...      115   \n",
       "121   After the sudden death of his beloved wife, Jo...      101   \n",
       "1621  The killer doll is back! The all-new film is t...       87   \n",
       "\n",
       "                             genres  \\\n",
       "82                           Comedy   \n",
       "870                     Drama|Crime   \n",
       "1672  Action|Drama|Mystery|Thriller   \n",
       "121                 Action|Thriller   \n",
       "1621            Comedy|Drama|Horror   \n",
       "\n",
       "                                   production_companies release_date  \\\n",
       "82         Warner Bros.|Closest to the Hole Productions     6/3/2015   \n",
       "870       DreamWorks SKG|Kemp Company|Splendid Pictures   12/25/2002   \n",
       "1672  Universal Pictures|The Kennedy/Marshall Compan...     8/3/2007   \n",
       "121   Thunder Road Pictures|Warner Bros.|87Eleven|De...   10/22/2014   \n",
       "1621                                     Rogue Pictures   11/11/2004   \n",
       "\n",
       "      vote_average  release_year  \n",
       "82             6.2          2015  \n",
       "870            7.6          2002  \n",
       "1672           7.2          2007  \n",
       "121            7.0          2014  \n",
       "1621           4.9          2004  "
      ],
      "text/html": "<div>\n<style scoped>\n    .dataframe tbody tr th:only-of-type {\n        vertical-align: middle;\n    }\n\n    .dataframe tbody tr th {\n        vertical-align: top;\n    }\n\n    .dataframe thead th {\n        text-align: right;\n    }\n</style>\n<table border=\"1\" class=\"dataframe\">\n  <thead>\n    <tr style=\"text-align: right;\">\n      <th></th>\n      <th>imdb_id</th>\n      <th>budget</th>\n      <th>revenue</th>\n      <th>original_title</th>\n      <th>cast</th>\n      <th>director</th>\n      <th>tagline</th>\n      <th>overview</th>\n      <th>runtime</th>\n      <th>genres</th>\n      <th>production_companies</th>\n      <th>release_date</th>\n      <th>vote_average</th>\n      <th>release_year</th>\n    </tr>\n  </thead>\n  <tbody>\n    <tr>\n      <th>82</th>\n      <td>tt1674771</td>\n      <td>30000000</td>\n      <td>49263404</td>\n      <td>Entourage</td>\n      <td>Jeremy Piven|Adrian Grenier|Jerry Ferrara|Kevi...</td>\n      <td>Doug Ellin</td>\n      <td>Dream Large. Live Larger.</td>\n      <td>Movie star Vincent Chase, together with his bo...</td>\n      <td>104</td>\n      <td>Comedy</td>\n      <td>Warner Bros.|Closest to the Hole Productions</td>\n      <td>6/3/2015</td>\n      <td>6.2</td>\n      <td>2015</td>\n    </tr>\n    <tr>\n      <th>870</th>\n      <td>tt0264464</td>\n      <td>52000000</td>\n      <td>352114312</td>\n      <td>Catch Me If You Can</td>\n      <td>Leonardo DiCaprio|Tom Hanks|Christopher Walken...</td>\n      <td>Steven Spielberg</td>\n      <td>The true story of a real fake.</td>\n      <td>Frank W. Abagnale Jr. is a cunning con man â€“...</td>\n      <td>141</td>\n      <td>Drama|Crime</td>\n      <td>DreamWorks SKG|Kemp Company|Splendid Pictures</td>\n      <td>12/25/2002</td>\n      <td>7.6</td>\n      <td>2002</td>\n    </tr>\n    <tr>\n      <th>1672</th>\n      <td>tt0440963</td>\n      <td>70000000</td>\n      <td>442824138</td>\n      <td>The Bourne Ultimatum</td>\n      <td>Matt Damon|Julia Stiles|David Strathairn|Scott...</td>\n      <td>Paul Greengrass</td>\n      <td>Remember everything. Forgive nothing.</td>\n      <td>Bourne is brought out of hiding once again by ...</td>\n      <td>115</td>\n      <td>Action|Drama|Mystery|Thriller</td>\n      <td>Universal Pictures|The Kennedy/Marshall Compan...</td>\n      <td>8/3/2007</td>\n      <td>7.2</td>\n      <td>2007</td>\n    </tr>\n    <tr>\n      <th>121</th>\n      <td>tt2911666</td>\n      <td>20000000</td>\n      <td>78739897</td>\n      <td>John Wick</td>\n      <td>Keanu Reeves|Michael Nyqvist|Alfie Allen|Wille...</td>\n      <td>Chad Stahelski|David Leitch</td>\n      <td>Don't set him off.</td>\n      <td>After the sudden death of his beloved wife, Jo...</td>\n      <td>101</td>\n      <td>Action|Thriller</td>\n      <td>Thunder Road Pictures|Warner Bros.|87Eleven|De...</td>\n      <td>10/22/2014</td>\n      <td>7.0</td>\n      <td>2014</td>\n    </tr>\n    <tr>\n      <th>1621</th>\n      <td>tt0387575</td>\n      <td>12000000</td>\n      <td>24829644</td>\n      <td>Seed of Chucky</td>\n      <td>Brad Dourif|Jennifer Tilly|Billy Boyd|Redman|H...</td>\n      <td>Don Mancini</td>\n      <td>Fear The Second Coming</td>\n      <td>The killer doll is back! The all-new film is t...</td>\n      <td>87</td>\n      <td>Comedy|Drama|Horror</td>\n      <td>Rogue Pictures</td>\n      <td>11/11/2004</td>\n      <td>4.9</td>\n      <td>2004</td>\n    </tr>\n  </tbody>\n</table>\n</div>"
     },
     "metadata": {},
     "execution_count": 2
    }
   ],
   "source": [
    "data = pd.read_csv('movie_bd_v5.csv')\n",
    "data.sample(5)"
   ]
  },
  {
   "cell_type": "code",
   "execution_count": 3,
   "metadata": {
    "colab": {},
    "colab_type": "code",
    "id": "CoYUnagMVp-C"
   },
   "outputs": [
    {
     "output_type": "execute_result",
     "data": {
      "text/plain": [
       "             budget       revenue      runtime  vote_average  release_year\n",
       "count  1.889000e+03  1.889000e+03  1889.000000   1889.000000   1889.000000\n",
       "mean   5.431083e+07  1.553653e+08   109.658549      6.140762   2007.860773\n",
       "std    4.858721e+07  2.146698e+08    18.017041      0.764763      4.468841\n",
       "min    5.000000e+06  2.033165e+06    63.000000      3.300000   2000.000000\n",
       "25%    2.000000e+07  3.456058e+07    97.000000      5.600000   2004.000000\n",
       "50%    3.800000e+07  8.361541e+07   107.000000      6.100000   2008.000000\n",
       "75%    7.200000e+07  1.782626e+08   120.000000      6.600000   2012.000000\n",
       "max    3.800000e+08  2.781506e+09   214.000000      8.100000   2015.000000"
      ],
      "text/html": "<div>\n<style scoped>\n    .dataframe tbody tr th:only-of-type {\n        vertical-align: middle;\n    }\n\n    .dataframe tbody tr th {\n        vertical-align: top;\n    }\n\n    .dataframe thead th {\n        text-align: right;\n    }\n</style>\n<table border=\"1\" class=\"dataframe\">\n  <thead>\n    <tr style=\"text-align: right;\">\n      <th></th>\n      <th>budget</th>\n      <th>revenue</th>\n      <th>runtime</th>\n      <th>vote_average</th>\n      <th>release_year</th>\n    </tr>\n  </thead>\n  <tbody>\n    <tr>\n      <th>count</th>\n      <td>1.889000e+03</td>\n      <td>1.889000e+03</td>\n      <td>1889.000000</td>\n      <td>1889.000000</td>\n      <td>1889.000000</td>\n    </tr>\n    <tr>\n      <th>mean</th>\n      <td>5.431083e+07</td>\n      <td>1.553653e+08</td>\n      <td>109.658549</td>\n      <td>6.140762</td>\n      <td>2007.860773</td>\n    </tr>\n    <tr>\n      <th>std</th>\n      <td>4.858721e+07</td>\n      <td>2.146698e+08</td>\n      <td>18.017041</td>\n      <td>0.764763</td>\n      <td>4.468841</td>\n    </tr>\n    <tr>\n      <th>min</th>\n      <td>5.000000e+06</td>\n      <td>2.033165e+06</td>\n      <td>63.000000</td>\n      <td>3.300000</td>\n      <td>2000.000000</td>\n    </tr>\n    <tr>\n      <th>25%</th>\n      <td>2.000000e+07</td>\n      <td>3.456058e+07</td>\n      <td>97.000000</td>\n      <td>5.600000</td>\n      <td>2004.000000</td>\n    </tr>\n    <tr>\n      <th>50%</th>\n      <td>3.800000e+07</td>\n      <td>8.361541e+07</td>\n      <td>107.000000</td>\n      <td>6.100000</td>\n      <td>2008.000000</td>\n    </tr>\n    <tr>\n      <th>75%</th>\n      <td>7.200000e+07</td>\n      <td>1.782626e+08</td>\n      <td>120.000000</td>\n      <td>6.600000</td>\n      <td>2012.000000</td>\n    </tr>\n    <tr>\n      <th>max</th>\n      <td>3.800000e+08</td>\n      <td>2.781506e+09</td>\n      <td>214.000000</td>\n      <td>8.100000</td>\n      <td>2015.000000</td>\n    </tr>\n  </tbody>\n</table>\n</div>"
     },
     "metadata": {},
     "execution_count": 3
    }
   ],
   "source": [
    "data.describe()"
   ]
  },
  {
   "cell_type": "markdown",
   "metadata": {
    "colab_type": "text",
    "id": "DTIt7ezGVp-G"
   },
   "source": [
    "# Предобработка"
   ]
  },
  {
   "cell_type": "code",
   "execution_count": 4,
   "metadata": {
    "colab": {},
    "colab_type": "code",
    "id": "jNb40DwKVp-H"
   },
   "outputs": [],
   "source": [
    "answers = {} # создадим словарь для ответов\n",
    "\n",
    "# тут другие ваши предобработки колонок например:\n",
    "\n",
    "#the time given in the dataset is in string format.\n",
    "#So we need to change this in datetime format\n",
    "# ..."
   ]
  },
  {
   "cell_type": "markdown",
   "metadata": {
    "colab_type": "text",
    "id": "YxZaH-nPVp-L"
   },
   "source": [
    "# 1. У какого фильма из списка самый большой бюджет?"
   ]
  },
  {
   "cell_type": "markdown",
   "metadata": {
    "colab_type": "text",
    "id": "Nd-G5gX6Vp-M"
   },
   "source": [
    "Использовать варианты ответов в коде решения запрещено.    \n",
    "Вы думаете и в жизни у вас будут варианты ответов?)"
   ]
  },
  {
   "cell_type": "code",
   "execution_count": 5,
   "metadata": {
    "colab": {},
    "colab_type": "code",
    "id": "uVnXAY5RVp-O"
   },
   "outputs": [],
   "source": [
    "# в словарь вставляем номер вопроса и ваш ответ на него\n",
    "# Пример: \n",
    "answers['1'] = '2. Spider-Man 3 (tt0413300)'\n",
    "# запишите свой вариант ответа\n",
    "answers['1'] = '...'\n",
    "# если ответили верно, можете добавить комментарий со значком \"+\""
   ]
  },
  {
   "cell_type": "code",
   "execution_count": 6,
   "metadata": {
    "colab": {},
    "colab_type": "code",
    "id": "dZwb3m28Vp-S"
   },
   "outputs": [
    {
     "output_type": "execute_result",
     "data": {
      "text/plain": [
       "'Pirates of the Caribbean: On Stranger Tides (tt1298650)'"
      ]
     },
     "metadata": {},
     "execution_count": 6
    }
   ],
   "source": [
    "# тут пишем ваш код для решения данного вопроса:\n",
    "r = data[ data.budget == data.budget.max() ]\n",
    "answers['1'] = r.original_title.iloc[0] + ' (' + r.imdb_id.iloc[0] + ')'\n",
    "answers['1']\n"
   ]
  },
  {
   "cell_type": "markdown",
   "metadata": {
    "colab_type": "text",
    "id": "K7L3nbRXVp-X"
   },
   "source": [
    "ВАРИАНТ 2"
   ]
  },
  {
   "cell_type": "code",
   "execution_count": 373,
   "metadata": {
    "colab": {},
    "colab_type": "code",
    "id": "OGaoQI7rVp-X"
   },
   "outputs": [],
   "source": [
    "# можно добавлять разные варианты решения"
   ]
  },
  {
   "cell_type": "markdown",
   "metadata": {
    "colab_type": "text",
    "id": "FNRbbI3vVp-c"
   },
   "source": [
    "# 2. Какой из фильмов самый длительный (в минутах)?"
   ]
  },
  {
   "cell_type": "code",
   "execution_count": 7,
   "metadata": {
    "colab": {},
    "colab_type": "code",
    "id": "vHAoEXNTVp-d"
   },
   "outputs": [],
   "source": [
    "# думаю логику работы с этим словарем вы уже поняли, \n",
    "# по этому не буду больше его дублировать\n",
    "answers['2'] = '...'"
   ]
  },
  {
   "cell_type": "code",
   "execution_count": 8,
   "metadata": {
    "colab": {},
    "colab_type": "code",
    "id": "ot-VX2XrVp-g"
   },
   "outputs": [
    {
     "output_type": "execute_result",
     "data": {
      "text/plain": [
       "'Gods and Generals (tt0279111)'"
      ]
     },
     "metadata": {},
     "execution_count": 8
    }
   ],
   "source": [
    "r = data[ data.runtime == data.runtime.max() ]\n",
    "answers['2'] = r.original_title.iloc[0] + ' (' + r.imdb_id.iloc[0] + ')'\n",
    "answers['2']"
   ]
  },
  {
   "cell_type": "markdown",
   "metadata": {
    "colab_type": "text",
    "id": "bapLlpW8Vp-k"
   },
   "source": [
    "# 3. Какой из фильмов самый короткий (в минутах)?\n",
    "\n",
    "\n",
    "\n"
   ]
  },
  {
   "cell_type": "code",
   "execution_count": 9,
   "metadata": {
    "colab": {},
    "colab_type": "code",
    "id": "YBxaSHuAVp-l"
   },
   "outputs": [
    {
     "output_type": "execute_result",
     "data": {
      "text/plain": [
       "'Winnie the Pooh (tt1449283)'"
      ]
     },
     "metadata": {},
     "execution_count": 9
    }
   ],
   "source": [
    "r = data[ data.runtime == data.runtime.min() ]\n",
    "answers['3'] = r.original_title.iloc[0] + ' (' + r.imdb_id.iloc[0] + ')'\n",
    "answers['3']"
   ]
  },
  {
   "cell_type": "markdown",
   "metadata": {
    "colab_type": "text",
    "id": "TfQbxbfNVp-p"
   },
   "source": [
    "# 4. Какова средняя длительность фильмов?\n"
   ]
  },
  {
   "cell_type": "code",
   "execution_count": 10,
   "metadata": {
    "colab": {},
    "colab_type": "code",
    "id": "5K6dKZYVVp-q"
   },
   "outputs": [
    {
     "output_type": "execute_result",
     "data": {
      "text/plain": [
       "110"
      ]
     },
     "metadata": {},
     "execution_count": 10
    }
   ],
   "source": [
    "round(data.runtime.mean())"
   ]
  },
  {
   "cell_type": "markdown",
   "metadata": {
    "colab_type": "text",
    "id": "r5TvbnT_Vp-u"
   },
   "source": [
    "# 5. Каково медианное значение длительности фильмов? "
   ]
  },
  {
   "cell_type": "code",
   "execution_count": 11,
   "metadata": {
    "colab": {},
    "colab_type": "code",
    "id": "iBROplKnVp-v"
   },
   "outputs": [
    {
     "output_type": "execute_result",
     "data": {
      "text/plain": [
       "107"
      ]
     },
     "metadata": {},
     "execution_count": 11
    }
   ],
   "source": [
    "round(data.runtime.median())"
   ]
  },
  {
   "cell_type": "markdown",
   "metadata": {
    "colab_type": "text",
    "id": "39P-deDSVp-y"
   },
   "source": [
    "# 6. Какой самый прибыльный фильм?\n",
    "#### Внимание! Здесь и далее под «прибылью» или «убытками» понимается разность между сборами и бюджетом фильма. (прибыль = сборы - бюджет) в нашем датасете это будет (profit = revenue - budget) "
   ]
  },
  {
   "cell_type": "code",
   "execution_count": 12,
   "metadata": {
    "colab": {},
    "colab_type": "code",
    "id": "UYZh4T9WVp-y"
   },
   "outputs": [
    {
     "output_type": "execute_result",
     "data": {
      "text/plain": [
       "'Avatar (tt0499549)'"
      ]
     },
     "metadata": {},
     "execution_count": 12
    }
   ],
   "source": [
    "# лучше код получения столбца profit вынести в Предобработку что в начале\n",
    "data['profit'] = data['revenue'] - data['budget']\n",
    "r = data[ data.profit == data.profit.max() ]\n",
    "r.original_title.iloc[0] + ' (' + r.imdb_id.iloc[0] + ')'"
   ]
  },
  {
   "cell_type": "markdown",
   "metadata": {
    "colab_type": "text",
    "id": "M99JmIX4Vp-2"
   },
   "source": [
    "# 7. Какой фильм самый убыточный? "
   ]
  },
  {
   "cell_type": "code",
   "execution_count": 13,
   "metadata": {
    "colab": {},
    "colab_type": "code",
    "id": "w-D2m4XPVp-3"
   },
   "outputs": [
    {
     "output_type": "execute_result",
     "data": {
      "text/plain": [
       "'The Lone Ranger (tt1210819)'"
      ]
     },
     "metadata": {},
     "execution_count": 13
    }
   ],
   "source": [
    "r = data[ data.profit == data.profit.min() ]\n",
    "r.original_title.iloc[0] + ' (' + r.imdb_id.iloc[0] + ')'"
   ]
  },
  {
   "cell_type": "markdown",
   "metadata": {
    "colab_type": "text",
    "id": "wEOM5ERVVp-6"
   },
   "source": [
    "# 8. У скольких фильмов из датасета объем сборов оказался выше бюджета?"
   ]
  },
  {
   "cell_type": "code",
   "execution_count": 14,
   "metadata": {
    "colab": {},
    "colab_type": "code",
    "id": "y00_7HD6Vp-7"
   },
   "outputs": [
    {
     "output_type": "execute_result",
     "data": {
      "text/plain": [
       "1478"
      ]
     },
     "metadata": {},
     "execution_count": 14
    }
   ],
   "source": [
    "len( data[ data.profit > 0 ] )"
   ]
  },
  {
   "cell_type": "markdown",
   "metadata": {
    "colab_type": "text",
    "id": "xhpspA9KVp_A"
   },
   "source": [
    "# 9. Какой фильм оказался самым кассовым в 2008 году?"
   ]
  },
  {
   "cell_type": "code",
   "execution_count": 15,
   "metadata": {
    "colab": {},
    "colab_type": "code",
    "id": "MoUyQr9RVp_B"
   },
   "outputs": [
    {
     "output_type": "execute_result",
     "data": {
      "text/plain": [
       "'The Dark Knight (tt0468569)'"
      ]
     },
     "metadata": {},
     "execution_count": 15
    }
   ],
   "source": [
    "d = data[ data.release_year == 2008 ]\n",
    "r = d[ d.revenue == d.revenue.max() ]\n",
    "r.original_title.iloc[0] + ' (' + r.imdb_id.iloc[0] + ')'"
   ]
  },
  {
   "cell_type": "markdown",
   "metadata": {
    "colab_type": "text",
    "id": "Zi4hDKidVp_F"
   },
   "source": [
    "# 10. Самый убыточный фильм за период с 2012 по 2014 г. (включительно)?\n"
   ]
  },
  {
   "cell_type": "code",
   "execution_count": 16,
   "metadata": {
    "colab": {},
    "colab_type": "code",
    "id": "XqyRmufJVp_F"
   },
   "outputs": [],
   "source": [
    "d = data[ (data.release_year >= 2012) & (data.release_year <= 2014) ]\n",
    "r = d[ d.profit == d.profit.min() ]\n",
    "r.original_title.iloc[0] + ' (' + r.imdb_id.iloc[0] + ')'\n",
    "genres = {}\n",
    "\n",
    "def genres_as_list( g ):\n",
    "    if type(g) is str:\n",
    "        return g.split('|')\n",
    "    return []\n",
    "\n",
    "for index, row in data.head(5).iterrows():\n",
    "    for g in genres_as_list(row.genres):\n",
    "        genres[ g ] = genres.get( g, [] ) + [ row.imdb_id ]\n"
   ]
  },
  {
   "cell_type": "markdown",
   "metadata": {
    "colab_type": "text",
    "id": "EA7Sa9dkVp_I"
   },
   "source": [
    "# 11. Какого жанра фильмов больше всего?"
   ]
  },
  {
   "cell_type": "code",
   "execution_count": 17,
   "metadata": {
    "colab": {},
    "colab_type": "code",
    "id": "zsJAwJ8QVp_J"
   },
   "outputs": [
    {
     "output_type": "execute_result",
     "data": {
      "text/plain": [
       "            genre    imdb_id\n",
       "0          Action  tt0369610\n",
       "1          Action  tt1392190\n",
       "2          Action  tt2488496\n",
       "3          Action  tt2820852\n",
       "4          Action  tt1340138\n",
       "...           ...        ...\n",
       "5102  Documentary  tt0361596\n",
       "5103  Documentary  tt0386032\n",
       "5104  Documentary  tt0393597\n",
       "5105      Foreign  tt1396208\n",
       "5106      Foreign  tt0192255\n",
       "\n",
       "[5107 rows x 2 columns]"
      ],
      "text/html": "<div>\n<style scoped>\n    .dataframe tbody tr th:only-of-type {\n        vertical-align: middle;\n    }\n\n    .dataframe tbody tr th {\n        vertical-align: top;\n    }\n\n    .dataframe thead th {\n        text-align: right;\n    }\n</style>\n<table border=\"1\" class=\"dataframe\">\n  <thead>\n    <tr style=\"text-align: right;\">\n      <th></th>\n      <th>genre</th>\n      <th>imdb_id</th>\n    </tr>\n  </thead>\n  <tbody>\n    <tr>\n      <th>0</th>\n      <td>Action</td>\n      <td>tt0369610</td>\n    </tr>\n    <tr>\n      <th>1</th>\n      <td>Action</td>\n      <td>tt1392190</td>\n    </tr>\n    <tr>\n      <th>2</th>\n      <td>Action</td>\n      <td>tt2488496</td>\n    </tr>\n    <tr>\n      <th>3</th>\n      <td>Action</td>\n      <td>tt2820852</td>\n    </tr>\n    <tr>\n      <th>4</th>\n      <td>Action</td>\n      <td>tt1340138</td>\n    </tr>\n    <tr>\n      <th>...</th>\n      <td>...</td>\n      <td>...</td>\n    </tr>\n    <tr>\n      <th>5102</th>\n      <td>Documentary</td>\n      <td>tt0361596</td>\n    </tr>\n    <tr>\n      <th>5103</th>\n      <td>Documentary</td>\n      <td>tt0386032</td>\n    </tr>\n    <tr>\n      <th>5104</th>\n      <td>Documentary</td>\n      <td>tt0393597</td>\n    </tr>\n    <tr>\n      <th>5105</th>\n      <td>Foreign</td>\n      <td>tt1396208</td>\n    </tr>\n    <tr>\n      <th>5106</th>\n      <td>Foreign</td>\n      <td>tt0192255</td>\n    </tr>\n  </tbody>\n</table>\n<p>5107 rows × 2 columns</p>\n</div>"
     },
     "metadata": {},
     "execution_count": 17
    }
   ],
   "source": [
    "# эту задачу тоже можно решать разными подходами, попробуй реализовать разные варианты\n",
    "# если будешь добавлять функцию - выноси ее в предобработку что в начале\n",
    "genres_dict = {}\n",
    "\n",
    "def genres_as_list( g ):\n",
    "    if type(g) is str:\n",
    "        return g.split('|')\n",
    "    return []\n",
    "\n",
    "for index, row in data.iterrows():\n",
    "    for g in genres_as_list(row.genres):\n",
    "        genres_dict[ g ] = genres_dict.get( g, [] ) + [ row.imdb_id ]\n",
    "\n",
    "gen_imdb_id  = []\n",
    "gen_name = []\n",
    "for g,imdb_ids in genres_dict.items():\n",
    "    for imdb_id in imdb_ids:\n",
    "        gen_name.append( g )\n",
    "        gen_imdb_id.append( imdb_id )\n",
    "\n",
    "genres = pd.DataFrame( {\"genre\": gen_name, \"imdb_id\": gen_imdb_id} )\n",
    "genres"
   ]
  },
  {
   "cell_type": "code",
   "execution_count": 18,
   "metadata": {},
   "outputs": [
    {
     "output_type": "execute_result",
     "data": {
      "text/plain": [
       "        genre    imdb_id\n",
       "count    5107       5107\n",
       "unique     19       1889\n",
       "top     Drama  tt1192628\n",
       "freq      782          5"
      ],
      "text/html": "<div>\n<style scoped>\n    .dataframe tbody tr th:only-of-type {\n        vertical-align: middle;\n    }\n\n    .dataframe tbody tr th {\n        vertical-align: top;\n    }\n\n    .dataframe thead th {\n        text-align: right;\n    }\n</style>\n<table border=\"1\" class=\"dataframe\">\n  <thead>\n    <tr style=\"text-align: right;\">\n      <th></th>\n      <th>genre</th>\n      <th>imdb_id</th>\n    </tr>\n  </thead>\n  <tbody>\n    <tr>\n      <th>count</th>\n      <td>5107</td>\n      <td>5107</td>\n    </tr>\n    <tr>\n      <th>unique</th>\n      <td>19</td>\n      <td>1889</td>\n    </tr>\n    <tr>\n      <th>top</th>\n      <td>Drama</td>\n      <td>tt1192628</td>\n    </tr>\n    <tr>\n      <th>freq</th>\n      <td>782</td>\n      <td>5</td>\n    </tr>\n  </tbody>\n</table>\n</div>"
     },
     "metadata": {},
     "execution_count": 18
    }
   ],
   "source": [
    "genres.describe()"
   ]
  },
  {
   "cell_type": "code",
   "execution_count": 19,
   "metadata": {},
   "outputs": [
    {
     "output_type": "execute_result",
     "data": {
      "text/plain": [
       "'Drama'"
      ]
     },
     "metadata": {},
     "execution_count": 19
    }
   ],
   "source": [
    "genres.genre.value_counts().index[0]"
   ]
  },
  {
   "cell_type": "markdown",
   "metadata": {
    "colab_type": "text",
    "id": "T9_bPWpkVp_Q"
   },
   "source": [
    "# 12. Фильмы какого жанра чаще всего становятся прибыльными? "
   ]
  },
  {
   "cell_type": "code",
   "execution_count": 7,
   "metadata": {
    "colab": {},
    "colab_type": "code",
    "id": "Tmt8MaK1Vp_R"
   },
   "outputs": [
    {
     "output_type": "execute_result",
     "data": {
      "text/plain": [
       "                      budget       revenue  runtime  vote_average  \\\n",
       "genre                                                               \n",
       "Adventure        40618250004  126688716985    46987        2543.8   \n",
       "Action           45510800535  125698700600    65511        3517.7   \n",
       "Comedy           32204000531   91978753252    69543        4055.1   \n",
       "Fantasy          21606100003   71322748916    24572        1346.2   \n",
       "Drama            31322090000   80579314159    90994        5017.9   \n",
       "Thriller         30397676652   77138223230    65704        3627.1   \n",
       "Family           21361500000   68075755385    25639        1581.6   \n",
       "Science Fiction  21354650535   62126541189    27665        1506.0   \n",
       "Animation        13390000000   44070622718    12774         875.1   \n",
       "Romance          11626000000   35618150965    33954        1906.0   \n",
       "Crime            14378380000   34639397900    35278        1953.0   \n",
       "Mystery           7823010000   19575981178    18857        1037.5   \n",
       "Horror            5187700000   15771897147    17632         987.8   \n",
       "Music             2258600000    6979098315     6892         403.5   \n",
       "War               3632900000    8037927096     7395         378.6   \n",
       "History           3648100000    6694243524     8207         405.9   \n",
       "Western           1634000000    2656632954     2365         121.4   \n",
       "Documentary         99000000     491078032      840          52.9   \n",
       "Foreign             32000000      18555988      195          11.3   \n",
       "\n",
       "                 release_year       profit  \n",
       "genre                                       \n",
       "Adventure              833334  86070466981  \n",
       "Action                1168584  80187900065  \n",
       "Comedy                1371157  59774752721  \n",
       "Fantasy                445759  49716648913  \n",
       "Drama                 1570191  49257224159  \n",
       "Thriller              1196538  46740546578  \n",
       "Family                 522012  46714255385  \n",
       "Science Fiction        498059  40771890654  \n",
       "Animation              279164  30680622718  \n",
       "Romance                618189  23992150965  \n",
       "Crime                  632372  20261017900  \n",
       "Mystery                337211  11752971178  \n",
       "Horror                 353320  10584197147  \n",
       "Music                  128534   4720498315  \n",
       "War                    116441   4405027096  \n",
       "History                124469   3046143524  \n",
       "Western                 38142   1022632954  \n",
       "Documentary             16059    392078032  \n",
       "Foreign                  4010    -13444012  "
      ],
      "text/html": "<div>\n<style scoped>\n    .dataframe tbody tr th:only-of-type {\n        vertical-align: middle;\n    }\n\n    .dataframe tbody tr th {\n        vertical-align: top;\n    }\n\n    .dataframe thead th {\n        text-align: right;\n    }\n</style>\n<table border=\"1\" class=\"dataframe\">\n  <thead>\n    <tr style=\"text-align: right;\">\n      <th></th>\n      <th>budget</th>\n      <th>revenue</th>\n      <th>runtime</th>\n      <th>vote_average</th>\n      <th>release_year</th>\n      <th>profit</th>\n    </tr>\n    <tr>\n      <th>genre</th>\n      <th></th>\n      <th></th>\n      <th></th>\n      <th></th>\n      <th></th>\n      <th></th>\n    </tr>\n  </thead>\n  <tbody>\n    <tr>\n      <th>Adventure</th>\n      <td>40618250004</td>\n      <td>126688716985</td>\n      <td>46987</td>\n      <td>2543.8</td>\n      <td>833334</td>\n      <td>86070466981</td>\n    </tr>\n    <tr>\n      <th>Action</th>\n      <td>45510800535</td>\n      <td>125698700600</td>\n      <td>65511</td>\n      <td>3517.7</td>\n      <td>1168584</td>\n      <td>80187900065</td>\n    </tr>\n    <tr>\n      <th>Comedy</th>\n      <td>32204000531</td>\n      <td>91978753252</td>\n      <td>69543</td>\n      <td>4055.1</td>\n      <td>1371157</td>\n      <td>59774752721</td>\n    </tr>\n    <tr>\n      <th>Fantasy</th>\n      <td>21606100003</td>\n      <td>71322748916</td>\n      <td>24572</td>\n      <td>1346.2</td>\n      <td>445759</td>\n      <td>49716648913</td>\n    </tr>\n    <tr>\n      <th>Drama</th>\n      <td>31322090000</td>\n      <td>80579314159</td>\n      <td>90994</td>\n      <td>5017.9</td>\n      <td>1570191</td>\n      <td>49257224159</td>\n    </tr>\n    <tr>\n      <th>Thriller</th>\n      <td>30397676652</td>\n      <td>77138223230</td>\n      <td>65704</td>\n      <td>3627.1</td>\n      <td>1196538</td>\n      <td>46740546578</td>\n    </tr>\n    <tr>\n      <th>Family</th>\n      <td>21361500000</td>\n      <td>68075755385</td>\n      <td>25639</td>\n      <td>1581.6</td>\n      <td>522012</td>\n      <td>46714255385</td>\n    </tr>\n    <tr>\n      <th>Science Fiction</th>\n      <td>21354650535</td>\n      <td>62126541189</td>\n      <td>27665</td>\n      <td>1506.0</td>\n      <td>498059</td>\n      <td>40771890654</td>\n    </tr>\n    <tr>\n      <th>Animation</th>\n      <td>13390000000</td>\n      <td>44070622718</td>\n      <td>12774</td>\n      <td>875.1</td>\n      <td>279164</td>\n      <td>30680622718</td>\n    </tr>\n    <tr>\n      <th>Romance</th>\n      <td>11626000000</td>\n      <td>35618150965</td>\n      <td>33954</td>\n      <td>1906.0</td>\n      <td>618189</td>\n      <td>23992150965</td>\n    </tr>\n    <tr>\n      <th>Crime</th>\n      <td>14378380000</td>\n      <td>34639397900</td>\n      <td>35278</td>\n      <td>1953.0</td>\n      <td>632372</td>\n      <td>20261017900</td>\n    </tr>\n    <tr>\n      <th>Mystery</th>\n      <td>7823010000</td>\n      <td>19575981178</td>\n      <td>18857</td>\n      <td>1037.5</td>\n      <td>337211</td>\n      <td>11752971178</td>\n    </tr>\n    <tr>\n      <th>Horror</th>\n      <td>5187700000</td>\n      <td>15771897147</td>\n      <td>17632</td>\n      <td>987.8</td>\n      <td>353320</td>\n      <td>10584197147</td>\n    </tr>\n    <tr>\n      <th>Music</th>\n      <td>2258600000</td>\n      <td>6979098315</td>\n      <td>6892</td>\n      <td>403.5</td>\n      <td>128534</td>\n      <td>4720498315</td>\n    </tr>\n    <tr>\n      <th>War</th>\n      <td>3632900000</td>\n      <td>8037927096</td>\n      <td>7395</td>\n      <td>378.6</td>\n      <td>116441</td>\n      <td>4405027096</td>\n    </tr>\n    <tr>\n      <th>History</th>\n      <td>3648100000</td>\n      <td>6694243524</td>\n      <td>8207</td>\n      <td>405.9</td>\n      <td>124469</td>\n      <td>3046143524</td>\n    </tr>\n    <tr>\n      <th>Western</th>\n      <td>1634000000</td>\n      <td>2656632954</td>\n      <td>2365</td>\n      <td>121.4</td>\n      <td>38142</td>\n      <td>1022632954</td>\n    </tr>\n    <tr>\n      <th>Documentary</th>\n      <td>99000000</td>\n      <td>491078032</td>\n      <td>840</td>\n      <td>52.9</td>\n      <td>16059</td>\n      <td>392078032</td>\n    </tr>\n    <tr>\n      <th>Foreign</th>\n      <td>32000000</td>\n      <td>18555988</td>\n      <td>195</td>\n      <td>11.3</td>\n      <td>4010</td>\n      <td>-13444012</td>\n    </tr>\n  </tbody>\n</table>\n</div>"
     },
     "metadata": {},
     "execution_count": 7
    }
   ],
   "source": [
    "j = genres.merge( data, on='imdb_id', how='left' )\n",
    "j = j.groupby(['genre']).sum()\n",
    "j.sort_values(['profit'],ascending=False)\n",
    "#j.groupby(['genre'])['profit'].sum().sort_values(ascending=False)"
   ]
  },
  {
   "cell_type": "code",
   "execution_count": 8,
   "metadata": {},
   "outputs": [
    {
     "output_type": "execute_result",
     "data": {
      "text/plain": [
       "                budget       revenue  runtime  vote_average  release_year  \\\n",
       "genre                                                                       \n",
       "Adventure  40618250004  126688716985    46987        2543.8        833334   \n",
       "Action     45510800535  125698700600    65511        3517.7       1168584   \n",
       "Comedy     32204000531   91978753252    69543        4055.1       1371157   \n",
       "Drama      31322090000   80579314159    90994        5017.9       1570191   \n",
       "Thriller   30397676652   77138223230    65704        3627.1       1196538   \n",
       "\n",
       "                profit  \n",
       "genre                   \n",
       "Adventure  86070466981  \n",
       "Action     80187900065  \n",
       "Comedy     59774752721  \n",
       "Drama      49257224159  \n",
       "Thriller   46740546578  "
      ],
      "text/html": "<div>\n<style scoped>\n    .dataframe tbody tr th:only-of-type {\n        vertical-align: middle;\n    }\n\n    .dataframe tbody tr th {\n        vertical-align: top;\n    }\n\n    .dataframe thead th {\n        text-align: right;\n    }\n</style>\n<table border=\"1\" class=\"dataframe\">\n  <thead>\n    <tr style=\"text-align: right;\">\n      <th></th>\n      <th>budget</th>\n      <th>revenue</th>\n      <th>runtime</th>\n      <th>vote_average</th>\n      <th>release_year</th>\n      <th>profit</th>\n    </tr>\n    <tr>\n      <th>genre</th>\n      <th></th>\n      <th></th>\n      <th></th>\n      <th></th>\n      <th></th>\n      <th></th>\n    </tr>\n  </thead>\n  <tbody>\n    <tr>\n      <th>Adventure</th>\n      <td>40618250004</td>\n      <td>126688716985</td>\n      <td>46987</td>\n      <td>2543.8</td>\n      <td>833334</td>\n      <td>86070466981</td>\n    </tr>\n    <tr>\n      <th>Action</th>\n      <td>45510800535</td>\n      <td>125698700600</td>\n      <td>65511</td>\n      <td>3517.7</td>\n      <td>1168584</td>\n      <td>80187900065</td>\n    </tr>\n    <tr>\n      <th>Comedy</th>\n      <td>32204000531</td>\n      <td>91978753252</td>\n      <td>69543</td>\n      <td>4055.1</td>\n      <td>1371157</td>\n      <td>59774752721</td>\n    </tr>\n    <tr>\n      <th>Drama</th>\n      <td>31322090000</td>\n      <td>80579314159</td>\n      <td>90994</td>\n      <td>5017.9</td>\n      <td>1570191</td>\n      <td>49257224159</td>\n    </tr>\n    <tr>\n      <th>Thriller</th>\n      <td>30397676652</td>\n      <td>77138223230</td>\n      <td>65704</td>\n      <td>3627.1</td>\n      <td>1196538</td>\n      <td>46740546578</td>\n    </tr>\n  </tbody>\n</table>\n</div>"
     },
     "metadata": {},
     "execution_count": 8
    }
   ],
   "source": [
    "#j.index in ['Drama','Comedy','Action', 'Thriller', 'Adventure'] ]\n",
    "j.loc[['Drama','Comedy','Action', 'Thriller', 'Adventure']].sort_values(['profit'],ascending=False)"
   ]
  },
  {
   "cell_type": "code",
   "execution_count": 9,
   "metadata": {},
   "outputs": [
    {
     "output_type": "execute_result",
     "data": {
      "text/plain": [
       "Drama              560\n",
       "Comedy             551\n",
       "Thriller           446\n",
       "Action             444\n",
       "Adventure          337\n",
       "Romance            242\n",
       "Crime              231\n",
       "Family             226\n",
       "Science Fiction    195\n",
       "Fantasy            188\n",
       "Horror             150\n",
       "Animation          120\n",
       "Mystery            119\n",
       "Music               47\n",
       "History             46\n",
       "War                 41\n",
       "Western             12\n",
       "Documentary          7\n",
       "Name: genre, dtype: int64"
      ]
     },
     "metadata": {},
     "execution_count": 9
    }
   ],
   "source": [
    "j = genres.merge( data, on='imdb_id', how='left' )\n",
    "j[ j.profit > 0 ].genre.value_counts()"
   ]
  },
  {
   "cell_type": "markdown",
   "metadata": {
    "colab_type": "text",
    "id": "0F23bgsDVp_U"
   },
   "source": [
    "# 13. У какого режиссера самые большие суммарные кассовые сборы?"
   ]
  },
  {
   "cell_type": "code",
   "execution_count": 10,
   "metadata": {
    "colab": {},
    "colab_type": "code",
    "id": "K6Z3J8ygVp_X"
   },
   "outputs": [
    {
     "output_type": "execute_result",
     "data": {
      "text/plain": [
       "'Peter Jackson'"
      ]
     },
     "metadata": {},
     "execution_count": 10
    }
   ],
   "source": [
    "directors_dict = {}\n",
    "\n",
    "def directors_as_list( g ):\n",
    "    if type(g) is str:\n",
    "        return g.split('|')\n",
    "    return []\n",
    "\n",
    "for index, row in data.iterrows():\n",
    "    for g in directors_as_list(row.director):\n",
    "        directors_dict[ g ] = directors_dict.get( g, [] ) + [ row.imdb_id ]\n",
    "\n",
    "dir_imdb_id  = []\n",
    "dir_name = []\n",
    "for g,imdb_ids in directors_dict.items():\n",
    "    for imdb_id in imdb_ids:\n",
    "        dir_name.append( g )\n",
    "        dir_imdb_id.append( imdb_id )\n",
    "\n",
    "directors = pd.DataFrame( {\"director1\": dir_name, \"imdb_id\": dir_imdb_id} )\n",
    "j = directors.merge( data, on='imdb_id', how='outer' )\n",
    "j.groupby(['director1'])['revenue'].sum().sort_values(ascending=False).index[0]"
   ]
  },
  {
   "cell_type": "markdown",
   "metadata": {
    "colab_type": "text",
    "id": "PsYC9FgRVp_a"
   },
   "source": [
    "# 14. Какой режисер снял больше всего фильмов в стиле Action?"
   ]
  },
  {
   "cell_type": "code",
   "execution_count": 11,
   "metadata": {
    "colab": {},
    "colab_type": "code",
    "id": "wd2M-wHeVp_b"
   },
   "outputs": [
    {
     "output_type": "execute_result",
     "data": {
      "text/plain": [
       "'Robert Rodriguez'"
      ]
     },
     "metadata": {},
     "execution_count": 11
    }
   ],
   "source": [
    "j = genres.merge( data, on='imdb_id', how='outer' )\n",
    "j = j.merge( directors, on='imdb_id', how='outer' )\n",
    "j = j[ j.genre == 'Action' ]\n",
    "j.groupby( ['director1'] )['genre'].count().sort_values(ascending=False).index[0]"
   ]
  },
  {
   "cell_type": "markdown",
   "metadata": {
    "colab_type": "text",
    "id": "PQ0KciD7Vp_f"
   },
   "source": [
    "# 15. Фильмы с каким актером принесли самые высокие кассовые сборы в 2012 году? "
   ]
  },
  {
   "cell_type": "code",
   "execution_count": 12,
   "metadata": {
    "colab": {},
    "colab_type": "code",
    "id": "aga62oeKVp_g"
   },
   "outputs": [
    {
     "output_type": "execute_result",
     "data": {
      "text/plain": [
       "               actor    imdb_id\n",
       "0        Chris Pratt  tt0369610\n",
       "1        Chris Pratt  tt2015381\n",
       "2        Chris Pratt  tt0901476\n",
       "3        Chris Pratt  tt0770703\n",
       "4        Chris Pratt  tt1210166\n",
       "...              ...        ...\n",
       "9433      Susan Ward  tt0163676\n",
       "9434    Lori Heuring  tt0163676\n",
       "9435  Matthew Settle  tt0163676\n",
       "9436   Nathan Bexton  tt0163676\n",
       "9437     Tess Harper  tt0163676\n",
       "\n",
       "[9438 rows x 2 columns]"
      ],
      "text/html": "<div>\n<style scoped>\n    .dataframe tbody tr th:only-of-type {\n        vertical-align: middle;\n    }\n\n    .dataframe tbody tr th {\n        vertical-align: top;\n    }\n\n    .dataframe thead th {\n        text-align: right;\n    }\n</style>\n<table border=\"1\" class=\"dataframe\">\n  <thead>\n    <tr style=\"text-align: right;\">\n      <th></th>\n      <th>actor</th>\n      <th>imdb_id</th>\n    </tr>\n  </thead>\n  <tbody>\n    <tr>\n      <th>0</th>\n      <td>Chris Pratt</td>\n      <td>tt0369610</td>\n    </tr>\n    <tr>\n      <th>1</th>\n      <td>Chris Pratt</td>\n      <td>tt2015381</td>\n    </tr>\n    <tr>\n      <th>2</th>\n      <td>Chris Pratt</td>\n      <td>tt0901476</td>\n    </tr>\n    <tr>\n      <th>3</th>\n      <td>Chris Pratt</td>\n      <td>tt0770703</td>\n    </tr>\n    <tr>\n      <th>4</th>\n      <td>Chris Pratt</td>\n      <td>tt1210166</td>\n    </tr>\n    <tr>\n      <th>...</th>\n      <td>...</td>\n      <td>...</td>\n    </tr>\n    <tr>\n      <th>9433</th>\n      <td>Susan Ward</td>\n      <td>tt0163676</td>\n    </tr>\n    <tr>\n      <th>9434</th>\n      <td>Lori Heuring</td>\n      <td>tt0163676</td>\n    </tr>\n    <tr>\n      <th>9435</th>\n      <td>Matthew Settle</td>\n      <td>tt0163676</td>\n    </tr>\n    <tr>\n      <th>9436</th>\n      <td>Nathan Bexton</td>\n      <td>tt0163676</td>\n    </tr>\n    <tr>\n      <th>9437</th>\n      <td>Tess Harper</td>\n      <td>tt0163676</td>\n    </tr>\n  </tbody>\n</table>\n<p>9438 rows × 2 columns</p>\n</div>"
     },
     "metadata": {},
     "execution_count": 12
    }
   ],
   "source": [
    "actor_dict = {}\n",
    "\n",
    "def cast_as_list( g ):\n",
    "    if type(g) is str:\n",
    "        return g.split('|')\n",
    "    return []\n",
    "\n",
    "for index, row in data.iterrows():\n",
    "    for g in cast_as_list(row.cast):\n",
    "        actor_dict[ g ] = actor_dict.get( g, [] ) + [ row.imdb_id ]\n",
    "\n",
    "act_imdb_id  = []\n",
    "act_name = []\n",
    "for g,imdb_ids in actor_dict.items():\n",
    "    for imdb_id in imdb_ids:\n",
    "        act_name.append( g )\n",
    "        act_imdb_id.append( imdb_id )\n",
    "\n",
    "actors = pd.DataFrame( {\"actor\": act_name, \"imdb_id\": act_imdb_id} )\n",
    "actors"
   ]
  },
  {
   "cell_type": "code",
   "execution_count": 393,
   "metadata": {},
   "outputs": [
    {
     "output_type": "execute_result",
     "data": {
      "text/plain": [
       "'Chris Hemsworth'"
      ]
     },
     "metadata": {},
     "execution_count": 393
    }
   ],
   "source": [
    "j = actors.merge( data, on='imdb_id', how='outer' )\n",
    "j = j[ j.release_year == 2012 ]\n",
    "j.groupby(['actor'])['revenue'].sum().sort_values(ascending=False).index[0]"
   ]
  },
  {
   "cell_type": "markdown",
   "metadata": {
    "colab_type": "text",
    "id": "mWHyyL7QVp_j"
   },
   "source": [
    "# 16. Какой актер снялся в большем количестве высокобюджетных фильмов?"
   ]
  },
  {
   "cell_type": "code",
   "execution_count": 13,
   "metadata": {
    "colab": {},
    "colab_type": "code",
    "id": "qQtmHKTFVp_k"
   },
   "outputs": [
    {
     "output_type": "execute_result",
     "data": {
      "text/plain": [
       "Index(['Matt Damon', 'Adam Sandler', 'Angelina Jolie', 'Tom Cruise',\n",
       "       'Eddie Murphy', 'Samuel L. Jackson', 'Russell Crowe', 'Jamie Foxx',\n",
       "       'Mark Wahlberg', 'Ben Stiller',\n",
       "       ...\n",
       "       'Jena Malone', 'Jenna Elfman', 'Jenna Stern', 'Jennifer Beals',\n",
       "       'Jennifer Cody', 'Jennifer Hudson', 'Jennifer Jason Leigh',\n",
       "       'Jennifer Saunders', 'Jennifer Tilly', 'Ã“lafur Darri Ã“lafsson'],\n",
       "      dtype='object', name='actor', length=1505)"
      ]
     },
     "metadata": {},
     "execution_count": 13
    }
   ],
   "source": [
    "j = actors.merge( data, on='imdb_id', how='outer' )\n",
    "# в фильмах, где бюджет выше среднего по данной выборке. \n",
    "j = j[ j.budget > j.budget.mean() ]\n",
    "j.groupby('actor').count().sort_values(['imdb_id'],ascending=False).index"
   ]
  },
  {
   "cell_type": "markdown",
   "metadata": {
    "colab_type": "text",
    "id": "NIh6AaW5Vp_n"
   },
   "source": [
    "# 17. В фильмах какого жанра больше всего снимался Nicolas Cage? "
   ]
  },
  {
   "cell_type": "code",
   "execution_count": 14,
   "metadata": {
    "colab": {},
    "colab_type": "code",
    "id": "H74SJDIBVp_n"
   },
   "outputs": [
    {
     "output_type": "execute_result",
     "data": {
      "text/plain": [
       "                 actor\n",
       "genre                 \n",
       "Action              17\n",
       "Thriller            15\n",
       "Drama               12\n",
       "Crime               10\n",
       "Fantasy              8\n",
       "Adventure            7\n",
       "Comedy               6\n",
       "Science Fiction      4\n",
       "Animation            3\n",
       "Family               3\n",
       "Mystery              3\n",
       "History              2\n",
       "Horror               1\n",
       "Romance              1\n",
       "War                  1"
      ],
      "text/html": "<div>\n<style scoped>\n    .dataframe tbody tr th:only-of-type {\n        vertical-align: middle;\n    }\n\n    .dataframe tbody tr th {\n        vertical-align: top;\n    }\n\n    .dataframe thead th {\n        text-align: right;\n    }\n</style>\n<table border=\"1\" class=\"dataframe\">\n  <thead>\n    <tr style=\"text-align: right;\">\n      <th></th>\n      <th>actor</th>\n    </tr>\n    <tr>\n      <th>genre</th>\n      <th></th>\n    </tr>\n  </thead>\n  <tbody>\n    <tr>\n      <th>Action</th>\n      <td>17</td>\n    </tr>\n    <tr>\n      <th>Thriller</th>\n      <td>15</td>\n    </tr>\n    <tr>\n      <th>Drama</th>\n      <td>12</td>\n    </tr>\n    <tr>\n      <th>Crime</th>\n      <td>10</td>\n    </tr>\n    <tr>\n      <th>Fantasy</th>\n      <td>8</td>\n    </tr>\n    <tr>\n      <th>Adventure</th>\n      <td>7</td>\n    </tr>\n    <tr>\n      <th>Comedy</th>\n      <td>6</td>\n    </tr>\n    <tr>\n      <th>Science Fiction</th>\n      <td>4</td>\n    </tr>\n    <tr>\n      <th>Animation</th>\n      <td>3</td>\n    </tr>\n    <tr>\n      <th>Family</th>\n      <td>3</td>\n    </tr>\n    <tr>\n      <th>Mystery</th>\n      <td>3</td>\n    </tr>\n    <tr>\n      <th>History</th>\n      <td>2</td>\n    </tr>\n    <tr>\n      <th>Horror</th>\n      <td>1</td>\n    </tr>\n    <tr>\n      <th>Romance</th>\n      <td>1</td>\n    </tr>\n    <tr>\n      <th>War</th>\n      <td>1</td>\n    </tr>\n  </tbody>\n</table>\n</div>"
     },
     "metadata": {},
     "execution_count": 14
    }
   ],
   "source": [
    "j = actors.merge( genres, on='imdb_id', how='outer' )\n",
    "j = j[ j.actor=='Nicolas Cage' ].drop(['imdb_id'], axis=1)\n",
    "j = j.groupby(['genre']).count().sort_values(['actor'],ascending=False)\n",
    "j"
   ]
  },
  {
   "cell_type": "code",
   "execution_count": 396,
   "metadata": {},
   "outputs": [
    {
     "output_type": "execute_result",
     "data": {
      "text/plain": [
       "'Action'"
      ]
     },
     "metadata": {},
     "execution_count": 396
    }
   ],
   "source": [
    "j.index[0]"
   ]
  },
  {
   "cell_type": "markdown",
   "metadata": {
    "colab_type": "text",
    "id": "RqOmPRfWVp_q"
   },
   "source": [
    "# 18. Самый убыточный фильм от Paramount Pictures"
   ]
  },
  {
   "cell_type": "code",
   "execution_count": 15,
   "metadata": {
    "colab": {},
    "colab_type": "code",
    "id": "9E_B0Y96Vp_r"
   },
   "outputs": [
    {
     "output_type": "execute_result",
     "data": {
      "text/plain": [
       "Universal Pictures                                    173\n",
       "Warner Bros.                                          168\n",
       "Paramount Pictures                                    122\n",
       "Columbia Pictures                                     117\n",
       "Twentieth Century Fox Film Corporation                109\n",
       "                                                     ... \n",
       "Studio Babelsberg StudioBabelsberg Motion Pictures      1\n",
       "ApolloProScreen Filmproduktion                          1\n",
       "Apollo Media                                            1\n",
       "Yer Dead Productions                                    1\n",
       "Fellowship Adventure Group                              1\n",
       "Name: prod, Length: 1771, dtype: int64"
      ]
     },
     "metadata": {},
     "execution_count": 15
    }
   ],
   "source": [
    "prod_dict = {}\n",
    "\n",
    "def prod_as_list( g ):\n",
    "    if type(g) is str:\n",
    "        return g.split('|')\n",
    "    return []\n",
    "\n",
    "for index, row in data.iterrows():\n",
    "    for g in prod_as_list(row.production_companies):\n",
    "        prod_dict[ g ] = prod_dict.get( g, [] ) + [ row.imdb_id ]\n",
    "\n",
    "prod_imdb_id  = []\n",
    "prod_name = []\n",
    "for g,imdb_ids in prod_dict.items():\n",
    "    for imdb_id in imdb_ids:\n",
    "        prod_name.append( g )\n",
    "        prod_imdb_id.append( imdb_id )\n",
    "\n",
    "prods = pd.DataFrame( {\"prod\": prod_name, \"imdb_id\": prod_imdb_id} )\n",
    "\n",
    "prods['prod'].value_counts()"
   ]
  },
  {
   "cell_type": "code",
   "execution_count": 398,
   "metadata": {},
   "outputs": [
    {
     "output_type": "execute_result",
     "data": {
      "text/plain": [
       "                   prod    imdb_id     budget   revenue        original_title  \\\n",
       "583  Paramount Pictures  tt0267626  100000000  35168966  K-19: The Widowmaker   \n",
       "\n",
       "                                                  cast         director  \\\n",
       "583  Harrison Ford|Liam Neeson|Peter Sarsgaard|Joss...  Kathryn Bigelow   \n",
       "\n",
       "                      tagline  \\\n",
       "583  Fate has found its hero.   \n",
       "\n",
       "                                              overview  runtime  \\\n",
       "583  When Russia's first nuclear submarine malfunct...      138   \n",
       "\n",
       "                     genres  \\\n",
       "583  Thriller|Drama|History   \n",
       "\n",
       "                                  production_companies release_date  \\\n",
       "583  Paramount Pictures|Intermedia Films|National G...    7/19/2002   \n",
       "\n",
       "     vote_average  release_year    profit  year  month  date  \n",
       "583           6.0          2002 -64831034  2002      7    19  "
      ],
      "text/html": "<div>\n<style scoped>\n    .dataframe tbody tr th:only-of-type {\n        vertical-align: middle;\n    }\n\n    .dataframe tbody tr th {\n        vertical-align: top;\n    }\n\n    .dataframe thead th {\n        text-align: right;\n    }\n</style>\n<table border=\"1\" class=\"dataframe\">\n  <thead>\n    <tr style=\"text-align: right;\">\n      <th></th>\n      <th>prod</th>\n      <th>imdb_id</th>\n      <th>budget</th>\n      <th>revenue</th>\n      <th>original_title</th>\n      <th>cast</th>\n      <th>director</th>\n      <th>tagline</th>\n      <th>overview</th>\n      <th>runtime</th>\n      <th>genres</th>\n      <th>production_companies</th>\n      <th>release_date</th>\n      <th>vote_average</th>\n      <th>release_year</th>\n      <th>profit</th>\n      <th>year</th>\n      <th>month</th>\n      <th>date</th>\n    </tr>\n  </thead>\n  <tbody>\n    <tr>\n      <th>583</th>\n      <td>Paramount Pictures</td>\n      <td>tt0267626</td>\n      <td>100000000</td>\n      <td>35168966</td>\n      <td>K-19: The Widowmaker</td>\n      <td>Harrison Ford|Liam Neeson|Peter Sarsgaard|Joss...</td>\n      <td>Kathryn Bigelow</td>\n      <td>Fate has found its hero.</td>\n      <td>When Russia's first nuclear submarine malfunct...</td>\n      <td>138</td>\n      <td>Thriller|Drama|History</td>\n      <td>Paramount Pictures|Intermedia Films|National G...</td>\n      <td>7/19/2002</td>\n      <td>6.0</td>\n      <td>2002</td>\n      <td>-64831034</td>\n      <td>2002</td>\n      <td>7</td>\n      <td>19</td>\n    </tr>\n  </tbody>\n</table>\n</div>"
     },
     "metadata": {},
     "execution_count": 398
    }
   ],
   "source": [
    "j = prods.merge( data, on='imdb_id', how='left' ).query( \"prod == 'Paramount Pictures' \" )\n",
    "j[ j.profit == j.profit.min() ]"
   ]
  },
  {
   "cell_type": "markdown",
   "metadata": {
    "colab_type": "text",
    "id": "vS8Ur6ddVp_u"
   },
   "source": [
    "# 19. Какой год стал самым успешным по суммарным кассовым сборам?"
   ]
  },
  {
   "cell_type": "code",
   "execution_count": 16,
   "metadata": {
    "colab": {},
    "colab_type": "code",
    "id": "Dnbt4GdIVp_v"
   },
   "outputs": [
    {
     "output_type": "execute_result",
     "data": {
      "text/plain": [
       "                  budget      revenue  runtime  vote_average       profit\n",
       "release_year                                                             \n",
       "2015          6780630004  25449202382    13355         755.2  18668572378\n",
       "2014          7008050000  23405862953    13444         774.5  16397812953\n",
       "2013          7970620000  23213799791    15039         846.9  15243179791\n",
       "2012          7002000000  23079001687    12145         682.1  16077001687\n",
       "2011          7946550531  22676791872    15355         868.5  14730241341\n",
       "2010          7540000000  21071204961    13592         762.1  13531204961\n",
       "2009          6838046652  20261791024    14187         800.2  13423744372\n",
       "2008          6588900000  18252781990    12979         731.1  11663881990\n",
       "2007          6596495000  18162406801    14305         809.3  11565911801\n",
       "2006          6083965000  14775042320    13952         775.4   8691077320\n",
       "2005          6327500000  15309425558    13387         733.5   8981925558\n",
       "2004          6029250000  15663430720    12014         671.3   9634180720\n",
       "2003          5117300000  14346123312    10623         574.4   9228823312\n",
       "2002          5134000000  14136361487    11528         653.1   9002361487\n",
       "2001          5067150000  13017764865    11284         619.8   7950614865\n",
       "2000          4562700000  10664099805     9956         542.5   6101399805"
      ],
      "text/html": "<div>\n<style scoped>\n    .dataframe tbody tr th:only-of-type {\n        vertical-align: middle;\n    }\n\n    .dataframe tbody tr th {\n        vertical-align: top;\n    }\n\n    .dataframe thead th {\n        text-align: right;\n    }\n</style>\n<table border=\"1\" class=\"dataframe\">\n  <thead>\n    <tr style=\"text-align: right;\">\n      <th></th>\n      <th>budget</th>\n      <th>revenue</th>\n      <th>runtime</th>\n      <th>vote_average</th>\n      <th>profit</th>\n    </tr>\n    <tr>\n      <th>release_year</th>\n      <th></th>\n      <th></th>\n      <th></th>\n      <th></th>\n      <th></th>\n    </tr>\n  </thead>\n  <tbody>\n    <tr>\n      <th>2015</th>\n      <td>6780630004</td>\n      <td>25449202382</td>\n      <td>13355</td>\n      <td>755.2</td>\n      <td>18668572378</td>\n    </tr>\n    <tr>\n      <th>2014</th>\n      <td>7008050000</td>\n      <td>23405862953</td>\n      <td>13444</td>\n      <td>774.5</td>\n      <td>16397812953</td>\n    </tr>\n    <tr>\n      <th>2013</th>\n      <td>7970620000</td>\n      <td>23213799791</td>\n      <td>15039</td>\n      <td>846.9</td>\n      <td>15243179791</td>\n    </tr>\n    <tr>\n      <th>2012</th>\n      <td>7002000000</td>\n      <td>23079001687</td>\n      <td>12145</td>\n      <td>682.1</td>\n      <td>16077001687</td>\n    </tr>\n    <tr>\n      <th>2011</th>\n      <td>7946550531</td>\n      <td>22676791872</td>\n      <td>15355</td>\n      <td>868.5</td>\n      <td>14730241341</td>\n    </tr>\n    <tr>\n      <th>2010</th>\n      <td>7540000000</td>\n      <td>21071204961</td>\n      <td>13592</td>\n      <td>762.1</td>\n      <td>13531204961</td>\n    </tr>\n    <tr>\n      <th>2009</th>\n      <td>6838046652</td>\n      <td>20261791024</td>\n      <td>14187</td>\n      <td>800.2</td>\n      <td>13423744372</td>\n    </tr>\n    <tr>\n      <th>2008</th>\n      <td>6588900000</td>\n      <td>18252781990</td>\n      <td>12979</td>\n      <td>731.1</td>\n      <td>11663881990</td>\n    </tr>\n    <tr>\n      <th>2007</th>\n      <td>6596495000</td>\n      <td>18162406801</td>\n      <td>14305</td>\n      <td>809.3</td>\n      <td>11565911801</td>\n    </tr>\n    <tr>\n      <th>2006</th>\n      <td>6083965000</td>\n      <td>14775042320</td>\n      <td>13952</td>\n      <td>775.4</td>\n      <td>8691077320</td>\n    </tr>\n    <tr>\n      <th>2005</th>\n      <td>6327500000</td>\n      <td>15309425558</td>\n      <td>13387</td>\n      <td>733.5</td>\n      <td>8981925558</td>\n    </tr>\n    <tr>\n      <th>2004</th>\n      <td>6029250000</td>\n      <td>15663430720</td>\n      <td>12014</td>\n      <td>671.3</td>\n      <td>9634180720</td>\n    </tr>\n    <tr>\n      <th>2003</th>\n      <td>5117300000</td>\n      <td>14346123312</td>\n      <td>10623</td>\n      <td>574.4</td>\n      <td>9228823312</td>\n    </tr>\n    <tr>\n      <th>2002</th>\n      <td>5134000000</td>\n      <td>14136361487</td>\n      <td>11528</td>\n      <td>653.1</td>\n      <td>9002361487</td>\n    </tr>\n    <tr>\n      <th>2001</th>\n      <td>5067150000</td>\n      <td>13017764865</td>\n      <td>11284</td>\n      <td>619.8</td>\n      <td>7950614865</td>\n    </tr>\n    <tr>\n      <th>2000</th>\n      <td>4562700000</td>\n      <td>10664099805</td>\n      <td>9956</td>\n      <td>542.5</td>\n      <td>6101399805</td>\n    </tr>\n  </tbody>\n</table>\n</div>"
     },
     "metadata": {},
     "execution_count": 16
    }
   ],
   "source": [
    "d = data.groupby(['release_year']).sum().sort_values(['release_year'],ascending=False)\n",
    "d"
   ]
  },
  {
   "cell_type": "code",
   "execution_count": 358,
   "metadata": {},
   "outputs": [
    {
     "output_type": "execute_result",
     "data": {
      "text/plain": [
       "2015"
      ]
     },
     "metadata": {},
     "execution_count": 358
    }
   ],
   "source": [
    "d.index[0]"
   ]
  },
  {
   "source": [
    "# 20. Какой самый прибыльный год для студии Warner Bros?"
   ],
   "cell_type": "markdown",
   "metadata": {
    "colab_type": "text",
    "id": "JAzJh4QAVp_z"
   }
  },
  {
   "cell_type": "code",
   "execution_count": 17,
   "metadata": {
    "colab": {},
    "colab_type": "code",
    "id": "wgVu02DEVp_0"
   },
   "outputs": [
    {
     "output_type": "stream",
     "name": "stdout",
     "text": [
      "<class 'pandas.core.frame.DataFrame'>\nInt64Index: 6078 entries, 0 to 6077\nData columns (total 16 columns):\n #   Column                Non-Null Count  Dtype  \n---  ------                --------------  -----  \n 0   prd                   6078 non-null   object \n 1   imdb_id               6078 non-null   object \n 2   budget                6078 non-null   int64  \n 3   revenue               6078 non-null   int64  \n 4   original_title        6078 non-null   object \n 5   cast                  6078 non-null   object \n 6   director              6078 non-null   object \n 7   tagline               6078 non-null   object \n 8   overview              6078 non-null   object \n 9   runtime               6078 non-null   int64  \n 10  genres                6078 non-null   object \n 11  production_companies  6078 non-null   object \n 12  release_date          6078 non-null   object \n 13  vote_average          6078 non-null   float64\n 14  release_year          6078 non-null   int64  \n 15  profit                6078 non-null   int64  \ndtypes: float64(1), int64(5), object(10)\nmemory usage: 807.2+ KB\n"
     ]
    }
   ],
   "source": [
    "prods = pd.DataFrame( {\"prd\": prod_name, \"imdb_id\": prod_imdb_id} )\n",
    "j = prods.merge( data, on='imdb_id', how='left' )\n",
    "j.info()"
   ]
  },
  {
   "cell_type": "code",
   "execution_count": 18,
   "metadata": {},
   "outputs": [
    {
     "output_type": "execute_result",
     "data": {
      "text/plain": [
       "Warner Bros.                                                                                                                       5\n",
       "Bel Air Entertainment|Warner Bros.                                                                                                 3\n",
       "DreamWorks SKG|Amblin Entertainment|Malpaso Productions|Warner Bros.                                                               2\n",
       "Warner Bros.|Heyday Films                                                                                                          2\n",
       "Silver Pictures|Warner Bros.                                                                                                       2\n",
       "                                                                                                                                  ..\n",
       "Village Roadshow Pictures|Section Eight|Spring Creek Productions|Warner Bros.                                                      1\n",
       "Village Roadshow Pictures|NPV Entertainment|Warner Bros.|Tribeca Productions|Overbrook Entertainment                               1\n",
       "Paramount Pictures|Legendary Pictures|Warner Bros.|Syncopy|Lynda Obst Productions                                                  1\n",
       "Lonely Film Productions GmbH & Co. KG.|Warner Bros. Animation|Warner Bros.|Goldmann Pictures|Baltimore Spring Creek Productions    1\n",
       "Warner Bros.|Closest to the Hole Productions                                                                                       1\n",
       "Name: production_companies, Length: 159, dtype: int64"
      ]
     },
     "metadata": {},
     "execution_count": 18
    }
   ],
   "source": [
    "j[ j['prd'] == 'Warner Bros.' ].production_companies.value_counts()"
   ]
  },
  {
   "cell_type": "code",
   "execution_count": 20,
   "metadata": {},
   "outputs": [
    {
     "output_type": "execute_result",
     "data": {
      "text/plain": [
       "Warner Bros.                              168\n",
       "Warner Bros. Pictures                      13\n",
       "Warner Bros. Animation                      5\n",
       "Warner Bros. Interactive Entertainment      1\n",
       "Name: prd, dtype: int64"
      ]
     },
     "metadata": {},
     "execution_count": 20
    }
   ],
   "source": [
    "j[ j['prd'].str.contains('Warner Bros') ].prd.value_counts()"
   ]
  },
  {
   "cell_type": "code",
   "execution_count": 19,
   "metadata": {},
   "outputs": [
    {
     "output_type": "execute_result",
     "data": {
      "text/plain": [
       "Warner Bros.    168\n",
       "Name: prd, dtype: int64"
      ]
     },
     "metadata": {},
     "execution_count": 19
    }
   ],
   "source": [
    "j[ j['prd'] == 'Warner Bros.' ].prd.value_counts()"
   ]
  },
  {
   "cell_type": "code",
   "execution_count": 21,
   "metadata": {},
   "outputs": [
    {
     "output_type": "execute_result",
     "data": {
      "text/plain": [
       "release_year\n",
       "2014    2292949646\n",
       "2007    2201675217\n",
       "2008    2134595031\n",
       "2010    1974712985\n",
       "2011    1871393682\n",
       "2003    1844008221\n",
       "2009    1822454136\n",
       "2013    1636453400\n",
       "2004    1631933725\n",
       "2005    1551980298\n",
       "2001    1282142579\n",
       "2012    1258020056\n",
       "2002    1022709901\n",
       "2015     870368348\n",
       "2006     625351872\n",
       "2000     452631386\n",
       "Name: profit, dtype: int64"
      ]
     },
     "metadata": {},
     "execution_count": 21
    }
   ],
   "source": [
    "j = j[ j['prd'].str.contains('Warner Bros') ].groupby('release_year')['profit'].sum().sort_values(ascending=False)\n",
    "j"
   ]
  },
  {
   "cell_type": "code",
   "execution_count": 22,
   "metadata": {},
   "outputs": [
    {
     "output_type": "execute_result",
     "data": {
      "text/plain": [
       "release_year\n",
       "2014    2292949646\n",
       "2008    2134595031\n",
       "2010    1974712985\n",
       "2012    1258020056\n",
       "2015     870368348\n",
       "Name: profit, dtype: int64"
      ]
     },
     "metadata": {},
     "execution_count": 22
    }
   ],
   "source": [
    "j.loc[[2014,2008,2012,2010,2015]].sort_values(ascending=False)"
   ]
  },
  {
   "cell_type": "markdown",
   "metadata": {
    "colab_type": "text",
    "id": "8Im1S2HRVp_4"
   },
   "source": [
    "# 21. В каком месяце за все годы суммарно вышло больше всего фильмов?"
   ]
  },
  {
   "cell_type": "code",
   "execution_count": 25,
   "metadata": {
    "colab": {},
    "colab_type": "code",
    "id": "lev6TH7gVp_4"
   },
   "outputs": [
    {
     "output_type": "execute_result",
     "data": {
      "text/plain": [
       "     imdb_id     budget     revenue      original_title  \\\n",
       "0  tt0369610  150000000  1513528810      Jurassic World   \n",
       "1  tt1392190  150000000   378436354  Mad Max: Fury Road   \n",
       "\n",
       "                                                cast         director  \\\n",
       "0  Chris Pratt|Bryce Dallas Howard|Irrfan Khan|Vi...  Colin Trevorrow   \n",
       "1  Tom Hardy|Charlize Theron|Hugh Keays-Byrne|Nic...    George Miller   \n",
       "\n",
       "              tagline                                           overview  \\\n",
       "0   The park is open.  Twenty-two years after the events of Jurassic ...   \n",
       "1  What a Lovely Day.  An apocalyptic story set in the furthest reach...   \n",
       "\n",
       "   runtime                                     genres  \\\n",
       "0      124  Action|Adventure|Science Fiction|Thriller   \n",
       "1      120  Action|Adventure|Science Fiction|Thriller   \n",
       "\n",
       "                                production_companies release_date  \\\n",
       "0  Universal Studios|Amblin Entertainment|Legenda...     6/9/2015   \n",
       "1  Village Roadshow Pictures|Kennedy Miller Produ...    5/13/2015   \n",
       "\n",
       "   vote_average  release_year      profit  year  month  date  \n",
       "0           6.5          2015  1363528810  2015      6     9  \n",
       "1           7.1          2015   228436354  2015      5    13  "
      ],
      "text/html": "<div>\n<style scoped>\n    .dataframe tbody tr th:only-of-type {\n        vertical-align: middle;\n    }\n\n    .dataframe tbody tr th {\n        vertical-align: top;\n    }\n\n    .dataframe thead th {\n        text-align: right;\n    }\n</style>\n<table border=\"1\" class=\"dataframe\">\n  <thead>\n    <tr style=\"text-align: right;\">\n      <th></th>\n      <th>imdb_id</th>\n      <th>budget</th>\n      <th>revenue</th>\n      <th>original_title</th>\n      <th>cast</th>\n      <th>director</th>\n      <th>tagline</th>\n      <th>overview</th>\n      <th>runtime</th>\n      <th>genres</th>\n      <th>production_companies</th>\n      <th>release_date</th>\n      <th>vote_average</th>\n      <th>release_year</th>\n      <th>profit</th>\n      <th>year</th>\n      <th>month</th>\n      <th>date</th>\n    </tr>\n  </thead>\n  <tbody>\n    <tr>\n      <th>0</th>\n      <td>tt0369610</td>\n      <td>150000000</td>\n      <td>1513528810</td>\n      <td>Jurassic World</td>\n      <td>Chris Pratt|Bryce Dallas Howard|Irrfan Khan|Vi...</td>\n      <td>Colin Trevorrow</td>\n      <td>The park is open.</td>\n      <td>Twenty-two years after the events of Jurassic ...</td>\n      <td>124</td>\n      <td>Action|Adventure|Science Fiction|Thriller</td>\n      <td>Universal Studios|Amblin Entertainment|Legenda...</td>\n      <td>6/9/2015</td>\n      <td>6.5</td>\n      <td>2015</td>\n      <td>1363528810</td>\n      <td>2015</td>\n      <td>6</td>\n      <td>9</td>\n    </tr>\n    <tr>\n      <th>1</th>\n      <td>tt1392190</td>\n      <td>150000000</td>\n      <td>378436354</td>\n      <td>Mad Max: Fury Road</td>\n      <td>Tom Hardy|Charlize Theron|Hugh Keays-Byrne|Nic...</td>\n      <td>George Miller</td>\n      <td>What a Lovely Day.</td>\n      <td>An apocalyptic story set in the furthest reach...</td>\n      <td>120</td>\n      <td>Action|Adventure|Science Fiction|Thriller</td>\n      <td>Village Roadshow Pictures|Kennedy Miller Produ...</td>\n      <td>5/13/2015</td>\n      <td>7.1</td>\n      <td>2015</td>\n      <td>228436354</td>\n      <td>2015</td>\n      <td>5</td>\n      <td>13</td>\n    </tr>\n  </tbody>\n</table>\n</div>"
     },
     "metadata": {},
     "execution_count": 25
    }
   ],
   "source": [
    "def date_str_to_values( s ):\n",
    "    nums = list(map( lambda x:int(x), s.split('/') ))\n",
    "    return { 'y':nums[2], 'm':nums[0], 'd':nums[1] }\n",
    "\n",
    "# date_str_to_values('5/13/2015') # {'y': 2015, 'm': 13, 'd': 5}\n",
    "\n",
    "data['year'] = data['release_date'].apply( lambda x: date_str_to_values(x)['y'] )\n",
    "data['month'] = data['release_date'].apply( lambda x: date_str_to_values(x)['m'] )\n",
    "data['date'] = data['release_date'].apply( lambda x: date_str_to_values(x)['d'] )\n",
    "data.head(2)"
   ]
  },
  {
   "cell_type": "code",
   "execution_count": 366,
   "metadata": {},
   "outputs": [
    {
     "output_type": "execute_result",
     "data": {
      "text/plain": [
       "9"
      ]
     },
     "metadata": {},
     "execution_count": 366
    }
   ],
   "source": [
    "data.groupby(['month']).count().sort_values(['imdb_id'],ascending=False).index[0]"
   ]
  },
  {
   "cell_type": "markdown",
   "metadata": {
    "colab_type": "text",
    "id": "uAJsZ_NeVp_7"
   },
   "source": [
    "# 22. Сколько суммарно вышло фильмов летом? (за июнь, июль, август)"
   ]
  },
  {
   "cell_type": "code",
   "execution_count": 367,
   "metadata": {
    "colab": {},
    "colab_type": "code",
    "id": "Aa-hEREoVp_8"
   },
   "outputs": [
    {
     "output_type": "execute_result",
     "data": {
      "text/plain": [
       "450"
      ]
     },
     "metadata": {},
     "execution_count": 367
    }
   ],
   "source": [
    "data.groupby(['month']).count().loc[ [8,7,6] ].imdb_id.sum()"
   ]
  },
  {
   "cell_type": "markdown",
   "metadata": {
    "colab_type": "text",
    "id": "G94ppOY1VqAA"
   },
   "source": [
    "# 23. Для какого режиссера зима – самое продуктивное время года? "
   ]
  },
  {
   "cell_type": "code",
   "execution_count": 32,
   "metadata": {
    "colab": {},
    "colab_type": "code",
    "id": "RhNTsamuVqAB"
   },
   "outputs": [
    {
     "output_type": "execute_result",
     "data": {
      "text/plain": [
       "director1\n",
       "Peter Jackson            7\n",
       "Steven Soderbergh        6\n",
       "Clint Eastwood           6\n",
       "Martin Scorsese          4\n",
       "Adam Shankman            4\n",
       "                        ..\n",
       "Matt Bettinelli-Olpin    1\n",
       "Matt Reeves              1\n",
       "Matthew O'Callaghan      1\n",
       "Matthew Vaughn           1\n",
       "Jon Avnet                1\n",
       "Name: imdb_id, Length: 358, dtype: int64"
      ]
     },
     "metadata": {},
     "execution_count": 32
    }
   ],
   "source": [
    "j = directors.merge( data, on='imdb_id', how='left' )\n",
    "j['winter'] = j['month'].apply( lambda x: x in [1,2,12])\n",
    "j[ j['winter'] ].groupby('director1')['imdb_id'].count().sort_values(ascending=False)\n",
    "#j.groupby(['director1','month']).count().sort_values(['director1','imdb_id'],ascending=False)"
   ]
  },
  {
   "cell_type": "markdown",
   "metadata": {
    "colab_type": "text",
    "id": "RBo0JVjVVqAF"
   },
   "source": [
    "# 24. Какая студия дает самые длинные названия своим фильмам по количеству символов?"
   ]
  },
  {
   "cell_type": "code",
   "execution_count": 37,
   "metadata": {
    "colab": {},
    "colab_type": "code",
    "id": "QRGS8L0iVqAG"
   },
   "outputs": [
    {
     "output_type": "execute_result",
     "data": {
      "text/plain": [
       "                                         prd    imdb_id    budget    revenue  \\\n",
       "738   Twentieth Century Fox Film Corporation  tt0443453  18000000  261572744   \n",
       "5782                 Four By Two Productions  tt0443453  18000000  261572744   \n",
       "\n",
       "                                         original_title  \\\n",
       "738   Borat: Cultural Learnings of America for Make ...   \n",
       "5782  Borat: Cultural Learnings of America for Make ...   \n",
       "\n",
       "                                                   cast       director  \\\n",
       "738   Sacha Baron Cohen|Ken Davitian|Luenell|Pamela ...  Larry Charles   \n",
       "5782  Sacha Baron Cohen|Ken Davitian|Luenell|Pamela ...  Larry Charles   \n",
       "\n",
       "                             tagline  \\\n",
       "738   Come to Kazakhstan, it's nice!   \n",
       "5782  Come to Kazakhstan, it's nice!   \n",
       "\n",
       "                                               overview  runtime  genres  \\\n",
       "738   Kazakh journalist Borat Sagdiyev travels to Am...       82  Comedy   \n",
       "5782  Kazakh journalist Borat Sagdiyev travels to Am...       82  Comedy   \n",
       "\n",
       "                                   production_companies release_date  \\\n",
       "738   Twentieth Century Fox Film Corporation|Four By...    11/2/2006   \n",
       "5782  Twentieth Century Fox Film Corporation|Four By...    11/2/2006   \n",
       "\n",
       "      vote_average  release_year     profit  year  month  date  \\\n",
       "738            6.4          2006  243572744  2006     11     2   \n",
       "5782           6.4          2006  243572744  2006     11     2   \n",
       "\n",
       "      original_title_len  \n",
       "738                   83  \n",
       "5782                  83  "
      ],
      "text/html": "<div>\n<style scoped>\n    .dataframe tbody tr th:only-of-type {\n        vertical-align: middle;\n    }\n\n    .dataframe tbody tr th {\n        vertical-align: top;\n    }\n\n    .dataframe thead th {\n        text-align: right;\n    }\n</style>\n<table border=\"1\" class=\"dataframe\">\n  <thead>\n    <tr style=\"text-align: right;\">\n      <th></th>\n      <th>prd</th>\n      <th>imdb_id</th>\n      <th>budget</th>\n      <th>revenue</th>\n      <th>original_title</th>\n      <th>cast</th>\n      <th>director</th>\n      <th>tagline</th>\n      <th>overview</th>\n      <th>runtime</th>\n      <th>genres</th>\n      <th>production_companies</th>\n      <th>release_date</th>\n      <th>vote_average</th>\n      <th>release_year</th>\n      <th>profit</th>\n      <th>year</th>\n      <th>month</th>\n      <th>date</th>\n      <th>original_title_len</th>\n    </tr>\n  </thead>\n  <tbody>\n    <tr>\n      <th>738</th>\n      <td>Twentieth Century Fox Film Corporation</td>\n      <td>tt0443453</td>\n      <td>18000000</td>\n      <td>261572744</td>\n      <td>Borat: Cultural Learnings of America for Make ...</td>\n      <td>Sacha Baron Cohen|Ken Davitian|Luenell|Pamela ...</td>\n      <td>Larry Charles</td>\n      <td>Come to Kazakhstan, it's nice!</td>\n      <td>Kazakh journalist Borat Sagdiyev travels to Am...</td>\n      <td>82</td>\n      <td>Comedy</td>\n      <td>Twentieth Century Fox Film Corporation|Four By...</td>\n      <td>11/2/2006</td>\n      <td>6.4</td>\n      <td>2006</td>\n      <td>243572744</td>\n      <td>2006</td>\n      <td>11</td>\n      <td>2</td>\n      <td>83</td>\n    </tr>\n    <tr>\n      <th>5782</th>\n      <td>Four By Two Productions</td>\n      <td>tt0443453</td>\n      <td>18000000</td>\n      <td>261572744</td>\n      <td>Borat: Cultural Learnings of America for Make ...</td>\n      <td>Sacha Baron Cohen|Ken Davitian|Luenell|Pamela ...</td>\n      <td>Larry Charles</td>\n      <td>Come to Kazakhstan, it's nice!</td>\n      <td>Kazakh journalist Borat Sagdiyev travels to Am...</td>\n      <td>82</td>\n      <td>Comedy</td>\n      <td>Twentieth Century Fox Film Corporation|Four By...</td>\n      <td>11/2/2006</td>\n      <td>6.4</td>\n      <td>2006</td>\n      <td>243572744</td>\n      <td>2006</td>\n      <td>11</td>\n      <td>2</td>\n      <td>83</td>\n    </tr>\n  </tbody>\n</table>\n</div>"
     },
     "metadata": {},
     "execution_count": 37
    }
   ],
   "source": [
    "j = prods.merge( data, on='imdb_id', how='left' )\n",
    "j['original_title_len'] = j['original_title'].apply( lambda x: len(x) )\n",
    "j[ j['original_title_len'] == j['original_title_len'].max() ]"
   ]
  },
  {
   "cell_type": "code",
   "execution_count": 45,
   "metadata": {},
   "outputs": [
    {
     "output_type": "execute_result",
     "data": {
      "text/plain": [
       "        imdb_id    budget    revenue  \\\n",
       "1448  tt0443453  18000000  261572744   \n",
       "\n",
       "                                         original_title  \\\n",
       "1448  Borat: Cultural Learnings of America for Make ...   \n",
       "\n",
       "                                                   cast       director  \\\n",
       "1448  Sacha Baron Cohen|Ken Davitian|Luenell|Pamela ...  Larry Charles   \n",
       "\n",
       "                             tagline  \\\n",
       "1448  Come to Kazakhstan, it's nice!   \n",
       "\n",
       "                                               overview  runtime  genres  \\\n",
       "1448  Kazakh journalist Borat Sagdiyev travels to Am...       82  Comedy   \n",
       "\n",
       "                                   production_companies release_date  \\\n",
       "1448  Twentieth Century Fox Film Corporation|Four By...    11/2/2006   \n",
       "\n",
       "      vote_average  release_year     profit  year  month  date  \\\n",
       "1448           6.4          2006  243572744  2006     11     2   \n",
       "\n",
       "      original_title_len  \n",
       "1448                  83  "
      ],
      "text/html": "<div>\n<style scoped>\n    .dataframe tbody tr th:only-of-type {\n        vertical-align: middle;\n    }\n\n    .dataframe tbody tr th {\n        vertical-align: top;\n    }\n\n    .dataframe thead th {\n        text-align: right;\n    }\n</style>\n<table border=\"1\" class=\"dataframe\">\n  <thead>\n    <tr style=\"text-align: right;\">\n      <th></th>\n      <th>imdb_id</th>\n      <th>budget</th>\n      <th>revenue</th>\n      <th>original_title</th>\n      <th>cast</th>\n      <th>director</th>\n      <th>tagline</th>\n      <th>overview</th>\n      <th>runtime</th>\n      <th>genres</th>\n      <th>production_companies</th>\n      <th>release_date</th>\n      <th>vote_average</th>\n      <th>release_year</th>\n      <th>profit</th>\n      <th>year</th>\n      <th>month</th>\n      <th>date</th>\n      <th>original_title_len</th>\n    </tr>\n  </thead>\n  <tbody>\n    <tr>\n      <th>1448</th>\n      <td>tt0443453</td>\n      <td>18000000</td>\n      <td>261572744</td>\n      <td>Borat: Cultural Learnings of America for Make ...</td>\n      <td>Sacha Baron Cohen|Ken Davitian|Luenell|Pamela ...</td>\n      <td>Larry Charles</td>\n      <td>Come to Kazakhstan, it's nice!</td>\n      <td>Kazakh journalist Borat Sagdiyev travels to Am...</td>\n      <td>82</td>\n      <td>Comedy</td>\n      <td>Twentieth Century Fox Film Corporation|Four By...</td>\n      <td>11/2/2006</td>\n      <td>6.4</td>\n      <td>2006</td>\n      <td>243572744</td>\n      <td>2006</td>\n      <td>11</td>\n      <td>2</td>\n      <td>83</td>\n    </tr>\n  </tbody>\n</table>\n</div>"
     },
     "metadata": {},
     "execution_count": 45
    }
   ],
   "source": [
    "j = data.copy()\n",
    "j['original_title_len'] = j['original_title'].apply( lambda x: len(x) )\n",
    "j[ j['original_title_len'] == j['original_title_len'].max() ]"
   ]
  },
  {
   "cell_type": "markdown",
   "metadata": {
    "colab_type": "text",
    "id": "9G0hbvR7VqAK"
   },
   "source": [
    "# 25. Описание фильмов какой студии в среднем самые длинные по количеству слов?"
   ]
  },
  {
   "cell_type": "code",
   "execution_count": 0,
   "metadata": {
    "colab": {},
    "colab_type": "code",
    "id": "Ge2GsLNxVqAK"
   },
   "outputs": [],
   "source": []
  },
  {
   "cell_type": "markdown",
   "metadata": {
    "colab_type": "text",
    "id": "FJ1AFt90VqAP"
   },
   "source": [
    "# 26. Какие фильмы входят в 1 процент лучших по рейтингу? \n",
    "по vote_average"
   ]
  },
  {
   "cell_type": "code",
   "execution_count": 0,
   "metadata": {
    "colab": {},
    "colab_type": "code",
    "id": "8qmJVq4CVqAQ"
   },
   "outputs": [],
   "source": []
  },
  {
   "cell_type": "markdown",
   "metadata": {
    "colab_type": "text",
    "id": "MdXsUXbCVqAV"
   },
   "source": [
    "# 27. Какие актеры чаще всего снимаются в одном фильме вместе?\n"
   ]
  },
  {
   "cell_type": "markdown",
   "metadata": {
    "colab_type": "text",
    "id": "4ymnxEVoVqAW"
   },
   "source": [
    "ВАРИАНТ 2"
   ]
  },
  {
   "cell_type": "markdown",
   "metadata": {
    "colab_type": "text",
    "id": "U0nONFnGVqAX"
   },
   "source": [
    "# Submission"
   ]
  },
  {
   "cell_type": "code",
   "execution_count": 368,
   "metadata": {
    "colab": {},
    "colab_type": "code",
    "id": "IfcaRO9-VqAX",
    "outputId": "0f132912-32bb-4196-c98c-abfbc4ad5a5f"
   },
   "outputs": [
    {
     "output_type": "execute_result",
     "data": {
      "text/plain": [
       "{'1': 'Pirates of the Caribbean: On Stranger Tides (tt1298650)',\n",
       " '2': 'Gods and Generals (tt0279111)',\n",
       " '3': 'Winnie the Pooh (tt1449283)'}"
      ]
     },
     "metadata": {},
     "execution_count": 368
    }
   ],
   "source": [
    "# в конце можно посмотреть свои ответы к каждому вопросу\n",
    "answers"
   ]
  },
  {
   "cell_type": "code",
   "execution_count": 369,
   "metadata": {
    "colab": {},
    "colab_type": "code",
    "id": "SiRmHPl8VqAd"
   },
   "outputs": [
    {
     "output_type": "execute_result",
     "data": {
      "text/plain": [
       "3"
      ]
     },
     "metadata": {},
     "execution_count": 369
    }
   ],
   "source": [
    "# и убедиться что ни чего не пропустил)\n",
    "len(answers)"
   ]
  },
  {
   "cell_type": "code",
   "execution_count": 0,
   "metadata": {
    "colab": {},
    "colab_type": "code",
    "id": "uCfuTkRbVqAg"
   },
   "outputs": [],
   "source": []
  },
  {
   "cell_type": "code",
   "execution_count": 0,
   "metadata": {
    "colab": {},
    "colab_type": "code",
    "id": "Vwx3NrkSVqAl"
   },
   "outputs": [],
   "source": []
  }
 ],
 "metadata": {
  "colab": {
   "name": "Copy of [SF-DST] Movies IMBD v4.1 TEMPLATE.ipynb",
   "provenance": []
  },
  "kernelspec": {
   "display_name": "Python 3",
   "language": "python",
   "name": "python3"
  },
  "language_info": {
   "codemirror_mode": {
    "name": "ipython",
    "version": 3
   },
   "file_extension": ".py",
   "mimetype": "text/x-python",
   "name": "python",
   "nbconvert_exporter": "python",
   "pygments_lexer": "ipython3",
   "version": "3.8.3-final"
  }
 },
 "nbformat": 4,
 "nbformat_minor": 1
}