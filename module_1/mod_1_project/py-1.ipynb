{
 "metadata": {
  "language_info": {
   "codemirror_mode": {
    "name": "ipython",
    "version": 3
   },
   "file_extension": ".py",
   "mimetype": "text/x-python",
   "name": "python",
   "nbconvert_exporter": "python",
   "pygments_lexer": "ipython3",
   "version": "3.8.3-final"
  },
  "orig_nbformat": 2,
  "kernelspec": {
   "name": "python3",
   "display_name": "Python 3",
   "language": "python"
  }
 },
 "nbformat": 4,
 "nbformat_minor": 2,
 "cells": [
  {
   "source": [
    "# Импорт библиотек"
   ],
   "cell_type": "markdown",
   "metadata": {}
  },
  {
   "source": [
    "import numpy as np\n",
    "import pandas as pd\n",
    "import seaborn as sns\n",
    "import matplotlib.pyplot as plt\n",
    "from collections import Counter"
   ],
   "cell_type": "code",
   "metadata": {},
   "execution_count": 1,
   "outputs": []
  },
  {
   "source": [
    "# raw data / сырые данные"
   ],
   "cell_type": "markdown",
   "metadata": {}
  },
  {
   "cell_type": "code",
   "execution_count": 2,
   "metadata": {},
   "outputs": [
    {
     "output_type": "execute_result",
     "data": {
      "text/plain": [
       "        imdb_id     budget    revenue               original_title  \\\n",
       "981   tt1735898  170000000  396600000  Snow White and the Huntsman   \n",
       "1189  tt1690953   76000000  970761885              Despicable Me 2   \n",
       "1681  tt0758758   15000000   56255142                Into the Wild   \n",
       "1865  tt0161081  100000000  155464351            What Lies Beneath   \n",
       "1510  tt0401445   35000000   42064105                  A Good Year   \n",
       "\n",
       "                                                   cast  \\\n",
       "981   Kristen Stewart|Charlize Theron|Chris Hemswort...   \n",
       "1189  Steve Carell|Kristen Wiig|Benjamin Bratt|Miran...   \n",
       "1681  Emile Hirsch|Marcia Gay Harden|William Hurt|Je...   \n",
       "1865  Harrison Ford|Michelle Pfeiffer|Diana Scarwid|...   \n",
       "1510  Russell Crowe|Marion Cotillard|Albert Finney|T...   \n",
       "\n",
       "                        director  \\\n",
       "981               Rupert Sanders   \n",
       "1189  Pierre Coffin|Chris Renaud   \n",
       "1681                   Sean Penn   \n",
       "1865             Robert Zemeckis   \n",
       "1510                Ridley Scott   \n",
       "\n",
       "                                                tagline  \\\n",
       "981                               The Fairytale is Over   \n",
       "1189                                        Back 2 Work   \n",
       "1681                     Into the heart. Into the soul.   \n",
       "1865  He was the perfect husband until his one mista...   \n",
       "1510                  Everything matures... eventually.   \n",
       "\n",
       "                                               overview  runtime  \\\n",
       "981   After the Evil Queen marries the King, she per...      127   \n",
       "1189  Gru is recruited by the Anti-Villain League to...       98   \n",
       "1681  The true story of top student and athlete, Chr...      148   \n",
       "1865  When Claire Spencer starts hearing ghostly voi...      130   \n",
       "1510  Failed London banker Max Skinner inherits his ...      118   \n",
       "\n",
       "                             genres  \\\n",
       "981         Adventure|Fantasy|Drama   \n",
       "1189        Animation|Comedy|Family   \n",
       "1681                Adventure|Drama   \n",
       "1865  Drama|Horror|Mystery|Thriller   \n",
       "1510           Comedy|Drama|Romance   \n",
       "\n",
       "                                   production_companies release_date  \\\n",
       "981                       Universal Pictures|Roth Films    5/30/2012   \n",
       "1189      Universal Pictures|Illumination Entertainment    6/25/2013   \n",
       "1681  Paramount Vantage|River Road Entertainment|Art...    9/11/2007   \n",
       "1865  DreamWorks SKG|Twentieth Century Fox Film Corp...    7/21/2000   \n",
       "1510           Fox 2000 Pictures|Scott Free Productions     9/9/2006   \n",
       "\n",
       "      vote_average  release_year  \n",
       "981            5.7          2012  \n",
       "1189           7.0          2013  \n",
       "1681           7.7          2007  \n",
       "1865           6.1          2000  \n",
       "1510           6.4          2006  "
      ],
      "text/html": "<div>\n<style scoped>\n    .dataframe tbody tr th:only-of-type {\n        vertical-align: middle;\n    }\n\n    .dataframe tbody tr th {\n        vertical-align: top;\n    }\n\n    .dataframe thead th {\n        text-align: right;\n    }\n</style>\n<table border=\"1\" class=\"dataframe\">\n  <thead>\n    <tr style=\"text-align: right;\">\n      <th></th>\n      <th>imdb_id</th>\n      <th>budget</th>\n      <th>revenue</th>\n      <th>original_title</th>\n      <th>cast</th>\n      <th>director</th>\n      <th>tagline</th>\n      <th>overview</th>\n      <th>runtime</th>\n      <th>genres</th>\n      <th>production_companies</th>\n      <th>release_date</th>\n      <th>vote_average</th>\n      <th>release_year</th>\n    </tr>\n  </thead>\n  <tbody>\n    <tr>\n      <th>981</th>\n      <td>tt1735898</td>\n      <td>170000000</td>\n      <td>396600000</td>\n      <td>Snow White and the Huntsman</td>\n      <td>Kristen Stewart|Charlize Theron|Chris Hemswort...</td>\n      <td>Rupert Sanders</td>\n      <td>The Fairytale is Over</td>\n      <td>After the Evil Queen marries the King, she per...</td>\n      <td>127</td>\n      <td>Adventure|Fantasy|Drama</td>\n      <td>Universal Pictures|Roth Films</td>\n      <td>5/30/2012</td>\n      <td>5.7</td>\n      <td>2012</td>\n    </tr>\n    <tr>\n      <th>1189</th>\n      <td>tt1690953</td>\n      <td>76000000</td>\n      <td>970761885</td>\n      <td>Despicable Me 2</td>\n      <td>Steve Carell|Kristen Wiig|Benjamin Bratt|Miran...</td>\n      <td>Pierre Coffin|Chris Renaud</td>\n      <td>Back 2 Work</td>\n      <td>Gru is recruited by the Anti-Villain League to...</td>\n      <td>98</td>\n      <td>Animation|Comedy|Family</td>\n      <td>Universal Pictures|Illumination Entertainment</td>\n      <td>6/25/2013</td>\n      <td>7.0</td>\n      <td>2013</td>\n    </tr>\n    <tr>\n      <th>1681</th>\n      <td>tt0758758</td>\n      <td>15000000</td>\n      <td>56255142</td>\n      <td>Into the Wild</td>\n      <td>Emile Hirsch|Marcia Gay Harden|William Hurt|Je...</td>\n      <td>Sean Penn</td>\n      <td>Into the heart. Into the soul.</td>\n      <td>The true story of top student and athlete, Chr...</td>\n      <td>148</td>\n      <td>Adventure|Drama</td>\n      <td>Paramount Vantage|River Road Entertainment|Art...</td>\n      <td>9/11/2007</td>\n      <td>7.7</td>\n      <td>2007</td>\n    </tr>\n    <tr>\n      <th>1865</th>\n      <td>tt0161081</td>\n      <td>100000000</td>\n      <td>155464351</td>\n      <td>What Lies Beneath</td>\n      <td>Harrison Ford|Michelle Pfeiffer|Diana Scarwid|...</td>\n      <td>Robert Zemeckis</td>\n      <td>He was the perfect husband until his one mista...</td>\n      <td>When Claire Spencer starts hearing ghostly voi...</td>\n      <td>130</td>\n      <td>Drama|Horror|Mystery|Thriller</td>\n      <td>DreamWorks SKG|Twentieth Century Fox Film Corp...</td>\n      <td>7/21/2000</td>\n      <td>6.1</td>\n      <td>2000</td>\n    </tr>\n    <tr>\n      <th>1510</th>\n      <td>tt0401445</td>\n      <td>35000000</td>\n      <td>42064105</td>\n      <td>A Good Year</td>\n      <td>Russell Crowe|Marion Cotillard|Albert Finney|T...</td>\n      <td>Ridley Scott</td>\n      <td>Everything matures... eventually.</td>\n      <td>Failed London banker Max Skinner inherits his ...</td>\n      <td>118</td>\n      <td>Comedy|Drama|Romance</td>\n      <td>Fox 2000 Pictures|Scott Free Productions</td>\n      <td>9/9/2006</td>\n      <td>6.4</td>\n      <td>2006</td>\n    </tr>\n  </tbody>\n</table>\n</div>"
     },
     "metadata": {},
     "execution_count": 2
    }
   ],
   "source": [
    "raw_data = pd.read_csv('movie_bd_v5.csv')\n",
    "raw_data.sample(5)"
   ]
  },
  {
   "source": [
    "## Колонки raw_data"
   ],
   "cell_type": "markdown",
   "metadata": {}
  },
  {
   "cell_type": "code",
   "execution_count": 3,
   "metadata": {},
   "outputs": [
    {
     "output_type": "stream",
     "name": "stdout",
     "text": [
      "<class 'pandas.core.frame.DataFrame'>\nRangeIndex: 1889 entries, 0 to 1888\nData columns (total 14 columns):\n #   Column                Non-Null Count  Dtype  \n---  ------                --------------  -----  \n 0   imdb_id               1889 non-null   object \n 1   budget                1889 non-null   int64  \n 2   revenue               1889 non-null   int64  \n 3   original_title        1889 non-null   object \n 4   cast                  1889 non-null   object \n 5   director              1889 non-null   object \n 6   tagline               1889 non-null   object \n 7   overview              1889 non-null   object \n 8   runtime               1889 non-null   int64  \n 9   genres                1889 non-null   object \n 10  production_companies  1889 non-null   object \n 11  release_date          1889 non-null   object \n 12  vote_average          1889 non-null   float64\n 13  release_year          1889 non-null   int64  \ndtypes: float64(1), int64(4), object(9)\nmemory usage: 206.7+ KB\n"
     ]
    }
   ],
   "source": [
    "raw_data.info()"
   ]
  },
  {
   "source": [
    "## Приводим raw_data к нормальному виду\n",
    "\n",
    "Нормализовать след колонки, согласно 1ой нормальной формы\n",
    "\n",
    "- `genres` : string - split('|')\n",
    "- `cast`  : string - split('|')\n",
    "- `director` : string - split('|')\n",
    "- `production_companies` : string - split('|')\n",
    "- `release_date` : string - дата MM/DD/YYYY\n",
    "\n",
    "Добавить/вычислить колонки\n",
    "- `year` : int - год релиза\n",
    "- `month` : int (1..12) - месяц релиза\n",
    "- `date` : int (1..31) - дата релиза\n",
    "- `profit` - выручка"
   ],
   "cell_type": "markdown",
   "metadata": {}
  },
  {
   "cell_type": "code",
   "execution_count": 4,
   "metadata": {},
   "outputs": [],
   "source": [
    "# разделяет строку по вертикальной черте, \n",
    "# возвращает массив\n",
    "def split_str_as_list( g ):\n",
    "    if type(g) is str:\n",
    "        return g.split('|')\n",
    "    return []"
   ]
  },
  {
   "cell_type": "code",
   "execution_count": 5,
   "metadata": {},
   "outputs": [],
   "source": [
    "# Нормализации 1.а - одная ячейка одно значени, в частности жанры перечислены через вертикальную черту\n",
    "def normalize_nf1( src_df, column, norm_f, newColumn=None, includeColumns=None ):\n",
    "    \"\"\"Нормализация DataFrame к 1 форме - случай split('|')\n",
    "       Если в ячейки есть 2 или более значения, \n",
    "         1. то вся строка будет продублирова столько раз, сколько значейний в ячейке\n",
    "         2. значение ячеек будет заменено на разультат разбияния\n",
    "\n",
    "       Args:\n",
    "         src_df - DataFrame\n",
    "         column : str - Колонка содержащяя множествно значений\n",
    "         norm_f( value ):List[values] - функция разбиения значения на список значений\n",
    "         newColumn : str | None - переименование колонки\n",
    "         includeColumns : None | List[str] - список колонок которые следует оставить\n",
    "\n",
    "       Returs:\n",
    "         Новый DataFrame\n",
    "\n",
    "       Пример\n",
    "\n",
    "       | a | b   |\n",
    "       |===|=====|\n",
    "       | 0 | 1,2 |\n",
    "\n",
    "       После normalize_nf1( data, 'b', lambda x:x.split(',') )\n",
    "\n",
    "       | a | b |\n",
    "       |===|===|\n",
    "       | 0 | 1 |\n",
    "       | 0 | 2 |\n",
    "    \"\"\"\n",
    "    if not (type(src_df) is pd.DataFrame):\n",
    "        raise \"!! src_df not pd.DataFrame\"\n",
    "    if not (type(column) is str):\n",
    "        raise \"!! column not str\"\n",
    "    if not callable(norm_f):\n",
    "        raise \"!! norm_f not callable\"    \n",
    "\n",
    "    # Целевая колонка не указана - используем оригинальную\n",
    "    if newColumn==None:\n",
    "        newColumn = column\n",
    "    elif not( type(newColumn) is str):\n",
    "        raise \"!! newColumn must None|str\"\n",
    "\n",
    "    # Строим новый массив данных\n",
    "    column_store = {}\n",
    "    for col_name in src_df.columns:\n",
    "        column_store[col_name] = []\n",
    "        column_store[col_name if col_name!=column else newColumn] = []\n",
    "\n",
    "    # по строчное хранение\n",
    "    row_store = []        \n",
    "    for index, srow in src_df.iterrows():\n",
    "        raw_unsplitted_data = srow[column]\n",
    "        splitted_data = norm_f(raw_unsplitted_data)\n",
    "        for splitted_value in splitted_data:\n",
    "            row = {}\n",
    "            for col_name in src_df.columns:\n",
    "                row[col_name] = srow[col_name]\n",
    "                row[col_name if col_name!=column else newColumn] = srow[col_name] if col_name != column else splitted_value\n",
    "            row_store.append( row )\n",
    "    \n",
    "    for row in row_store:\n",
    "        for k in column_store.keys():\n",
    "            column_store[k].append(row[k])\n",
    "\n",
    "    df = pd.DataFrame( column_store, index=range(0,len(row_store)) )\n",
    "\n",
    "    # Грохаем лишние колонки\n",
    "    if type(includeColumns) is list:\n",
    "        cols = []\n",
    "        keep_cols = []\n",
    "        for col_name in df.columns:\n",
    "            cols.append(col_name)\n",
    "            if col_name == newColumn:\n",
    "                keep_cols.append(col_name)\n",
    "            elif col_name in includeColumns:\n",
    "                keep_cols.append(col_name)\n",
    "        drop_cols = [ c for c in cols if c not in keep_cols ]\n",
    "        df = df.drop( drop_cols, axis=1 )\n",
    "\n",
    "    return df"
   ]
  },
  {
   "cell_type": "code",
   "execution_count": 6,
   "metadata": {},
   "outputs": [
    {
     "output_type": "execute_result",
     "data": {
      "text/plain": [
       "      imdb_id      original_title                                     genres  \\\n",
       "0   tt0369610      Jurassic World  Action|Adventure|Science Fiction|Thriller   \n",
       "1   tt0369610      Jurassic World  Action|Adventure|Science Fiction|Thriller   \n",
       "2   tt0369610      Jurassic World  Action|Adventure|Science Fiction|Thriller   \n",
       "3   tt0369610      Jurassic World  Action|Adventure|Science Fiction|Thriller   \n",
       "4   tt1392190  Mad Max: Fury Road  Action|Adventure|Science Fiction|Thriller   \n",
       "5   tt1392190  Mad Max: Fury Road  Action|Adventure|Science Fiction|Thriller   \n",
       "6   tt1392190  Mad Max: Fury Road  Action|Adventure|Science Fiction|Thriller   \n",
       "7   tt1392190  Mad Max: Fury Road  Action|Adventure|Science Fiction|Thriller   \n",
       "8   tt2908446           Insurgent         Adventure|Science Fiction|Thriller   \n",
       "9   tt2908446           Insurgent         Adventure|Science Fiction|Thriller   \n",
       "10  tt2908446           Insurgent         Adventure|Science Fiction|Thriller   \n",
       "\n",
       "              genre  \n",
       "0            Action  \n",
       "1         Adventure  \n",
       "2   Science Fiction  \n",
       "3          Thriller  \n",
       "4            Action  \n",
       "5         Adventure  \n",
       "6   Science Fiction  \n",
       "7          Thriller  \n",
       "8         Adventure  \n",
       "9   Science Fiction  \n",
       "10         Thriller  "
      ],
      "text/html": "<div>\n<style scoped>\n    .dataframe tbody tr th:only-of-type {\n        vertical-align: middle;\n    }\n\n    .dataframe tbody tr th {\n        vertical-align: top;\n    }\n\n    .dataframe thead th {\n        text-align: right;\n    }\n</style>\n<table border=\"1\" class=\"dataframe\">\n  <thead>\n    <tr style=\"text-align: right;\">\n      <th></th>\n      <th>imdb_id</th>\n      <th>original_title</th>\n      <th>genres</th>\n      <th>genre</th>\n    </tr>\n  </thead>\n  <tbody>\n    <tr>\n      <th>0</th>\n      <td>tt0369610</td>\n      <td>Jurassic World</td>\n      <td>Action|Adventure|Science Fiction|Thriller</td>\n      <td>Action</td>\n    </tr>\n    <tr>\n      <th>1</th>\n      <td>tt0369610</td>\n      <td>Jurassic World</td>\n      <td>Action|Adventure|Science Fiction|Thriller</td>\n      <td>Adventure</td>\n    </tr>\n    <tr>\n      <th>2</th>\n      <td>tt0369610</td>\n      <td>Jurassic World</td>\n      <td>Action|Adventure|Science Fiction|Thriller</td>\n      <td>Science Fiction</td>\n    </tr>\n    <tr>\n      <th>3</th>\n      <td>tt0369610</td>\n      <td>Jurassic World</td>\n      <td>Action|Adventure|Science Fiction|Thriller</td>\n      <td>Thriller</td>\n    </tr>\n    <tr>\n      <th>4</th>\n      <td>tt1392190</td>\n      <td>Mad Max: Fury Road</td>\n      <td>Action|Adventure|Science Fiction|Thriller</td>\n      <td>Action</td>\n    </tr>\n    <tr>\n      <th>5</th>\n      <td>tt1392190</td>\n      <td>Mad Max: Fury Road</td>\n      <td>Action|Adventure|Science Fiction|Thriller</td>\n      <td>Adventure</td>\n    </tr>\n    <tr>\n      <th>6</th>\n      <td>tt1392190</td>\n      <td>Mad Max: Fury Road</td>\n      <td>Action|Adventure|Science Fiction|Thriller</td>\n      <td>Science Fiction</td>\n    </tr>\n    <tr>\n      <th>7</th>\n      <td>tt1392190</td>\n      <td>Mad Max: Fury Road</td>\n      <td>Action|Adventure|Science Fiction|Thriller</td>\n      <td>Thriller</td>\n    </tr>\n    <tr>\n      <th>8</th>\n      <td>tt2908446</td>\n      <td>Insurgent</td>\n      <td>Adventure|Science Fiction|Thriller</td>\n      <td>Adventure</td>\n    </tr>\n    <tr>\n      <th>9</th>\n      <td>tt2908446</td>\n      <td>Insurgent</td>\n      <td>Adventure|Science Fiction|Thriller</td>\n      <td>Science Fiction</td>\n    </tr>\n    <tr>\n      <th>10</th>\n      <td>tt2908446</td>\n      <td>Insurgent</td>\n      <td>Adventure|Science Fiction|Thriller</td>\n      <td>Thriller</td>\n    </tr>\n  </tbody>\n</table>\n</div>"
     },
     "metadata": {},
     "execution_count": 6
    }
   ],
   "source": [
    "normalize_nf1( raw_data.head(3), 'genres', split_str_as_list, 'genre', ['imdb_id','genres','original_title'] )"
   ]
  },
  {
   "source": [
    "## Нормализуем данные"
   ],
   "cell_type": "markdown",
   "metadata": {}
  },
  {
   "cell_type": "code",
   "execution_count": 7,
   "metadata": {},
   "outputs": [],
   "source": [
    "genres = normalize_nf1( raw_data, 'genres', split_str_as_list, 'genre', ['imdb_id'] )\n",
    "acts = normalize_nf1( raw_data, 'cast', split_str_as_list, 'actor', ['imdb_id'] )\n",
    "dirs = normalize_nf1( raw_data, 'director', split_str_as_list, 'dir', ['imdb_id'] )\n",
    "prods = normalize_nf1( raw_data, 'production_companies', split_str_as_list, 'prod', ['imdb_id'] )"
   ]
  },
  {
   "cell_type": "code",
   "execution_count": 8,
   "metadata": {},
   "outputs": [
    {
     "output_type": "execute_result",
     "data": {
      "text/plain": [
       "        imdb_id     budget     revenue                        original_title  \\\n",
       "0     tt0369610  150000000  1513528810                        Jurassic World   \n",
       "1     tt1392190  150000000   378436354                    Mad Max: Fury Road   \n",
       "2     tt2908446  110000000   295238201                             Insurgent   \n",
       "3     tt2488496  200000000  2068178225          Star Wars: The Force Awakens   \n",
       "4     tt2820852  190000000  1506249360                             Furious 7   \n",
       "...         ...        ...         ...                                   ...   \n",
       "1884  tt0120903   75000000   157299717                                 X-Men   \n",
       "1885  tt0192255   22000000    13555988                    The Little Vampire   \n",
       "1886  tt0131704   76000000    35134820  The Adventures of Rocky & Bullwinkle   \n",
       "1887  tt0162983   40000000    36037909                            Hanging Up   \n",
       "1888  tt0163676   15000000     5217498                          The In Crowd   \n",
       "\n",
       "                                                tagline  \\\n",
       "0                                     The park is open.   \n",
       "1                                    What a Lovely Day.   \n",
       "2                            One Choice Can Destroy You   \n",
       "3                         Every generation has a story.   \n",
       "4                                   Vengeance Hits Home   \n",
       "...                                                 ...   \n",
       "1884                                   Evolution Begins   \n",
       "1885  They're not just best friends, they're blood b...   \n",
       "1886            This summer it's not the same old bull.   \n",
       "1887                   Every family has a few hang-ups.   \n",
       "1888                       What would you do to get in?   \n",
       "\n",
       "                                               overview  runtime  \\\n",
       "0     Twenty-two years after the events of Jurassic ...      124   \n",
       "1     An apocalyptic story set in the furthest reach...      120   \n",
       "2     Beatrice Prior must confront her inner demons ...      119   \n",
       "3     Thirty years after defeating the Galactic Empi...      136   \n",
       "4     Deckard Shaw seeks revenge against Dominic Tor...      137   \n",
       "...                                                 ...      ...   \n",
       "1884  Two mutants, Rogue and Wolverine, come to a pr...      104   \n",
       "1885  Based on the popular books, the story tells of...       95   \n",
       "1886  Rocky and Bullwinkle have been living off the ...       88   \n",
       "1887  A trio of sisters bond over their ambivalence ...       94   \n",
       "1888  A mentally disturbed young woman takes a job a...      105   \n",
       "\n",
       "      vote_average  year  month  date      profit  original_title_len  \\\n",
       "0              6.5  2015      6     9  1363528810                  14   \n",
       "1              7.1  2015      5    13   228436354                  18   \n",
       "2              6.3  2015      3    18   185238201                   9   \n",
       "3              7.5  2015     12    15  1868178225                  28   \n",
       "4              7.3  2015      4     1  1316249360                   9   \n",
       "...            ...   ...    ...   ...         ...                 ...   \n",
       "1884           6.6  2000      7    13    82299717                   5   \n",
       "1885           6.4  2000     10    27    -8444012                  18   \n",
       "1886           4.0  2000      6    30   -40865180                  36   \n",
       "1887           5.2  2000      2    16    -3962091                  10   \n",
       "1888           5.2  2000      7    19    -9782502                  12   \n",
       "\n",
       "      overview_words_count  \n",
       "0                       26  \n",
       "1                      110  \n",
       "2                       22  \n",
       "3                       26  \n",
       "4                       14  \n",
       "...                    ...  \n",
       "1884                    27  \n",
       "1885                    75  \n",
       "1886                    58  \n",
       "1887                    24  \n",
       "1888                    43  \n",
       "\n",
       "[1889 rows x 14 columns]"
      ],
      "text/html": "<div>\n<style scoped>\n    .dataframe tbody tr th:only-of-type {\n        vertical-align: middle;\n    }\n\n    .dataframe tbody tr th {\n        vertical-align: top;\n    }\n\n    .dataframe thead th {\n        text-align: right;\n    }\n</style>\n<table border=\"1\" class=\"dataframe\">\n  <thead>\n    <tr style=\"text-align: right;\">\n      <th></th>\n      <th>imdb_id</th>\n      <th>budget</th>\n      <th>revenue</th>\n      <th>original_title</th>\n      <th>tagline</th>\n      <th>overview</th>\n      <th>runtime</th>\n      <th>vote_average</th>\n      <th>year</th>\n      <th>month</th>\n      <th>date</th>\n      <th>profit</th>\n      <th>original_title_len</th>\n      <th>overview_words_count</th>\n    </tr>\n  </thead>\n  <tbody>\n    <tr>\n      <th>0</th>\n      <td>tt0369610</td>\n      <td>150000000</td>\n      <td>1513528810</td>\n      <td>Jurassic World</td>\n      <td>The park is open.</td>\n      <td>Twenty-two years after the events of Jurassic ...</td>\n      <td>124</td>\n      <td>6.5</td>\n      <td>2015</td>\n      <td>6</td>\n      <td>9</td>\n      <td>1363528810</td>\n      <td>14</td>\n      <td>26</td>\n    </tr>\n    <tr>\n      <th>1</th>\n      <td>tt1392190</td>\n      <td>150000000</td>\n      <td>378436354</td>\n      <td>Mad Max: Fury Road</td>\n      <td>What a Lovely Day.</td>\n      <td>An apocalyptic story set in the furthest reach...</td>\n      <td>120</td>\n      <td>7.1</td>\n      <td>2015</td>\n      <td>5</td>\n      <td>13</td>\n      <td>228436354</td>\n      <td>18</td>\n      <td>110</td>\n    </tr>\n    <tr>\n      <th>2</th>\n      <td>tt2908446</td>\n      <td>110000000</td>\n      <td>295238201</td>\n      <td>Insurgent</td>\n      <td>One Choice Can Destroy You</td>\n      <td>Beatrice Prior must confront her inner demons ...</td>\n      <td>119</td>\n      <td>6.3</td>\n      <td>2015</td>\n      <td>3</td>\n      <td>18</td>\n      <td>185238201</td>\n      <td>9</td>\n      <td>22</td>\n    </tr>\n    <tr>\n      <th>3</th>\n      <td>tt2488496</td>\n      <td>200000000</td>\n      <td>2068178225</td>\n      <td>Star Wars: The Force Awakens</td>\n      <td>Every generation has a story.</td>\n      <td>Thirty years after defeating the Galactic Empi...</td>\n      <td>136</td>\n      <td>7.5</td>\n      <td>2015</td>\n      <td>12</td>\n      <td>15</td>\n      <td>1868178225</td>\n      <td>28</td>\n      <td>26</td>\n    </tr>\n    <tr>\n      <th>4</th>\n      <td>tt2820852</td>\n      <td>190000000</td>\n      <td>1506249360</td>\n      <td>Furious 7</td>\n      <td>Vengeance Hits Home</td>\n      <td>Deckard Shaw seeks revenge against Dominic Tor...</td>\n      <td>137</td>\n      <td>7.3</td>\n      <td>2015</td>\n      <td>4</td>\n      <td>1</td>\n      <td>1316249360</td>\n      <td>9</td>\n      <td>14</td>\n    </tr>\n    <tr>\n      <th>...</th>\n      <td>...</td>\n      <td>...</td>\n      <td>...</td>\n      <td>...</td>\n      <td>...</td>\n      <td>...</td>\n      <td>...</td>\n      <td>...</td>\n      <td>...</td>\n      <td>...</td>\n      <td>...</td>\n      <td>...</td>\n      <td>...</td>\n      <td>...</td>\n    </tr>\n    <tr>\n      <th>1884</th>\n      <td>tt0120903</td>\n      <td>75000000</td>\n      <td>157299717</td>\n      <td>X-Men</td>\n      <td>Evolution Begins</td>\n      <td>Two mutants, Rogue and Wolverine, come to a pr...</td>\n      <td>104</td>\n      <td>6.6</td>\n      <td>2000</td>\n      <td>7</td>\n      <td>13</td>\n      <td>82299717</td>\n      <td>5</td>\n      <td>27</td>\n    </tr>\n    <tr>\n      <th>1885</th>\n      <td>tt0192255</td>\n      <td>22000000</td>\n      <td>13555988</td>\n      <td>The Little Vampire</td>\n      <td>They're not just best friends, they're blood b...</td>\n      <td>Based on the popular books, the story tells of...</td>\n      <td>95</td>\n      <td>6.4</td>\n      <td>2000</td>\n      <td>10</td>\n      <td>27</td>\n      <td>-8444012</td>\n      <td>18</td>\n      <td>75</td>\n    </tr>\n    <tr>\n      <th>1886</th>\n      <td>tt0131704</td>\n      <td>76000000</td>\n      <td>35134820</td>\n      <td>The Adventures of Rocky &amp; Bullwinkle</td>\n      <td>This summer it's not the same old bull.</td>\n      <td>Rocky and Bullwinkle have been living off the ...</td>\n      <td>88</td>\n      <td>4.0</td>\n      <td>2000</td>\n      <td>6</td>\n      <td>30</td>\n      <td>-40865180</td>\n      <td>36</td>\n      <td>58</td>\n    </tr>\n    <tr>\n      <th>1887</th>\n      <td>tt0162983</td>\n      <td>40000000</td>\n      <td>36037909</td>\n      <td>Hanging Up</td>\n      <td>Every family has a few hang-ups.</td>\n      <td>A trio of sisters bond over their ambivalence ...</td>\n      <td>94</td>\n      <td>5.2</td>\n      <td>2000</td>\n      <td>2</td>\n      <td>16</td>\n      <td>-3962091</td>\n      <td>10</td>\n      <td>24</td>\n    </tr>\n    <tr>\n      <th>1888</th>\n      <td>tt0163676</td>\n      <td>15000000</td>\n      <td>5217498</td>\n      <td>The In Crowd</td>\n      <td>What would you do to get in?</td>\n      <td>A mentally disturbed young woman takes a job a...</td>\n      <td>105</td>\n      <td>5.2</td>\n      <td>2000</td>\n      <td>7</td>\n      <td>19</td>\n      <td>-9782502</td>\n      <td>12</td>\n      <td>43</td>\n    </tr>\n  </tbody>\n</table>\n<p>1889 rows × 14 columns</p>\n</div>"
     },
     "metadata": {},
     "execution_count": 8
    }
   ],
   "source": [
    "# Копируем исходные данные\n",
    "movies = raw_data.copy()\n",
    "\n",
    "# Удаляем те, что уже нормализированы\n",
    "movies = movies.drop( ['genres','cast','director','production_companies'], axis=1 )\n",
    "\n",
    "# Вычисление даты из строки формата MM/DD/YYYY\n",
    "def date_str_to_values( s ):\n",
    "    '''\n",
    "    Вычисление даты из строки формата MM/DD/YYYY\n",
    "    Args:\n",
    "        s : str - строка с датой в формате MM/DD/YYYY\n",
    "    Returns:\n",
    "        { 'y': int # год\n",
    "        , 'm': int # месяц\n",
    "        , 'd': int # дата\n",
    "        }\n",
    "    '''\n",
    "    nums = list(map( lambda x:int(x), s.split('/') ))\n",
    "    return { 'y':nums[2], 'm':nums[0], 'd':nums[1] }\n",
    "\n",
    "# Вычисляем колонки year, month, date\n",
    "movies['year'] = movies['release_date'].apply( lambda x: date_str_to_values(x)['y'] )\n",
    "movies['month'] = movies['release_date'].apply( lambda x: date_str_to_values(x)['m'] )\n",
    "movies['date'] = movies['release_date'].apply( lambda x: date_str_to_values(x)['d'] )\n",
    "\n",
    "# Удаляем те, что уже нормализированы\n",
    "movies = movies.drop( ['release_date'], axis=1 )\n",
    "\n",
    "# Если дата(год) не совпадает с release_year - ругаемся\n",
    "if( len(movies[ movies.release_year != movies.year ])>0 ):\n",
    "    raise '!! movies.release_year != movies.year'\n",
    "\n",
    "# Удаляем те, что уже нормализированы\n",
    "movies = movies.drop(['release_year'], axis=1)\n",
    "\n",
    "# Добавляем колонку profit\n",
    "movies['profit'] = movies['revenue'] - movies['budget']\n",
    "\n",
    "# Добавляем колонку original_title_len - Длина заголовка в символах\n",
    "movies['original_title_len'] = movies['original_title'].apply( lambda x: len(x) )\n",
    "\n",
    "# Подсчет кол-ва слов\n",
    "# Есть не однозначность под пониманием кол-ва слов\n",
    "#\n",
    "# https://skillfactorydspr.slack.com/archives/C017W2EQTRV/p1610720433015800\n",
    "#\n",
    "# Описания фильмов какой студии в среднем самые длинные по количеству слов?\n",
    "# 1. Описание - это колонка overview ?\n",
    "# 2. В понятие слово входят только буквы или еще спец символы (запятые, точки - например park, это слово из 5 букв включая запятую или 4 буквы исключая запятую) ?\n",
    "# 3. Слова с разделитем например Twenty-two - считам за два слова или еще пример here's ?\n",
    "# 4. Слова не содержащие букв например числа - считаем за слова ?\n",
    "# 5. Или мне просто разделить по пробелу ?\n",
    "#\n",
    "# Добрый день!\n",
    "# 1. Да, это overview\n",
    "# 2. Разделять только по пробелам, park, - это слово из 5 символов\n",
    "# 3. Разделитель не считаем за два слово\n",
    "# 4. считаем за слова\n",
    "#\n",
    "# Вариант 1\n",
    "def words_of( text ):\n",
    "    words = []\n",
    "    word = ''\n",
    "    for c in text:\n",
    "        if c.isalpha():\n",
    "            word = word + c\n",
    "        else:\n",
    "            if len(word)>0:\n",
    "                words.append(word)\n",
    "                word = ''\n",
    "    return words\n",
    "\n",
    "# Вариант 2\n",
    "def simple_words_of( text ):\n",
    "    return text.split(' ')\n",
    "\n",
    "movies['overview_words_count'] = movies['overview'].apply( lambda x: len(simple_words_of(x)) )\n",
    "movies"
   ]
  },
  {
   "cell_type": "code",
   "execution_count": 9,
   "metadata": {},
   "outputs": [
    {
     "output_type": "stream",
     "name": "stdout",
     "text": [
      "<class 'pandas.core.frame.DataFrame'>\nRangeIndex: 1889 entries, 0 to 1888\nData columns (total 14 columns):\n #   Column                Non-Null Count  Dtype  \n---  ------                --------------  -----  \n 0   imdb_id               1889 non-null   object \n 1   budget                1889 non-null   int64  \n 2   revenue               1889 non-null   int64  \n 3   original_title        1889 non-null   object \n 4   tagline               1889 non-null   object \n 5   overview              1889 non-null   object \n 6   runtime               1889 non-null   int64  \n 7   vote_average          1889 non-null   float64\n 8   year                  1889 non-null   int64  \n 9   month                 1889 non-null   int64  \n 10  date                  1889 non-null   int64  \n 11  profit                1889 non-null   int64  \n 12  original_title_len    1889 non-null   int64  \n 13  overview_words_count  1889 non-null   int64  \ndtypes: float64(1), int64(9), object(4)\nmemory usage: 206.7+ KB\n"
     ]
    }
   ],
   "source": [
    "movies.info()"
   ]
  },
  {
   "source": [
    "# 1. У какого фильма из списка самый большой бюджет?"
   ],
   "cell_type": "markdown",
   "metadata": {}
  },
  {
   "cell_type": "code",
   "execution_count": 10,
   "metadata": {},
   "outputs": [
    {
     "output_type": "execute_result",
     "data": {
      "text/plain": [
       "'Pirates of the Caribbean: On Stranger Tides (tt1298650)'"
      ]
     },
     "metadata": {},
     "execution_count": 10
    }
   ],
   "source": [
    "r = movies[ movies.budget == movies.budget.max() ]\n",
    "r.original_title.iloc[0] + ' (' + r.imdb_id.iloc[0] + ')'"
   ]
  },
  {
   "source": [
    "# 2. Какой из фильмов самый длительный (в минутах)?"
   ],
   "cell_type": "markdown",
   "metadata": {}
  },
  {
   "cell_type": "code",
   "execution_count": 11,
   "metadata": {},
   "outputs": [
    {
     "output_type": "execute_result",
     "data": {
      "text/plain": [
       "'Gods and Generals (tt0279111)'"
      ]
     },
     "metadata": {},
     "execution_count": 11
    }
   ],
   "source": [
    "r = movies[ movies.runtime == movies.runtime.max() ]\n",
    "r.original_title.iloc[0] + ' (' + r.imdb_id.iloc[0] + ')'"
   ]
  },
  {
   "source": [
    "# 3. Какой из фильмов самый короткий (в минутах)?"
   ],
   "cell_type": "markdown",
   "metadata": {}
  },
  {
   "cell_type": "code",
   "execution_count": 12,
   "metadata": {},
   "outputs": [
    {
     "output_type": "execute_result",
     "data": {
      "text/plain": [
       "'Winnie the Pooh (tt1449283)'"
      ]
     },
     "metadata": {},
     "execution_count": 12
    }
   ],
   "source": [
    "r = movies[ movies.runtime == movies.runtime.min() ]\n",
    "r.original_title.iloc[0] + ' (' + r.imdb_id.iloc[0] + ')'"
   ]
  },
  {
   "source": [
    "# 4. Какова средняя длительность фильмов?"
   ],
   "cell_type": "markdown",
   "metadata": {}
  },
  {
   "cell_type": "code",
   "execution_count": 13,
   "metadata": {},
   "outputs": [
    {
     "output_type": "execute_result",
     "data": {
      "text/plain": [
       "110"
      ]
     },
     "metadata": {},
     "execution_count": 13
    }
   ],
   "source": [
    "round(movies.runtime.mean())"
   ]
  },
  {
   "source": [
    "# 5. Каково медианное значение длительности фильмов?"
   ],
   "cell_type": "markdown",
   "metadata": {}
  },
  {
   "cell_type": "code",
   "execution_count": 14,
   "metadata": {},
   "outputs": [
    {
     "output_type": "execute_result",
     "data": {
      "text/plain": [
       "107"
      ]
     },
     "metadata": {},
     "execution_count": 14
    }
   ],
   "source": [
    "round(movies.runtime.median())"
   ]
  },
  {
   "source": [
    "# 6. Какой самый прибыльный фильм?"
   ],
   "cell_type": "markdown",
   "metadata": {}
  },
  {
   "cell_type": "code",
   "execution_count": 16,
   "metadata": {},
   "outputs": [
    {
     "output_type": "execute_result",
     "data": {
      "text/plain": [
       "'Avatar (tt0499549)'"
      ]
     },
     "metadata": {},
     "execution_count": 16
    }
   ],
   "source": [
    "r = movies[ movies.profit == movies.profit.max() ]\n",
    "r.original_title.iloc[0] + ' (' + r.imdb_id.iloc[0] + ')'"
   ]
  },
  {
   "source": [
    "# 7. Какой фильм самый убыточный?"
   ],
   "cell_type": "markdown",
   "metadata": {}
  },
  {
   "cell_type": "code",
   "execution_count": 17,
   "metadata": {},
   "outputs": [
    {
     "output_type": "execute_result",
     "data": {
      "text/plain": [
       "'The Lone Ranger (tt1210819)'"
      ]
     },
     "metadata": {},
     "execution_count": 17
    }
   ],
   "source": [
    "r = movies[ movies.profit == movies.profit.min() ]\n",
    "r.original_title.iloc[0] + ' (' + r.imdb_id.iloc[0] + ')'"
   ]
  },
  {
   "source": [
    "# 8. У скольких фильмов из датасета объем сборов оказался выше бюджета?"
   ],
   "cell_type": "markdown",
   "metadata": {}
  },
  {
   "cell_type": "code",
   "execution_count": 18,
   "metadata": {},
   "outputs": [
    {
     "output_type": "execute_result",
     "data": {
      "text/plain": [
       "1478"
      ]
     },
     "metadata": {},
     "execution_count": 18
    }
   ],
   "source": [
    "len( movies[ movies.profit > 0 ] )"
   ]
  },
  {
   "source": [
    "# 9. Какой фильм оказался самым кассовым в 2008 году?"
   ],
   "cell_type": "markdown",
   "metadata": {}
  },
  {
   "cell_type": "code",
   "execution_count": 19,
   "metadata": {},
   "outputs": [
    {
     "output_type": "execute_result",
     "data": {
      "text/plain": [
       "'The Dark Knight (tt0468569)'"
      ]
     },
     "metadata": {},
     "execution_count": 19
    }
   ],
   "source": [
    "d = movies[ movies.year == 2008 ]\n",
    "r = d[ d.revenue == d.revenue.max() ]\n",
    "r.original_title.iloc[0] + ' (' + r.imdb_id.iloc[0] + ')'"
   ]
  },
  {
   "source": [
    "# 10. Самый убыточный фильм за период с 2012 по 2014 г. (включительно)?"
   ],
   "cell_type": "markdown",
   "metadata": {}
  },
  {
   "cell_type": "code",
   "execution_count": 20,
   "metadata": {},
   "outputs": [
    {
     "output_type": "execute_result",
     "data": {
      "text/plain": [
       "'The Lone Ranger (tt1210819)'"
      ]
     },
     "metadata": {},
     "execution_count": 20
    }
   ],
   "source": [
    "d = movies[ (movies.year >= 2012) & (movies.year <= 2014) ]\n",
    "r = d[ d.profit == d.profit.min() ]\n",
    "r.original_title.iloc[0] + ' (' + r.imdb_id.iloc[0] + ')'"
   ]
  },
  {
   "source": [
    "# 11. Какого жанра фильмов больше всего?"
   ],
   "cell_type": "markdown",
   "metadata": {}
  },
  {
   "cell_type": "code",
   "execution_count": 21,
   "metadata": {},
   "outputs": [
    {
     "output_type": "execute_result",
     "data": {
      "text/plain": [
       "'Drama'"
      ]
     },
     "metadata": {},
     "execution_count": 21
    }
   ],
   "source": [
    "genres.describe()\n",
    "genres.describe().loc['top']['genre']"
   ]
  },
  {
   "source": [
    "# 12. Фильмы какого жанра чаще всего становятся прибыльными?"
   ],
   "cell_type": "markdown",
   "metadata": {}
  },
  {
   "cell_type": "code",
   "execution_count": 22,
   "metadata": {},
   "outputs": [
    {
     "output_type": "execute_result",
     "data": {
      "text/plain": [
       "'Drama'"
      ]
     },
     "metadata": {},
     "execution_count": 22
    }
   ],
   "source": [
    "# Обсуждение https://skillfactorydspr.slack.com/archives/C017W2EQTRV/p1610540743055200\n",
    "# Обсуждение https://skillfactorydspr.slack.com/archives/C017W2EQTRV/p1610710126014500\n",
    "# Постановка вопроса не правильна в корне\n",
    "#   при том мысль такая же была - \n",
    "#   что популярный (top по частоте упоминания) != прибыльный (profit)\n",
    "genres.genre.value_counts().index[0]"
   ]
  },
  {
   "source": [
    "# 13. У какого режиссера самые большие суммарные кассовые сборы?"
   ],
   "cell_type": "markdown",
   "metadata": {}
  },
  {
   "cell_type": "code",
   "execution_count": 24,
   "metadata": {},
   "outputs": [
    {
     "output_type": "execute_result",
     "data": {
      "text/plain": [
       "'Peter Jackson'"
      ]
     },
     "metadata": {},
     "execution_count": 24
    }
   ],
   "source": [
    "j = dirs.merge( movies, on='imdb_id', how='outer' )\n",
    "j.groupby(['dir'])['revenue'].sum().sort_values(ascending=False).index[0]"
   ]
  },
  {
   "source": [
    "# 14. Какой режисер снял больше всего фильмов в стиле Action?"
   ],
   "cell_type": "markdown",
   "metadata": {}
  },
  {
   "cell_type": "code",
   "execution_count": 25,
   "metadata": {},
   "outputs": [
    {
     "output_type": "execute_result",
     "data": {
      "text/plain": [
       "'Robert Rodriguez'"
      ]
     },
     "metadata": {},
     "execution_count": 25
    }
   ],
   "source": [
    "j = genres.merge( movies, on='imdb_id', how='outer' )\n",
    "j = j.merge( dirs, on='imdb_id', how='outer' )\n",
    "j = j[ j.genre == 'Action' ]\n",
    "j.groupby( ['dir'] )['genre'].count().sort_values(ascending=False).index[0]"
   ]
  },
  {
   "source": [
    "# 15. Фильмы с каким актером принесли самые высокие кассовые сборы в 2012 году?"
   ],
   "cell_type": "markdown",
   "metadata": {}
  },
  {
   "cell_type": "code",
   "execution_count": 26,
   "metadata": {},
   "outputs": [
    {
     "output_type": "execute_result",
     "data": {
      "text/plain": [
       "'Chris Hemsworth'"
      ]
     },
     "metadata": {},
     "execution_count": 26
    }
   ],
   "source": [
    "j = acts.merge( movies, on='imdb_id', how='outer' )\n",
    "j = j[ j.year == 2012 ]\n",
    "j.groupby(['actor'])['revenue'].sum().sort_values(ascending=False).index[0]"
   ]
  },
  {
   "source": [
    "# 16. Какой актер снялся в большем количестве высокобюджетных фильмов?"
   ],
   "cell_type": "markdown",
   "metadata": {}
  },
  {
   "cell_type": "code",
   "execution_count": 27,
   "metadata": {},
   "outputs": [
    {
     "output_type": "execute_result",
     "data": {
      "text/plain": [
       "'Matt Damon'"
      ]
     },
     "metadata": {},
     "execution_count": 27
    }
   ],
   "source": [
    "j = acts.merge( movies, on='imdb_id', how='outer' )\n",
    "# в фильмах, где бюджет выше среднего по данной выборке. \n",
    "j = j[ j.budget > j.budget.mean() ]\n",
    "j.groupby('actor').count().sort_values(['imdb_id'],ascending=False).index[0]"
   ]
  },
  {
   "source": [
    "# 17. В фильмах какого жанра больше всего снимался Nicolas Cage?"
   ],
   "cell_type": "markdown",
   "metadata": {}
  },
  {
   "cell_type": "code",
   "execution_count": 28,
   "metadata": {},
   "outputs": [
    {
     "output_type": "execute_result",
     "data": {
      "text/plain": [
       "'Action'"
      ]
     },
     "metadata": {},
     "execution_count": 28
    }
   ],
   "source": [
    "j = acts.merge( genres, on='imdb_id', how='outer' )\n",
    "j = j[ j.actor=='Nicolas Cage' ].drop(['imdb_id'], axis=1)\n",
    "j = j.groupby(['genre']).count().sort_values(['actor'],ascending=False)\n",
    "j.index[0]"
   ]
  },
  {
   "source": [
    "# 18. Самый убыточный фильм от Paramount Pictures"
   ],
   "cell_type": "markdown",
   "metadata": {}
  },
  {
   "cell_type": "code",
   "execution_count": 29,
   "metadata": {},
   "outputs": [
    {
     "output_type": "execute_result",
     "data": {
      "text/plain": [
       "'K-19: The Widowmaker (tt0267626)'"
      ]
     },
     "metadata": {},
     "execution_count": 29
    }
   ],
   "source": [
    "j = prods.merge( movies, on='imdb_id', how='left' )\n",
    "j = j.query( \"prod == 'Paramount Pictures' \" )\n",
    "j = j[ j.profit == j.profit.min() ]\n",
    "r = j\n",
    "r.original_title.iloc[0] + ' (' + r.imdb_id.iloc[0] + ')'"
   ]
  },
  {
   "source": [
    "# 19. Какой год стал самым успешным по суммарным кассовым сборам?"
   ],
   "cell_type": "markdown",
   "metadata": {}
  },
  {
   "cell_type": "code",
   "execution_count": 30,
   "metadata": {},
   "outputs": [
    {
     "output_type": "execute_result",
     "data": {
      "text/plain": [
       "2015"
      ]
     },
     "metadata": {},
     "execution_count": 30
    }
   ],
   "source": [
    "d = movies.groupby(['year']).sum().sort_values(['year'],ascending=False)\n",
    "d.index[0]"
   ]
  },
  {
   "source": [
    "# 20. Какой самый прибыльный год для студии Warner Bros?"
   ],
   "cell_type": "markdown",
   "metadata": {}
  },
  {
   "cell_type": "code",
   "execution_count": 31,
   "metadata": {},
   "outputs": [
    {
     "output_type": "execute_result",
     "data": {
      "text/plain": [
       "2014"
      ]
     },
     "metadata": {},
     "execution_count": 31
    }
   ],
   "source": [
    "# https://skillfactorydspr.slack.com/archives/C017W2EQTRV/p1607752079405900?thread_ts=1607728173.403500&cid=C017W2EQTRV\n",
    "# Приветствую! Надо учесть все четыре компании с Warner Bros. в названии.\n",
    "j = prods.merge( movies, on='imdb_id', how='left' )\n",
    "j = j[ j['prod'].str.contains('Warner Bros') ]\n",
    "j = j.groupby('year')['profit'].sum().sort_values(ascending=False)\n",
    "j = j.loc[[2014,2008,2012,2010,2015]].sort_values(ascending=False)\n",
    "j.index[0]"
   ]
  },
  {
   "source": [
    "# 21. В каком месяце за все годы суммарно вышло больше всего фильмов?"
   ],
   "cell_type": "markdown",
   "metadata": {}
  },
  {
   "cell_type": "code",
   "execution_count": 32,
   "metadata": {},
   "outputs": [
    {
     "output_type": "execute_result",
     "data": {
      "text/plain": [
       "9"
      ]
     },
     "metadata": {},
     "execution_count": 32
    }
   ],
   "source": [
    "movies.groupby(['month']).count().sort_values(['imdb_id'],ascending=False).index[0]"
   ]
  },
  {
   "source": [
    "# 22. Сколько суммарно вышло фильмов летом? (за июнь, июль, август)"
   ],
   "cell_type": "markdown",
   "metadata": {}
  },
  {
   "cell_type": "code",
   "execution_count": 33,
   "metadata": {},
   "outputs": [
    {
     "output_type": "execute_result",
     "data": {
      "text/plain": [
       "450"
      ]
     },
     "metadata": {},
     "execution_count": 33
    }
   ],
   "source": [
    "movies.groupby(['month']).count().loc[ [8,7,6] ].imdb_id.sum()"
   ]
  },
  {
   "source": [
    "# 23. Для какого режиссера зима – самое продуктивное время года?"
   ],
   "cell_type": "markdown",
   "metadata": {}
  },
  {
   "cell_type": "code",
   "execution_count": 34,
   "metadata": {},
   "outputs": [
    {
     "output_type": "execute_result",
     "data": {
      "text/plain": [
       "'Peter Jackson'"
      ]
     },
     "metadata": {},
     "execution_count": 34
    }
   ],
   "source": [
    "j = dirs.merge( movies, on='imdb_id', how='left' )\n",
    "j['winter'] = j['month'].apply( lambda x: x in [1,2,12])\n",
    "j = j[ j['winter'] ].groupby('dir')['imdb_id'].count().sort_values(ascending=False)\n",
    "j.index[0]"
   ]
  },
  {
   "source": [
    "# 24. Какая студия дает самые длинные названия своим фильмам по количеству символов?"
   ],
   "cell_type": "markdown",
   "metadata": {}
  },
  {
   "cell_type": "code",
   "execution_count": 35,
   "metadata": {},
   "outputs": [
    {
     "output_type": "execute_result",
     "data": {
      "text/plain": [
       "'Four By Two Productions'"
      ]
     },
     "metadata": {},
     "execution_count": 35
    }
   ],
   "source": [
    "# https://skillfactorydspr.slack.com/archives/C017W2EQTRV/p1610572293067300\n",
    "# Под вопросом\n",
    "# \"Какая студия даёт самые длинные названия своим фильмам по количеству символов?\"\n",
    "# имеется виду\n",
    "# \"Какая студия даёт самые длинные названия своим фильмам по количеству символов (в среднем по всей выборке)?\"\n",
    "j = prods.merge( movies, on='imdb_id', how='left' )\n",
    "j = j.groupby(['prod'])['original_title_len'].mean().sort_values(ascending=False)\n",
    "j.index[0]"
   ]
  },
  {
   "source": [
    "# 25. Описание фильмов какой студии в среднем самые длинные по количеству слов?"
   ],
   "cell_type": "markdown",
   "metadata": {}
  },
  {
   "cell_type": "code",
   "execution_count": 36,
   "metadata": {},
   "outputs": [
    {
     "output_type": "execute_result",
     "data": {
      "text/plain": [
       "'Midnight Picture Show'"
      ]
     },
     "metadata": {},
     "execution_count": 36
    }
   ],
   "source": [
    "# overview_words_count\n",
    "j = prods.merge( movies, on='imdb_id', how='left' )\n",
    "j = j.groupby(['prod'])['overview_words_count'].mean().sort_values(ascending=False)\n",
    "j.index[0]"
   ]
  },
  {
   "source": [
    "# 26. Какие фильмы входят в 1 процент лучших по рейтингу?"
   ],
   "cell_type": "markdown",
   "metadata": {}
  },
  {
   "cell_type": "code",
   "execution_count": 37,
   "metadata": {},
   "outputs": [
    {
     "output_type": "stream",
     "name": "stdout",
     "text": [
      "matched  ('1', ['Inside Out', 'The Dark Knight', '12 Years a Slave'])\n"
     ]
    }
   ],
   "source": [
    "# 1) Inside Out, The Dark Knight, 12 Years a Slave\n",
    "# 2) BloodRayne, The Adventures of Rocky & Bullwinkle\n",
    "# 3) Batman Begins, The Lord of the Rings: The Return of the King, Upside Down\n",
    "# 4) 300, Lucky Number Slevin, Kill Bill: Vol. 1\n",
    "# 5) Upside Down, Inside Out, Iron Man \n",
    "j = movies.sort_values(['vote_average'],ascending=False)\n",
    "j = j.head( int(len(j)*0.01) )\n",
    "\n",
    "len( j[ j.original_title.str.contains('BloodRayne') ] )>0\n",
    "\n",
    "# original_title\n",
    "cases = { '1': ['Inside Out','The Dark Knight', '12 Years a Slave']\n",
    "        , '2': ['BloodRayne','The Adventures of Rocky & Bullwinkle'] \n",
    "        , '3': ['Batman Begins','The Lord of the Rings: The Return of the King','Upside Down']\n",
    "        , '4': ['300','Lucky Number Slevin','Kill Bill: Vol. 1']\n",
    "        , '5': ['Upside Down','Inside Out','Iron Man']\n",
    "        }\n",
    "matched_cases = []\n",
    "for k,titles in cases.items():\n",
    "    fails = 0\n",
    "    for title in titles:\n",
    "        inTop = len(j[ j.original_title.str.contains(title) ]) > 0\n",
    "        if not inTop:\n",
    "            fails = fails + 1\n",
    "    if fails==0:\n",
    "        matched_cases.append((k,titles))\n",
    "for mc in matched_cases:\n",
    "    print( 'matched ',mc)"
   ]
  },
  {
   "source": [
    "# 27. Какие актеры чаще всего снимаются в одном фильме вместе?"
   ],
   "cell_type": "markdown",
   "metadata": {}
  },
  {
   "cell_type": "code",
   "execution_count": 38,
   "metadata": {},
   "outputs": [
    {
     "output_type": "execute_result",
     "data": {
      "text/plain": [
       "{'count': 8, 'names': ['Daniel Radcliffe', 'Rupert Grint']}"
      ]
     },
     "metadata": {},
     "execution_count": 38
    }
   ],
   "source": [
    "# Варианты\n",
    "# 1) Johnny Depp & Helena Bonham Carter\n",
    "# 2) Ben Stiller & Owen Wilson\n",
    "# 3) Vin Diesel & Paul Walker \n",
    "# 4) Adam Sandler & Kevin James \n",
    "# 5) Daniel Radcliffe & Rupert Grint\n",
    "\n",
    "pairs = [\n",
    "    { 'count': 0, 'names': ['Johnny Depp', 'Helena Bonham Carter'] },\n",
    "    { 'count': 0, 'names': ['Ben Stiller', 'Owen Wilson'] },\n",
    "    { 'count': 0, 'names': ['Vin Diesel', 'Paul Walker'] },\n",
    "    { 'count': 0, 'names': ['Adam Sandler', 'Kevin James'] },\n",
    "    { 'count': 0, 'names': ['Daniel Radcliffe', 'Rupert Grint'] },\n",
    "]\n",
    "\n",
    "for index, srow in raw_data.iterrows():\n",
    "    actors = srow.cast.split('|')\n",
    "    for p in pairs:\n",
    "        matched = 0\n",
    "        for name in p['names']:\n",
    "            if name in actors:\n",
    "                matched = matched + 1\n",
    "        if matched==len(p['names']):\n",
    "            p['count'] = p['count'] + 1\n",
    "\n",
    "sorted_pairs = sorted(pairs, key=lambda p:p['count'])\n",
    "sorted_pairs[ len(sorted_pairs)-1 ]"
   ]
  },
  {
   "cell_type": "code",
   "execution_count": null,
   "metadata": {},
   "outputs": [],
   "source": []
  }
 ]
}