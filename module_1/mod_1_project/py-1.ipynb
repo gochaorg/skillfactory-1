{
 "metadata": {
  "language_info": {
   "codemirror_mode": {
    "name": "ipython",
    "version": 3
   },
   "file_extension": ".py",
   "mimetype": "text/x-python",
   "name": "python",
   "nbconvert_exporter": "python",
   "pygments_lexer": "ipython3",
   "version": "3.8.3-final"
  },
  "orig_nbformat": 2,
  "kernelspec": {
   "name": "python3",
   "display_name": "Python 3",
   "language": "python"
  }
 },
 "nbformat": 4,
 "nbformat_minor": 2,
 "cells": [
  {
   "source": [
    "# Импорт библиотек"
   ],
   "cell_type": "markdown",
   "metadata": {}
  },
  {
   "source": [
    "import numpy as np\n",
    "import pandas as pd\n",
    "import seaborn as sns\n",
    "import matplotlib.pyplot as plt\n",
    "from collections import Counter"
   ],
   "cell_type": "code",
   "metadata": {},
   "execution_count": 1,
   "outputs": []
  },
  {
   "source": [
    "# raw data / сырые данные"
   ],
   "cell_type": "markdown",
   "metadata": {}
  },
  {
   "cell_type": "code",
   "execution_count": 2,
   "metadata": {},
   "outputs": [
    {
     "output_type": "execute_result",
     "data": {
      "text/plain": [
       "        imdb_id    budget    revenue                   original_title  \\\n",
       "1071  tt2109184   5000000  142817992            Paranormal Activity 4   \n",
       "26    tt2637276  68000000  215863606                            Ted 2   \n",
       "1302  tt0884726  70000000   18662027  Legends of Oz: Dorothy's Return   \n",
       "1713  tt0411061  30000000   16930884                       88 Minutes   \n",
       "129   tt2713180  68000000  211817906                             Fury   \n",
       "\n",
       "                                                   cast  \\\n",
       "1071  Katie Featherston|Kathryn Newton|Matt Shively|...   \n",
       "26    Mark Wahlberg|Seth MacFarlane|Amanda Seyfried|...   \n",
       "1302  Lea Michele|Dan Aykroyd|Patrick Stewart|Hugh D...   \n",
       "1713  Al Pacino|Alicia Witt|Leelee Sobieski|Amy Bren...   \n",
       "129   Brad Pitt|Shia LaBeouf|Logan Lerman|Michael Pe...   \n",
       "\n",
       "                        director  \\\n",
       "1071  Henry Joost|Ariel Schulman   \n",
       "26               Seth MacFarlane   \n",
       "1302              Dan St. Pierre   \n",
       "1713                   Jon Avnet   \n",
       "129                   David Ayer   \n",
       "\n",
       "                                            tagline  \\\n",
       "1071                     It's closer than you think   \n",
       "26                            Ted is Coming, Again.   \n",
       "1302                       There's trouble in OZ...   \n",
       "1713  He has 88 minutes to solve a murder. His own.   \n",
       "129                         War never ends quietly.   \n",
       "\n",
       "                                               overview  runtime  \\\n",
       "1071  It has been five years since the disappearance...       95   \n",
       "26    Newlywed couple Ted and Tami-Lynn want to have...      115   \n",
       "1302  Dorothy wakes up in post-tornado Kansas, only ...       88   \n",
       "1713  \"88 Minutes\" focuses on a college professor (P...      108   \n",
       "129   Last months of World War II in April 1945. As ...      135   \n",
       "\n",
       "                      genres  \\\n",
       "1071                  Horror   \n",
       "26                    Comedy   \n",
       "1302  Animation|Music|Family   \n",
       "1713  Crime|Mystery|Thriller   \n",
       "129         War|Drama|Action   \n",
       "\n",
       "                                   production_companies release_date  \\\n",
       "1071  Paramount Pictures|Blumhouse Productions|Room ...   10/17/2012   \n",
       "26    Universal Pictures|Media Rights Capital|Fuzzy ...    6/25/2015   \n",
       "1302   Prana Animation Studios|Summertime Entertainment    6/13/2013   \n",
       "1713  TriStar Pictures|Nu Image Entertainment|Bright...    2/14/2007   \n",
       "129   Columbia Pictures|QED International|Crave Film...   10/15/2014   \n",
       "\n",
       "      vote_average  release_year  \n",
       "1071           5.3          2012  \n",
       "26             6.3          2015  \n",
       "1302           6.1          2013  \n",
       "1713           5.6          2007  \n",
       "129            7.4          2014  "
      ],
      "text/html": "<div>\n<style scoped>\n    .dataframe tbody tr th:only-of-type {\n        vertical-align: middle;\n    }\n\n    .dataframe tbody tr th {\n        vertical-align: top;\n    }\n\n    .dataframe thead th {\n        text-align: right;\n    }\n</style>\n<table border=\"1\" class=\"dataframe\">\n  <thead>\n    <tr style=\"text-align: right;\">\n      <th></th>\n      <th>imdb_id</th>\n      <th>budget</th>\n      <th>revenue</th>\n      <th>original_title</th>\n      <th>cast</th>\n      <th>director</th>\n      <th>tagline</th>\n      <th>overview</th>\n      <th>runtime</th>\n      <th>genres</th>\n      <th>production_companies</th>\n      <th>release_date</th>\n      <th>vote_average</th>\n      <th>release_year</th>\n    </tr>\n  </thead>\n  <tbody>\n    <tr>\n      <th>1071</th>\n      <td>tt2109184</td>\n      <td>5000000</td>\n      <td>142817992</td>\n      <td>Paranormal Activity 4</td>\n      <td>Katie Featherston|Kathryn Newton|Matt Shively|...</td>\n      <td>Henry Joost|Ariel Schulman</td>\n      <td>It's closer than you think</td>\n      <td>It has been five years since the disappearance...</td>\n      <td>95</td>\n      <td>Horror</td>\n      <td>Paramount Pictures|Blumhouse Productions|Room ...</td>\n      <td>10/17/2012</td>\n      <td>5.3</td>\n      <td>2012</td>\n    </tr>\n    <tr>\n      <th>26</th>\n      <td>tt2637276</td>\n      <td>68000000</td>\n      <td>215863606</td>\n      <td>Ted 2</td>\n      <td>Mark Wahlberg|Seth MacFarlane|Amanda Seyfried|...</td>\n      <td>Seth MacFarlane</td>\n      <td>Ted is Coming, Again.</td>\n      <td>Newlywed couple Ted and Tami-Lynn want to have...</td>\n      <td>115</td>\n      <td>Comedy</td>\n      <td>Universal Pictures|Media Rights Capital|Fuzzy ...</td>\n      <td>6/25/2015</td>\n      <td>6.3</td>\n      <td>2015</td>\n    </tr>\n    <tr>\n      <th>1302</th>\n      <td>tt0884726</td>\n      <td>70000000</td>\n      <td>18662027</td>\n      <td>Legends of Oz: Dorothy's Return</td>\n      <td>Lea Michele|Dan Aykroyd|Patrick Stewart|Hugh D...</td>\n      <td>Dan St. Pierre</td>\n      <td>There's trouble in OZ...</td>\n      <td>Dorothy wakes up in post-tornado Kansas, only ...</td>\n      <td>88</td>\n      <td>Animation|Music|Family</td>\n      <td>Prana Animation Studios|Summertime Entertainment</td>\n      <td>6/13/2013</td>\n      <td>6.1</td>\n      <td>2013</td>\n    </tr>\n    <tr>\n      <th>1713</th>\n      <td>tt0411061</td>\n      <td>30000000</td>\n      <td>16930884</td>\n      <td>88 Minutes</td>\n      <td>Al Pacino|Alicia Witt|Leelee Sobieski|Amy Bren...</td>\n      <td>Jon Avnet</td>\n      <td>He has 88 minutes to solve a murder. His own.</td>\n      <td>\"88 Minutes\" focuses on a college professor (P...</td>\n      <td>108</td>\n      <td>Crime|Mystery|Thriller</td>\n      <td>TriStar Pictures|Nu Image Entertainment|Bright...</td>\n      <td>2/14/2007</td>\n      <td>5.6</td>\n      <td>2007</td>\n    </tr>\n    <tr>\n      <th>129</th>\n      <td>tt2713180</td>\n      <td>68000000</td>\n      <td>211817906</td>\n      <td>Fury</td>\n      <td>Brad Pitt|Shia LaBeouf|Logan Lerman|Michael Pe...</td>\n      <td>David Ayer</td>\n      <td>War never ends quietly.</td>\n      <td>Last months of World War II in April 1945. As ...</td>\n      <td>135</td>\n      <td>War|Drama|Action</td>\n      <td>Columbia Pictures|QED International|Crave Film...</td>\n      <td>10/15/2014</td>\n      <td>7.4</td>\n      <td>2014</td>\n    </tr>\n  </tbody>\n</table>\n</div>"
     },
     "metadata": {},
     "execution_count": 2
    }
   ],
   "source": [
    "raw_data = pd.read_csv('movie_bd_v5.csv')\n",
    "raw_data.sample(5)"
   ]
  },
  {
   "source": [
    "## Колонки raw_data"
   ],
   "cell_type": "markdown",
   "metadata": {}
  },
  {
   "cell_type": "code",
   "execution_count": 3,
   "metadata": {},
   "outputs": [
    {
     "output_type": "stream",
     "name": "stdout",
     "text": [
      "<class 'pandas.core.frame.DataFrame'>\nRangeIndex: 1889 entries, 0 to 1888\nData columns (total 14 columns):\n #   Column                Non-Null Count  Dtype  \n---  ------                --------------  -----  \n 0   imdb_id               1889 non-null   object \n 1   budget                1889 non-null   int64  \n 2   revenue               1889 non-null   int64  \n 3   original_title        1889 non-null   object \n 4   cast                  1889 non-null   object \n 5   director              1889 non-null   object \n 6   tagline               1889 non-null   object \n 7   overview              1889 non-null   object \n 8   runtime               1889 non-null   int64  \n 9   genres                1889 non-null   object \n 10  production_companies  1889 non-null   object \n 11  release_date          1889 non-null   object \n 12  vote_average          1889 non-null   float64\n 13  release_year          1889 non-null   int64  \ndtypes: float64(1), int64(4), object(9)\nmemory usage: 206.7+ KB\n"
     ]
    }
   ],
   "source": [
    "raw_data.info()"
   ]
  },
  {
   "source": [
    "## Приводим raw_data к нормальному виду\n",
    "\n",
    "Нормализовать след колонки, согласно 1ой нормальной формы\n",
    "\n",
    "- `genres` : string - split('|')\n",
    "- `cast`  : string - split('|')\n",
    "- `director` : string - split('|')\n",
    "- `production_companies` : string - split('|')\n",
    "- `release_date` : string - дата MM/DD/YYYY\n",
    "\n",
    "Добавить/вычислить колонки\n",
    "- `year` : int - год релиза\n",
    "- `month` : int (1..12) - месяц релиза\n",
    "- `date` : int (1..31) - дата релиза\n",
    "- `profit` - выручка"
   ],
   "cell_type": "markdown",
   "metadata": {}
  },
  {
   "cell_type": "code",
   "execution_count": 4,
   "metadata": {},
   "outputs": [],
   "source": [
    "# разделяет строку по вертикальной черте, \n",
    "# возвращает массив\n",
    "def split_str_as_list( g ):\n",
    "    if type(g) is str:\n",
    "        return g.split('|')\n",
    "    return []"
   ]
  },
  {
   "cell_type": "code",
   "execution_count": 5,
   "metadata": {},
   "outputs": [],
   "source": [
    "# Нормализации 1.а - одная ячейка одно значени, в частности жанры перечислены через вертикальную черту\n",
    "def normalize_nf1( src_df, column, norm_f, newColumn=None, includeColumns=None ):\n",
    "    \"\"\"Нормализация DataFrame к 1 форме - случай split('|')\n",
    "       Если в ячейки есть 2 или более значения, \n",
    "         1. то вся строка будет продублирова столько раз, сколько значейний в ячейке\n",
    "         2. значение ячеек будет заменено на разультат разбияния\n",
    "\n",
    "       Args:\n",
    "         src_df - DataFrame\n",
    "         column : str - Колонка содержащяя множествно значений\n",
    "         norm_f( value ):List[values] - функция разбиения значения на список значений\n",
    "         newColumn : str | None - переименование колонки\n",
    "         includeColumns : None | List[str] - список колонок которые следует оставить\n",
    "\n",
    "       Returs:\n",
    "         Новый DataFrame\n",
    "\n",
    "       Пример\n",
    "\n",
    "       | a | b   |\n",
    "       |===|=====|\n",
    "       | 0 | 1,2 |\n",
    "\n",
    "       После normalize_nf1( data, 'b', lambda x:x.split(',') )\n",
    "\n",
    "       | a | b |\n",
    "       |===|===|\n",
    "       | 0 | 1 |\n",
    "       | 0 | 2 |\n",
    "    \"\"\"\n",
    "    if not (type(src_df) is pd.DataFrame):\n",
    "        raise \"!! src_df not pd.DataFrame\"\n",
    "    if not (type(column) is str):\n",
    "        raise \"!! column not str\"\n",
    "    if not callable(norm_f):\n",
    "        raise \"!! norm_f not callable\"    \n",
    "\n",
    "    # Целевая колонка не указана - используем оригинальную\n",
    "    if newColumn==None:\n",
    "        newColumn = column\n",
    "    elif not( type(newColumn) is str):\n",
    "        raise \"!! newColumn must None|str\"\n",
    "\n",
    "    # Строим новый массив данных\n",
    "    column_store = {}\n",
    "    for col_name in src_df.columns:\n",
    "        column_store[col_name] = []\n",
    "        column_store[col_name if col_name!=column else newColumn] = []\n",
    "\n",
    "    # по строчное хранение\n",
    "    row_store = []        \n",
    "    for index, srow in src_df.iterrows():\n",
    "        raw_unsplitted_data = srow[column]\n",
    "        splitted_data = norm_f(raw_unsplitted_data)\n",
    "        for splitted_value in splitted_data:\n",
    "            row = {}\n",
    "            for col_name in src_df.columns:\n",
    "                row[col_name] = srow[col_name]\n",
    "                row[col_name if col_name!=column else newColumn] = srow[col_name] if col_name != column else splitted_value\n",
    "            row_store.append( row )\n",
    "    \n",
    "    for row in row_store:\n",
    "        for k in column_store.keys():\n",
    "            column_store[k].append(row[k])\n",
    "\n",
    "    df = pd.DataFrame( column_store, index=range(0,len(row_store)) )\n",
    "\n",
    "    # Грохаем лишние колонки\n",
    "    if type(includeColumns) is list:\n",
    "        cols = []\n",
    "        keep_cols = []\n",
    "        for col_name in df.columns:\n",
    "            cols.append(col_name)\n",
    "            if col_name == newColumn:\n",
    "                keep_cols.append(col_name)\n",
    "            elif col_name in includeColumns:\n",
    "                keep_cols.append(col_name)\n",
    "        drop_cols = [ c for c in cols if c not in keep_cols ]\n",
    "        df = df.drop( drop_cols, axis=1 )\n",
    "\n",
    "    return df"
   ]
  },
  {
   "cell_type": "code",
   "execution_count": 6,
   "metadata": {},
   "outputs": [
    {
     "output_type": "execute_result",
     "data": {
      "text/plain": [
       "      imdb_id      original_title                                     genres  \\\n",
       "0   tt0369610      Jurassic World  Action|Adventure|Science Fiction|Thriller   \n",
       "1   tt0369610      Jurassic World  Action|Adventure|Science Fiction|Thriller   \n",
       "2   tt0369610      Jurassic World  Action|Adventure|Science Fiction|Thriller   \n",
       "3   tt0369610      Jurassic World  Action|Adventure|Science Fiction|Thriller   \n",
       "4   tt1392190  Mad Max: Fury Road  Action|Adventure|Science Fiction|Thriller   \n",
       "5   tt1392190  Mad Max: Fury Road  Action|Adventure|Science Fiction|Thriller   \n",
       "6   tt1392190  Mad Max: Fury Road  Action|Adventure|Science Fiction|Thriller   \n",
       "7   tt1392190  Mad Max: Fury Road  Action|Adventure|Science Fiction|Thriller   \n",
       "8   tt2908446           Insurgent         Adventure|Science Fiction|Thriller   \n",
       "9   tt2908446           Insurgent         Adventure|Science Fiction|Thriller   \n",
       "10  tt2908446           Insurgent         Adventure|Science Fiction|Thriller   \n",
       "\n",
       "              genre  \n",
       "0            Action  \n",
       "1         Adventure  \n",
       "2   Science Fiction  \n",
       "3          Thriller  \n",
       "4            Action  \n",
       "5         Adventure  \n",
       "6   Science Fiction  \n",
       "7          Thriller  \n",
       "8         Adventure  \n",
       "9   Science Fiction  \n",
       "10         Thriller  "
      ],
      "text/html": "<div>\n<style scoped>\n    .dataframe tbody tr th:only-of-type {\n        vertical-align: middle;\n    }\n\n    .dataframe tbody tr th {\n        vertical-align: top;\n    }\n\n    .dataframe thead th {\n        text-align: right;\n    }\n</style>\n<table border=\"1\" class=\"dataframe\">\n  <thead>\n    <tr style=\"text-align: right;\">\n      <th></th>\n      <th>imdb_id</th>\n      <th>original_title</th>\n      <th>genres</th>\n      <th>genre</th>\n    </tr>\n  </thead>\n  <tbody>\n    <tr>\n      <th>0</th>\n      <td>tt0369610</td>\n      <td>Jurassic World</td>\n      <td>Action|Adventure|Science Fiction|Thriller</td>\n      <td>Action</td>\n    </tr>\n    <tr>\n      <th>1</th>\n      <td>tt0369610</td>\n      <td>Jurassic World</td>\n      <td>Action|Adventure|Science Fiction|Thriller</td>\n      <td>Adventure</td>\n    </tr>\n    <tr>\n      <th>2</th>\n      <td>tt0369610</td>\n      <td>Jurassic World</td>\n      <td>Action|Adventure|Science Fiction|Thriller</td>\n      <td>Science Fiction</td>\n    </tr>\n    <tr>\n      <th>3</th>\n      <td>tt0369610</td>\n      <td>Jurassic World</td>\n      <td>Action|Adventure|Science Fiction|Thriller</td>\n      <td>Thriller</td>\n    </tr>\n    <tr>\n      <th>4</th>\n      <td>tt1392190</td>\n      <td>Mad Max: Fury Road</td>\n      <td>Action|Adventure|Science Fiction|Thriller</td>\n      <td>Action</td>\n    </tr>\n    <tr>\n      <th>5</th>\n      <td>tt1392190</td>\n      <td>Mad Max: Fury Road</td>\n      <td>Action|Adventure|Science Fiction|Thriller</td>\n      <td>Adventure</td>\n    </tr>\n    <tr>\n      <th>6</th>\n      <td>tt1392190</td>\n      <td>Mad Max: Fury Road</td>\n      <td>Action|Adventure|Science Fiction|Thriller</td>\n      <td>Science Fiction</td>\n    </tr>\n    <tr>\n      <th>7</th>\n      <td>tt1392190</td>\n      <td>Mad Max: Fury Road</td>\n      <td>Action|Adventure|Science Fiction|Thriller</td>\n      <td>Thriller</td>\n    </tr>\n    <tr>\n      <th>8</th>\n      <td>tt2908446</td>\n      <td>Insurgent</td>\n      <td>Adventure|Science Fiction|Thriller</td>\n      <td>Adventure</td>\n    </tr>\n    <tr>\n      <th>9</th>\n      <td>tt2908446</td>\n      <td>Insurgent</td>\n      <td>Adventure|Science Fiction|Thriller</td>\n      <td>Science Fiction</td>\n    </tr>\n    <tr>\n      <th>10</th>\n      <td>tt2908446</td>\n      <td>Insurgent</td>\n      <td>Adventure|Science Fiction|Thriller</td>\n      <td>Thriller</td>\n    </tr>\n  </tbody>\n</table>\n</div>"
     },
     "metadata": {},
     "execution_count": 6
    }
   ],
   "source": [
    "normalize_nf1( raw_data.head(3), 'genres', split_str_as_list, 'genre', ['imdb_id','genres','original_title'] )"
   ]
  },
  {
   "source": [
    "## Нормализуем данные"
   ],
   "cell_type": "markdown",
   "metadata": {}
  },
  {
   "cell_type": "code",
   "execution_count": 70,
   "metadata": {},
   "outputs": [],
   "source": [
    "# Жанры - две колонки\n",
    "#  1) genre - жанр\n",
    "#  2) imdb_id - ид фильма\n",
    "genres = normalize_nf1( raw_data, 'genres', split_str_as_list, 'genre', ['imdb_id'] )\n",
    "\n",
    "# Актеры - две колонки\n",
    "#  1) actor - актер\n",
    "#  2) imdb_id - ид фильма\n",
    "acts = normalize_nf1( raw_data, 'cast', split_str_as_list, 'actor', ['imdb_id'] )\n",
    "\n",
    "# Режисеры - две колонки\n",
    "#  1) dir - режисер\n",
    "#  2) imdb_id - ид фильма\n",
    "dirs = normalize_nf1( raw_data, 'director', split_str_as_list, 'dir', ['imdb_id'] )\n",
    "\n",
    "# Компании - две колонки\n",
    "#  1) prod - компания\n",
    "#  2) imdb_id - ид фильма\n",
    "prods = normalize_nf1( raw_data, 'production_companies', split_str_as_list, 'prod', ['imdb_id'] )"
   ]
  },
  {
   "cell_type": "code",
   "execution_count": 8,
   "metadata": {},
   "outputs": [
    {
     "output_type": "execute_result",
     "data": {
      "text/plain": [
       "        imdb_id     budget     revenue                        original_title  \\\n",
       "0     tt0369610  150000000  1513528810                        Jurassic World   \n",
       "1     tt1392190  150000000   378436354                    Mad Max: Fury Road   \n",
       "2     tt2908446  110000000   295238201                             Insurgent   \n",
       "3     tt2488496  200000000  2068178225          Star Wars: The Force Awakens   \n",
       "4     tt2820852  190000000  1506249360                             Furious 7   \n",
       "...         ...        ...         ...                                   ...   \n",
       "1884  tt0120903   75000000   157299717                                 X-Men   \n",
       "1885  tt0192255   22000000    13555988                    The Little Vampire   \n",
       "1886  tt0131704   76000000    35134820  The Adventures of Rocky & Bullwinkle   \n",
       "1887  tt0162983   40000000    36037909                            Hanging Up   \n",
       "1888  tt0163676   15000000     5217498                          The In Crowd   \n",
       "\n",
       "                                                tagline  \\\n",
       "0                                     The park is open.   \n",
       "1                                    What a Lovely Day.   \n",
       "2                            One Choice Can Destroy You   \n",
       "3                         Every generation has a story.   \n",
       "4                                   Vengeance Hits Home   \n",
       "...                                                 ...   \n",
       "1884                                   Evolution Begins   \n",
       "1885  They're not just best friends, they're blood b...   \n",
       "1886            This summer it's not the same old bull.   \n",
       "1887                   Every family has a few hang-ups.   \n",
       "1888                       What would you do to get in?   \n",
       "\n",
       "                                               overview  runtime  \\\n",
       "0     Twenty-two years after the events of Jurassic ...      124   \n",
       "1     An apocalyptic story set in the furthest reach...      120   \n",
       "2     Beatrice Prior must confront her inner demons ...      119   \n",
       "3     Thirty years after defeating the Galactic Empi...      136   \n",
       "4     Deckard Shaw seeks revenge against Dominic Tor...      137   \n",
       "...                                                 ...      ...   \n",
       "1884  Two mutants, Rogue and Wolverine, come to a pr...      104   \n",
       "1885  Based on the popular books, the story tells of...       95   \n",
       "1886  Rocky and Bullwinkle have been living off the ...       88   \n",
       "1887  A trio of sisters bond over their ambivalence ...       94   \n",
       "1888  A mentally disturbed young woman takes a job a...      105   \n",
       "\n",
       "      vote_average  year  month  date      profit  original_title_len  \\\n",
       "0              6.5  2015      6     9  1363528810                  14   \n",
       "1              7.1  2015      5    13   228436354                  18   \n",
       "2              6.3  2015      3    18   185238201                   9   \n",
       "3              7.5  2015     12    15  1868178225                  28   \n",
       "4              7.3  2015      4     1  1316249360                   9   \n",
       "...            ...   ...    ...   ...         ...                 ...   \n",
       "1884           6.6  2000      7    13    82299717                   5   \n",
       "1885           6.4  2000     10    27    -8444012                  18   \n",
       "1886           4.0  2000      6    30   -40865180                  36   \n",
       "1887           5.2  2000      2    16    -3962091                  10   \n",
       "1888           5.2  2000      7    19    -9782502                  12   \n",
       "\n",
       "      overview_words_count  \n",
       "0                       26  \n",
       "1                      110  \n",
       "2                       22  \n",
       "3                       26  \n",
       "4                       14  \n",
       "...                    ...  \n",
       "1884                    27  \n",
       "1885                    75  \n",
       "1886                    58  \n",
       "1887                    24  \n",
       "1888                    43  \n",
       "\n",
       "[1889 rows x 14 columns]"
      ],
      "text/html": "<div>\n<style scoped>\n    .dataframe tbody tr th:only-of-type {\n        vertical-align: middle;\n    }\n\n    .dataframe tbody tr th {\n        vertical-align: top;\n    }\n\n    .dataframe thead th {\n        text-align: right;\n    }\n</style>\n<table border=\"1\" class=\"dataframe\">\n  <thead>\n    <tr style=\"text-align: right;\">\n      <th></th>\n      <th>imdb_id</th>\n      <th>budget</th>\n      <th>revenue</th>\n      <th>original_title</th>\n      <th>tagline</th>\n      <th>overview</th>\n      <th>runtime</th>\n      <th>vote_average</th>\n      <th>year</th>\n      <th>month</th>\n      <th>date</th>\n      <th>profit</th>\n      <th>original_title_len</th>\n      <th>overview_words_count</th>\n    </tr>\n  </thead>\n  <tbody>\n    <tr>\n      <th>0</th>\n      <td>tt0369610</td>\n      <td>150000000</td>\n      <td>1513528810</td>\n      <td>Jurassic World</td>\n      <td>The park is open.</td>\n      <td>Twenty-two years after the events of Jurassic ...</td>\n      <td>124</td>\n      <td>6.5</td>\n      <td>2015</td>\n      <td>6</td>\n      <td>9</td>\n      <td>1363528810</td>\n      <td>14</td>\n      <td>26</td>\n    </tr>\n    <tr>\n      <th>1</th>\n      <td>tt1392190</td>\n      <td>150000000</td>\n      <td>378436354</td>\n      <td>Mad Max: Fury Road</td>\n      <td>What a Lovely Day.</td>\n      <td>An apocalyptic story set in the furthest reach...</td>\n      <td>120</td>\n      <td>7.1</td>\n      <td>2015</td>\n      <td>5</td>\n      <td>13</td>\n      <td>228436354</td>\n      <td>18</td>\n      <td>110</td>\n    </tr>\n    <tr>\n      <th>2</th>\n      <td>tt2908446</td>\n      <td>110000000</td>\n      <td>295238201</td>\n      <td>Insurgent</td>\n      <td>One Choice Can Destroy You</td>\n      <td>Beatrice Prior must confront her inner demons ...</td>\n      <td>119</td>\n      <td>6.3</td>\n      <td>2015</td>\n      <td>3</td>\n      <td>18</td>\n      <td>185238201</td>\n      <td>9</td>\n      <td>22</td>\n    </tr>\n    <tr>\n      <th>3</th>\n      <td>tt2488496</td>\n      <td>200000000</td>\n      <td>2068178225</td>\n      <td>Star Wars: The Force Awakens</td>\n      <td>Every generation has a story.</td>\n      <td>Thirty years after defeating the Galactic Empi...</td>\n      <td>136</td>\n      <td>7.5</td>\n      <td>2015</td>\n      <td>12</td>\n      <td>15</td>\n      <td>1868178225</td>\n      <td>28</td>\n      <td>26</td>\n    </tr>\n    <tr>\n      <th>4</th>\n      <td>tt2820852</td>\n      <td>190000000</td>\n      <td>1506249360</td>\n      <td>Furious 7</td>\n      <td>Vengeance Hits Home</td>\n      <td>Deckard Shaw seeks revenge against Dominic Tor...</td>\n      <td>137</td>\n      <td>7.3</td>\n      <td>2015</td>\n      <td>4</td>\n      <td>1</td>\n      <td>1316249360</td>\n      <td>9</td>\n      <td>14</td>\n    </tr>\n    <tr>\n      <th>...</th>\n      <td>...</td>\n      <td>...</td>\n      <td>...</td>\n      <td>...</td>\n      <td>...</td>\n      <td>...</td>\n      <td>...</td>\n      <td>...</td>\n      <td>...</td>\n      <td>...</td>\n      <td>...</td>\n      <td>...</td>\n      <td>...</td>\n      <td>...</td>\n    </tr>\n    <tr>\n      <th>1884</th>\n      <td>tt0120903</td>\n      <td>75000000</td>\n      <td>157299717</td>\n      <td>X-Men</td>\n      <td>Evolution Begins</td>\n      <td>Two mutants, Rogue and Wolverine, come to a pr...</td>\n      <td>104</td>\n      <td>6.6</td>\n      <td>2000</td>\n      <td>7</td>\n      <td>13</td>\n      <td>82299717</td>\n      <td>5</td>\n      <td>27</td>\n    </tr>\n    <tr>\n      <th>1885</th>\n      <td>tt0192255</td>\n      <td>22000000</td>\n      <td>13555988</td>\n      <td>The Little Vampire</td>\n      <td>They're not just best friends, they're blood b...</td>\n      <td>Based on the popular books, the story tells of...</td>\n      <td>95</td>\n      <td>6.4</td>\n      <td>2000</td>\n      <td>10</td>\n      <td>27</td>\n      <td>-8444012</td>\n      <td>18</td>\n      <td>75</td>\n    </tr>\n    <tr>\n      <th>1886</th>\n      <td>tt0131704</td>\n      <td>76000000</td>\n      <td>35134820</td>\n      <td>The Adventures of Rocky &amp; Bullwinkle</td>\n      <td>This summer it's not the same old bull.</td>\n      <td>Rocky and Bullwinkle have been living off the ...</td>\n      <td>88</td>\n      <td>4.0</td>\n      <td>2000</td>\n      <td>6</td>\n      <td>30</td>\n      <td>-40865180</td>\n      <td>36</td>\n      <td>58</td>\n    </tr>\n    <tr>\n      <th>1887</th>\n      <td>tt0162983</td>\n      <td>40000000</td>\n      <td>36037909</td>\n      <td>Hanging Up</td>\n      <td>Every family has a few hang-ups.</td>\n      <td>A trio of sisters bond over their ambivalence ...</td>\n      <td>94</td>\n      <td>5.2</td>\n      <td>2000</td>\n      <td>2</td>\n      <td>16</td>\n      <td>-3962091</td>\n      <td>10</td>\n      <td>24</td>\n    </tr>\n    <tr>\n      <th>1888</th>\n      <td>tt0163676</td>\n      <td>15000000</td>\n      <td>5217498</td>\n      <td>The In Crowd</td>\n      <td>What would you do to get in?</td>\n      <td>A mentally disturbed young woman takes a job a...</td>\n      <td>105</td>\n      <td>5.2</td>\n      <td>2000</td>\n      <td>7</td>\n      <td>19</td>\n      <td>-9782502</td>\n      <td>12</td>\n      <td>43</td>\n    </tr>\n  </tbody>\n</table>\n<p>1889 rows × 14 columns</p>\n</div>"
     },
     "metadata": {},
     "execution_count": 8
    }
   ],
   "source": [
    "# Копируем исходные данные\n",
    "movies = raw_data.copy()\n",
    "\n",
    "# Удаляем те, что уже нормализированы\n",
    "movies = movies.drop( ['genres','cast','director','production_companies'], axis=1 )\n",
    "\n",
    "# Вычисление даты из строки формата MM/DD/YYYY\n",
    "def date_str_to_values( s ):\n",
    "    '''\n",
    "    Вычисление даты из строки формата MM/DD/YYYY\n",
    "    Args:\n",
    "        s : str - строка с датой в формате MM/DD/YYYY\n",
    "    Returns:\n",
    "        { 'y': int # год\n",
    "        , 'm': int # месяц\n",
    "        , 'd': int # дата\n",
    "        }\n",
    "    '''\n",
    "    nums = list(map( lambda x:int(x), s.split('/') ))\n",
    "    return { 'y':nums[2], 'm':nums[0], 'd':nums[1] }\n",
    "\n",
    "# Вычисляем колонки year, month, date\n",
    "movies['year'] = movies['release_date'].apply( lambda x: date_str_to_values(x)['y'] )\n",
    "movies['month'] = movies['release_date'].apply( lambda x: date_str_to_values(x)['m'] )\n",
    "movies['date'] = movies['release_date'].apply( lambda x: date_str_to_values(x)['d'] )\n",
    "\n",
    "# Удаляем те, что уже нормализированы\n",
    "movies = movies.drop( ['release_date'], axis=1 )\n",
    "\n",
    "# Если дата(год) не совпадает с release_year - ругаемся\n",
    "if( len(movies[ movies.release_year != movies.year ])>0 ):\n",
    "    raise '!! movies.release_year != movies.year'\n",
    "\n",
    "# Удаляем те, что уже нормализированы\n",
    "movies = movies.drop(['release_year'], axis=1)\n",
    "\n",
    "# Добавляем колонку profit\n",
    "movies['profit'] = movies['revenue'] - movies['budget']\n",
    "\n",
    "# Добавляем колонку original_title_len - Длина заголовка в символах\n",
    "movies['original_title_len'] = movies['original_title'].apply( lambda x: len(x) )\n",
    "\n",
    "# Подсчет кол-ва слов\n",
    "# Есть не однозначность под пониманием кол-ва слов\n",
    "#\n",
    "# https://skillfactorydspr.slack.com/archives/C017W2EQTRV/p1610720433015800\n",
    "#\n",
    "# Описания фильмов какой студии в среднем самые длинные по количеству слов?\n",
    "# 1. Описание - это колонка overview ?\n",
    "# 2. В понятие слово входят только буквы или еще спец символы (запятые, точки - например park, это слово из 5 букв включая запятую или 4 буквы исключая запятую) ?\n",
    "# 3. Слова с разделитем например Twenty-two - считам за два слова или еще пример here's ?\n",
    "# 4. Слова не содержащие букв например числа - считаем за слова ?\n",
    "# 5. Или мне просто разделить по пробелу ?\n",
    "#\n",
    "# Добрый день!\n",
    "# 1. Да, это overview\n",
    "# 2. Разделять только по пробелам, park, - это слово из 5 символов\n",
    "# 3. Разделитель не считаем за два слово\n",
    "# 4. считаем за слова\n",
    "#\n",
    "# Вариант 1\n",
    "def words_of( text ):\n",
    "    words = []\n",
    "    word = ''\n",
    "    for c in text:\n",
    "        if c.isalpha():\n",
    "            word = word + c\n",
    "        else:\n",
    "            if len(word)>0:\n",
    "                words.append(word)\n",
    "                word = ''\n",
    "    return words\n",
    "\n",
    "# Вариант 2\n",
    "def simple_words_of( text ):\n",
    "    return text.split(' ')\n",
    "\n",
    "movies['overview_words_count'] = movies['overview'].apply( lambda x: len(simple_words_of(x)) )\n",
    "movies"
   ]
  },
  {
   "cell_type": "code",
   "execution_count": 9,
   "metadata": {},
   "outputs": [
    {
     "output_type": "stream",
     "name": "stdout",
     "text": [
      "<class 'pandas.core.frame.DataFrame'>\nRangeIndex: 1889 entries, 0 to 1888\nData columns (total 14 columns):\n #   Column                Non-Null Count  Dtype  \n---  ------                --------------  -----  \n 0   imdb_id               1889 non-null   object \n 1   budget                1889 non-null   int64  \n 2   revenue               1889 non-null   int64  \n 3   original_title        1889 non-null   object \n 4   tagline               1889 non-null   object \n 5   overview              1889 non-null   object \n 6   runtime               1889 non-null   int64  \n 7   vote_average          1889 non-null   float64\n 8   year                  1889 non-null   int64  \n 9   month                 1889 non-null   int64  \n 10  date                  1889 non-null   int64  \n 11  profit                1889 non-null   int64  \n 12  original_title_len    1889 non-null   int64  \n 13  overview_words_count  1889 non-null   int64  \ndtypes: float64(1), int64(9), object(4)\nmemory usage: 206.7+ KB\n"
     ]
    }
   ],
   "source": [
    "movies.info()"
   ]
  },
  {
   "cell_type": "code",
   "execution_count": 37,
   "metadata": {},
   "outputs": [],
   "source": [
    "answers = {} # создадим словарь для ответов"
   ]
  },
  {
   "source": [
    "# 1. У какого фильма из списка самый большой бюджет?"
   ],
   "cell_type": "markdown",
   "metadata": {}
  },
  {
   "cell_type": "code",
   "execution_count": 38,
   "metadata": {},
   "outputs": [
    {
     "output_type": "execute_result",
     "data": {
      "text/plain": [
       "'Pirates of the Caribbean: On Stranger Tides (tt1298650)'"
      ]
     },
     "metadata": {},
     "execution_count": 38
    }
   ],
   "source": [
    "r = movies[ movies.budget == movies.budget.max() ]\n",
    "answers['1'] = r.original_title.iloc[0] + ' (' + r.imdb_id.iloc[0] + ')'\n",
    "answers['1']"
   ]
  },
  {
   "source": [
    "# 2. Какой из фильмов самый длительный (в минутах)?"
   ],
   "cell_type": "markdown",
   "metadata": {}
  },
  {
   "cell_type": "code",
   "execution_count": 39,
   "metadata": {},
   "outputs": [
    {
     "output_type": "execute_result",
     "data": {
      "text/plain": [
       "'Gods and Generals (tt0279111)'"
      ]
     },
     "metadata": {},
     "execution_count": 39
    }
   ],
   "source": [
    "r = movies[ movies.runtime == movies.runtime.max() ]\n",
    "answers['2'] = r.original_title.iloc[0] + ' (' + r.imdb_id.iloc[0] + ')'\n",
    "answers['2']"
   ]
  },
  {
   "source": [
    "# 3. Какой из фильмов самый короткий (в минутах)?"
   ],
   "cell_type": "markdown",
   "metadata": {}
  },
  {
   "cell_type": "code",
   "execution_count": 40,
   "metadata": {},
   "outputs": [
    {
     "output_type": "execute_result",
     "data": {
      "text/plain": [
       "'Winnie the Pooh (tt1449283)'"
      ]
     },
     "metadata": {},
     "execution_count": 40
    }
   ],
   "source": [
    "r = movies[ movies.runtime == movies.runtime.min() ]\n",
    "answers['3'] = r.original_title.iloc[0] + ' (' + r.imdb_id.iloc[0] + ')'\n",
    "answers['3']"
   ]
  },
  {
   "source": [
    "# 4. Какова средняя длительность фильмов?"
   ],
   "cell_type": "markdown",
   "metadata": {}
  },
  {
   "cell_type": "code",
   "execution_count": 41,
   "metadata": {},
   "outputs": [
    {
     "output_type": "execute_result",
     "data": {
      "text/plain": [
       "110"
      ]
     },
     "metadata": {},
     "execution_count": 41
    }
   ],
   "source": [
    "answers['4'] = round(movies.runtime.mean())\n",
    "answers['4']"
   ]
  },
  {
   "source": [
    "# 5. Каково медианное значение длительности фильмов?"
   ],
   "cell_type": "markdown",
   "metadata": {}
  },
  {
   "cell_type": "code",
   "execution_count": 42,
   "metadata": {},
   "outputs": [
    {
     "output_type": "execute_result",
     "data": {
      "text/plain": [
       "107"
      ]
     },
     "metadata": {},
     "execution_count": 42
    }
   ],
   "source": [
    "answers['5'] = round(movies.runtime.median())\n",
    "answers['5']"
   ]
  },
  {
   "source": [
    "# 6. Какой самый прибыльный фильм?"
   ],
   "cell_type": "markdown",
   "metadata": {}
  },
  {
   "cell_type": "code",
   "execution_count": 43,
   "metadata": {},
   "outputs": [
    {
     "output_type": "execute_result",
     "data": {
      "text/plain": [
       "'Avatar (tt0499549)'"
      ]
     },
     "metadata": {},
     "execution_count": 43
    }
   ],
   "source": [
    "r = movies[ movies.profit == movies.profit.max() ]\n",
    "answers['6'] = r.original_title.iloc[0] + ' (' + r.imdb_id.iloc[0] + ')'\n",
    "answers['6']"
   ]
  },
  {
   "source": [
    "# 7. Какой фильм самый убыточный?"
   ],
   "cell_type": "markdown",
   "metadata": {}
  },
  {
   "cell_type": "code",
   "execution_count": 44,
   "metadata": {},
   "outputs": [
    {
     "output_type": "execute_result",
     "data": {
      "text/plain": [
       "'The Lone Ranger (tt1210819)'"
      ]
     },
     "metadata": {},
     "execution_count": 44
    }
   ],
   "source": [
    "r = movies[ movies.profit == movies.profit.min() ]\n",
    "answers['7'] = r.original_title.iloc[0] + ' (' + r.imdb_id.iloc[0] + ')'\n",
    "answers['7']"
   ]
  },
  {
   "source": [
    "# 8. У скольких фильмов из датасета объем сборов оказался выше бюджета?"
   ],
   "cell_type": "markdown",
   "metadata": {}
  },
  {
   "cell_type": "code",
   "execution_count": 45,
   "metadata": {},
   "outputs": [
    {
     "output_type": "execute_result",
     "data": {
      "text/plain": [
       "1478"
      ]
     },
     "metadata": {},
     "execution_count": 45
    }
   ],
   "source": [
    "answers['8'] = len( movies[ movies.profit > 0 ] )\n",
    "answers['8']"
   ]
  },
  {
   "source": [
    "# 9. Какой фильм оказался самым кассовым в 2008 году?"
   ],
   "cell_type": "markdown",
   "metadata": {}
  },
  {
   "cell_type": "code",
   "execution_count": 46,
   "metadata": {},
   "outputs": [
    {
     "output_type": "execute_result",
     "data": {
      "text/plain": [
       "'The Dark Knight (tt0468569)'"
      ]
     },
     "metadata": {},
     "execution_count": 46
    }
   ],
   "source": [
    "d = movies[ movies.year == 2008 ]\n",
    "r = d[ d.revenue == d.revenue.max() ]\n",
    "answers['9'] = r.original_title.iloc[0] + ' (' + r.imdb_id.iloc[0] + ')'\n",
    "answers['9']"
   ]
  },
  {
   "source": [
    "# 10. Самый убыточный фильм за период с 2012 по 2014 г. (включительно)?"
   ],
   "cell_type": "markdown",
   "metadata": {}
  },
  {
   "cell_type": "code",
   "execution_count": 47,
   "metadata": {},
   "outputs": [
    {
     "output_type": "execute_result",
     "data": {
      "text/plain": [
       "'The Lone Ranger (tt1210819)'"
      ]
     },
     "metadata": {},
     "execution_count": 47
    }
   ],
   "source": [
    "d = movies[ (movies.year >= 2012) & (movies.year <= 2014) ]\n",
    "r = d[ d.profit == d.profit.min() ]\n",
    "answers['10'] = r.original_title.iloc[0] + ' (' + r.imdb_id.iloc[0] + ')'\n",
    "answers['10']"
   ]
  },
  {
   "source": [
    "# 11. Какого жанра фильмов больше всего?"
   ],
   "cell_type": "markdown",
   "metadata": {}
  },
  {
   "cell_type": "code",
   "execution_count": 48,
   "metadata": {},
   "outputs": [
    {
     "output_type": "execute_result",
     "data": {
      "text/plain": [
       "'Drama'"
      ]
     },
     "metadata": {},
     "execution_count": 48
    }
   ],
   "source": [
    "genres.describe()\n",
    "answers['11'] = genres.describe().loc['top']['genre']\n",
    "answers['11']"
   ]
  },
  {
   "source": [
    "# 12. Фильмы какого жанра чаще всего становятся прибыльными?"
   ],
   "cell_type": "markdown",
   "metadata": {}
  },
  {
   "cell_type": "code",
   "execution_count": 49,
   "metadata": {},
   "outputs": [
    {
     "output_type": "execute_result",
     "data": {
      "text/plain": [
       "'Drama'"
      ]
     },
     "metadata": {},
     "execution_count": 49
    }
   ],
   "source": [
    "# Обсуждение https://skillfactorydspr.slack.com/archives/C017W2EQTRV/p1610540743055200\n",
    "# Обсуждение https://skillfactorydspr.slack.com/archives/C017W2EQTRV/p1610710126014500\n",
    "# Постановка вопроса не правильна в корне\n",
    "#   при том мысль такая же была - \n",
    "#   что популярный (top по частоте упоминания) != прибыльный (profit)\n",
    "answers['12'] = genres.genre.value_counts().index[0]\n",
    "answers['12']"
   ]
  },
  {
   "source": [
    "# 13. У какого режиссера самые большие суммарные кассовые сборы?"
   ],
   "cell_type": "markdown",
   "metadata": {}
  },
  {
   "cell_type": "code",
   "execution_count": 50,
   "metadata": {},
   "outputs": [
    {
     "output_type": "execute_result",
     "data": {
      "text/plain": [
       "'Peter Jackson'"
      ]
     },
     "metadata": {},
     "execution_count": 50
    }
   ],
   "source": [
    "j = dirs.merge( movies, on='imdb_id', how='outer' )\n",
    "answers['13'] = j.groupby(['dir'])['revenue'].sum().sort_values(ascending=False).index[0]\n",
    "answers['13']"
   ]
  },
  {
   "source": [
    "# 14. Какой режисер снял больше всего фильмов в стиле Action?"
   ],
   "cell_type": "markdown",
   "metadata": {}
  },
  {
   "cell_type": "code",
   "execution_count": 51,
   "metadata": {},
   "outputs": [
    {
     "output_type": "execute_result",
     "data": {
      "text/plain": [
       "'Robert Rodriguez'"
      ]
     },
     "metadata": {},
     "execution_count": 51
    }
   ],
   "source": [
    "j = genres.merge( movies, on='imdb_id', how='outer' )\n",
    "j = j.merge( dirs, on='imdb_id', how='outer' )\n",
    "j = j[ j.genre == 'Action' ]\n",
    "answers['14'] = j.groupby( ['dir'] )['genre'].count().sort_values(ascending=False).index[0]\n",
    "answers['14']"
   ]
  },
  {
   "source": [
    "# 15. Фильмы с каким актером принесли самые высокие кассовые сборы в 2012 году?"
   ],
   "cell_type": "markdown",
   "metadata": {}
  },
  {
   "cell_type": "code",
   "execution_count": 53,
   "metadata": {},
   "outputs": [
    {
     "output_type": "execute_result",
     "data": {
      "text/plain": [
       "'Chris Hemsworth'"
      ]
     },
     "metadata": {},
     "execution_count": 53
    }
   ],
   "source": [
    "j = acts.merge( movies, on='imdb_id', how='outer' )\n",
    "j = j[ j.year == 2012 ]\n",
    "answers['15'] = j.groupby(['actor'])['revenue'].sum().sort_values(ascending=False).index[0]\n",
    "answers['15']"
   ]
  },
  {
   "source": [
    "# 16. Какой актер снялся в большем количестве высокобюджетных фильмов?"
   ],
   "cell_type": "markdown",
   "metadata": {}
  },
  {
   "cell_type": "code",
   "execution_count": 54,
   "metadata": {},
   "outputs": [
    {
     "output_type": "execute_result",
     "data": {
      "text/plain": [
       "'Matt Damon'"
      ]
     },
     "metadata": {},
     "execution_count": 54
    }
   ],
   "source": [
    "j = acts.merge( movies, on='imdb_id', how='outer' )\n",
    "# в фильмах, где бюджет выше среднего по данной выборке. \n",
    "j = j[ j.budget > j.budget.mean() ]\n",
    "answers['16'] = j.groupby('actor').count().sort_values(['imdb_id'],ascending=False).index[0]\n",
    "answers['16']"
   ]
  },
  {
   "source": [
    "# 17. В фильмах какого жанра больше всего снимался Nicolas Cage?"
   ],
   "cell_type": "markdown",
   "metadata": {}
  },
  {
   "cell_type": "code",
   "execution_count": 56,
   "metadata": {},
   "outputs": [
    {
     "output_type": "execute_result",
     "data": {
      "text/plain": [
       "'Action'"
      ]
     },
     "metadata": {},
     "execution_count": 56
    }
   ],
   "source": [
    "j = acts.merge( genres, on='imdb_id', how='outer' )\n",
    "j = j[ j.actor=='Nicolas Cage' ].drop(['imdb_id'], axis=1)\n",
    "j = j.groupby(['genre']).count().sort_values(['actor'],ascending=False)\n",
    "answers['17'] = j.index[0]\n",
    "answers['17']"
   ]
  },
  {
   "source": [
    "# 18. Самый убыточный фильм от Paramount Pictures"
   ],
   "cell_type": "markdown",
   "metadata": {}
  },
  {
   "cell_type": "code",
   "execution_count": 57,
   "metadata": {},
   "outputs": [
    {
     "output_type": "execute_result",
     "data": {
      "text/plain": [
       "'K-19: The Widowmaker (tt0267626)'"
      ]
     },
     "metadata": {},
     "execution_count": 57
    }
   ],
   "source": [
    "j = prods.merge( movies, on='imdb_id', how='left' )\n",
    "j = j.query( \"prod == 'Paramount Pictures' \" )\n",
    "j = j[ j.profit == j.profit.min() ]\n",
    "r = j\n",
    "answers['18'] = r.original_title.iloc[0] + ' (' + r.imdb_id.iloc[0] + ')'\n",
    "answers['18']"
   ]
  },
  {
   "source": [
    "# 19. Какой год стал самым успешным по суммарным кассовым сборам?"
   ],
   "cell_type": "markdown",
   "metadata": {}
  },
  {
   "cell_type": "code",
   "execution_count": 58,
   "metadata": {},
   "outputs": [
    {
     "output_type": "execute_result",
     "data": {
      "text/plain": [
       "2015"
      ]
     },
     "metadata": {},
     "execution_count": 58
    }
   ],
   "source": [
    "d = movies.groupby(['year']).sum().sort_values(['year'],ascending=False)\n",
    "answers['19'] = d.index[0]\n",
    "answers['19']"
   ]
  },
  {
   "source": [
    "# 20. Какой самый прибыльный год для студии Warner Bros?"
   ],
   "cell_type": "markdown",
   "metadata": {}
  },
  {
   "cell_type": "code",
   "execution_count": 59,
   "metadata": {},
   "outputs": [
    {
     "output_type": "execute_result",
     "data": {
      "text/plain": [
       "2014"
      ]
     },
     "metadata": {},
     "execution_count": 59
    }
   ],
   "source": [
    "# https://skillfactorydspr.slack.com/archives/C017W2EQTRV/p1607752079405900?thread_ts=1607728173.403500&cid=C017W2EQTRV\n",
    "# Приветствую! Надо учесть все четыре компании с Warner Bros. в названии.\n",
    "j = prods.merge( movies, on='imdb_id', how='left' )\n",
    "j = j[ j['prod'].str.contains('Warner Bros') ]\n",
    "j = j.groupby('year')['profit'].sum().sort_values(ascending=False)\n",
    "j = j.loc[[2014,2008,2012,2010,2015]].sort_values(ascending=False)\n",
    "answers['20'] = j.index[0]\n",
    "answers['20']"
   ]
  },
  {
   "source": [
    "# 21. В каком месяце за все годы суммарно вышло больше всего фильмов?"
   ],
   "cell_type": "markdown",
   "metadata": {}
  },
  {
   "cell_type": "code",
   "execution_count": 60,
   "metadata": {},
   "outputs": [
    {
     "output_type": "execute_result",
     "data": {
      "text/plain": [
       "9"
      ]
     },
     "metadata": {},
     "execution_count": 60
    }
   ],
   "source": [
    "answers['21'] = movies.groupby(['month']).count().sort_values(['imdb_id'],ascending=False).index[0]\n",
    "answers['21']"
   ]
  },
  {
   "source": [
    "# 22. Сколько суммарно вышло фильмов летом? (за июнь, июль, август)"
   ],
   "cell_type": "markdown",
   "metadata": {}
  },
  {
   "cell_type": "code",
   "execution_count": 61,
   "metadata": {},
   "outputs": [
    {
     "output_type": "execute_result",
     "data": {
      "text/plain": [
       "450"
      ]
     },
     "metadata": {},
     "execution_count": 61
    }
   ],
   "source": [
    "answers['22'] = movies.groupby(['month']).count().loc[ [8,7,6] ].imdb_id.sum()\n",
    "answers['22']"
   ]
  },
  {
   "source": [
    "# 23. Для какого режиссера зима – самое продуктивное время года?"
   ],
   "cell_type": "markdown",
   "metadata": {}
  },
  {
   "cell_type": "code",
   "execution_count": 62,
   "metadata": {},
   "outputs": [
    {
     "output_type": "execute_result",
     "data": {
      "text/plain": [
       "'Peter Jackson'"
      ]
     },
     "metadata": {},
     "execution_count": 62
    }
   ],
   "source": [
    "j = dirs.merge( movies, on='imdb_id', how='left' )\n",
    "j['winter'] = j['month'].apply( lambda x: x in [1,2,12])\n",
    "j = j[ j['winter'] ].groupby('dir')['imdb_id'].count().sort_values(ascending=False)\n",
    "answers['23'] = j.index[0]\n",
    "answers['23']"
   ]
  },
  {
   "source": [
    "# 24. Какая студия дает самые длинные названия своим фильмам по количеству символов?"
   ],
   "cell_type": "markdown",
   "metadata": {}
  },
  {
   "cell_type": "code",
   "execution_count": 63,
   "metadata": {},
   "outputs": [
    {
     "output_type": "execute_result",
     "data": {
      "text/plain": [
       "'Four By Two Productions'"
      ]
     },
     "metadata": {},
     "execution_count": 63
    }
   ],
   "source": [
    "# https://skillfactorydspr.slack.com/archives/C017W2EQTRV/p1610572293067300\n",
    "# Под вопросом\n",
    "# \"Какая студия даёт самые длинные названия своим фильмам по количеству символов?\"\n",
    "# имеется виду\n",
    "# \"Какая студия даёт самые длинные названия своим фильмам по количеству символов (в среднем по всей выборке)?\"\n",
    "j = prods.merge( movies, on='imdb_id', how='left' )\n",
    "j = j.groupby(['prod'])['original_title_len'].mean().sort_values(ascending=False)\n",
    "answers['24'] = j.index[0]\n",
    "answers['24']"
   ]
  },
  {
   "source": [
    "# 25. Описание фильмов какой студии в среднем самые длинные по количеству слов?"
   ],
   "cell_type": "markdown",
   "metadata": {}
  },
  {
   "cell_type": "code",
   "execution_count": 64,
   "metadata": {},
   "outputs": [
    {
     "output_type": "execute_result",
     "data": {
      "text/plain": [
       "'Midnight Picture Show'"
      ]
     },
     "metadata": {},
     "execution_count": 64
    }
   ],
   "source": [
    "# overview_words_count\n",
    "j = prods.merge( movies, on='imdb_id', how='left' )\n",
    "j = j.groupby(['prod'])['overview_words_count'].mean().sort_values(ascending=False)\n",
    "answers['25'] = j.index[0]\n",
    "answers['25']"
   ]
  },
  {
   "source": [
    "# 26. Какие фильмы входят в 1 процент лучших по рейтингу?"
   ],
   "cell_type": "markdown",
   "metadata": {}
  },
  {
   "cell_type": "code",
   "execution_count": 71,
   "metadata": {},
   "outputs": [
    {
     "output_type": "stream",
     "name": "stdout",
     "text": [
      "matched  ('1', ['Inside Out', 'The Dark Knight', '12 Years a Slave'])\n"
     ]
    }
   ],
   "source": [
    "# Возможные варианты ответов согласно условию\n",
    "# 1) Inside Out, The Dark Knight, 12 Years a Slave\n",
    "# 2) BloodRayne, The Adventures of Rocky & Bullwinkle\n",
    "# 3) Batman Begins, The Lord of the Rings: The Return of the King, Upside Down\n",
    "# 4) 300, Lucky Number Slevin, Kill Bill: Vol. 1\n",
    "# 5) Upside Down, Inside Out, Iron Man \n",
    "\n",
    "# Выборка 1% лучших фильмов\n",
    "j = movies.sort_values(['vote_average'],ascending=False)\n",
    "j = j.head( int(len(j)*0.01) )\n",
    "\n",
    "# Возможные варианты ответов согласно условию задачи\n",
    "cases = { '1': ['Inside Out','The Dark Knight', '12 Years a Slave']\n",
    "        , '2': ['BloodRayne','The Adventures of Rocky & Bullwinkle'] \n",
    "        , '3': ['Batman Begins','The Lord of the Rings: The Return of the King','Upside Down']\n",
    "        , '4': ['300','Lucky Number Slevin','Kill Bill: Vol. 1']\n",
    "        , '5': ['Upside Down','Inside Out','Iron Man']\n",
    "        }\n",
    "matched_cases = []\n",
    "for k,titles in cases.items():\n",
    "    fails = 0\n",
    "    for title in titles:\n",
    "        inTop = len(j[ j.original_title.str.contains(title) ]) > 0\n",
    "        if not inTop:\n",
    "            fails = fails + 1\n",
    "    if fails==0:\n",
    "        matched_cases.append((k,titles))\n",
    "for mc in matched_cases:\n",
    "    print( 'matched ',mc)\n",
    "    answers['26'] = mc\n"
   ]
  },
  {
   "source": [
    "# 27. Какие актеры чаще всего снимаются в одном фильме вместе?"
   ],
   "cell_type": "markdown",
   "metadata": {}
  },
  {
   "cell_type": "code",
   "execution_count": 66,
   "metadata": {},
   "outputs": [
    {
     "output_type": "execute_result",
     "data": {
      "text/plain": [
       "{'count': 8, 'names': ['Daniel Radcliffe', 'Rupert Grint']}"
      ]
     },
     "metadata": {},
     "execution_count": 66
    }
   ],
   "source": [
    "# Для тех кто будет читать код\n",
    "# Если бы варианты небыли даны, тогда надо было бы \n",
    "#  1. Сделать массив и корэжей длины 2 - где были возможные сочетания актеров - получилось бы много\n",
    "#  2. Пройтись по всему массиву * кол-во пар\n",
    "# Решая задачу в общем, получил бы большое кол-во итераций CPU\n",
    "# Но поскольку возможные варианты ответа даны согласно условию задачи, то значительно сокращается объем поиска\n",
    "\n",
    "# Возможные варианты ответов согласно условию задачи\n",
    "# 1) Johnny Depp & Helena Bonham Carter\n",
    "# 2) Ben Stiller & Owen Wilson\n",
    "# 3) Vin Diesel & Paul Walker \n",
    "# 4) Adam Sandler & Kevin James \n",
    "# 5) Daniel Radcliffe & Rupert Grint\n",
    "\n",
    "# Возможные варианты ответов согласно условию задачи\n",
    "pairs = [\n",
    "    { 'count': 0, 'names': ['Johnny Depp', 'Helena Bonham Carter'] },\n",
    "    { 'count': 0, 'names': ['Ben Stiller', 'Owen Wilson'] },\n",
    "    { 'count': 0, 'names': ['Vin Diesel', 'Paul Walker'] },\n",
    "    { 'count': 0, 'names': ['Adam Sandler', 'Kevin James'] },\n",
    "    { 'count': 0, 'names': ['Daniel Radcliffe', 'Rupert Grint'] },\n",
    "]\n",
    "\n",
    "for index, srow in raw_data.iterrows():\n",
    "    actors = srow.cast.split('|')\n",
    "    for p in pairs:\n",
    "        matched = 0\n",
    "        for name in p['names']:\n",
    "            if name in actors:\n",
    "                matched = matched + 1\n",
    "        if matched==len(p['names']):\n",
    "            p['count'] = p['count'] + 1\n",
    "\n",
    "sorted_pairs = sorted(pairs, key=lambda p:p['count'])\n",
    "answers['27'] = sorted_pairs[ len(sorted_pairs)-1 ]\n",
    "answers['27']"
   ]
  },
  {
   "source": [
    "# Submission"
   ],
   "cell_type": "markdown",
   "metadata": {}
  },
  {
   "cell_type": "code",
   "execution_count": 68,
   "metadata": {},
   "outputs": [
    {
     "output_type": "execute_result",
     "data": {
      "text/plain": [
       "{'1': 'Pirates of the Caribbean: On Stranger Tides (tt1298650)',\n",
       " '2': 'Gods and Generals (tt0279111)',\n",
       " '3': 'Winnie the Pooh (tt1449283)',\n",
       " '4': 110,\n",
       " '5': 107,\n",
       " '6': 'Avatar (tt0499549)',\n",
       " '7': 'The Lone Ranger (tt1210819)',\n",
       " '8': 1478,\n",
       " '9': 'The Dark Knight (tt0468569)',\n",
       " '10': 'The Lone Ranger (tt1210819)',\n",
       " '11': 'Drama',\n",
       " '12': 'Drama',\n",
       " '13': 'Peter Jackson',\n",
       " '14': 'Robert Rodriguez',\n",
       " '15': 'Chris Hemsworth',\n",
       " '16': 'Matt Damon',\n",
       " '17': 'Action',\n",
       " '18': 'K-19: The Widowmaker (tt0267626)',\n",
       " '19': 2015,\n",
       " '20': 2014,\n",
       " '21': 9,\n",
       " '22': 450,\n",
       " '23': 'Peter Jackson',\n",
       " '24': 'Four By Two Productions',\n",
       " '25': 'Midnight Picture Show',\n",
       " '26': ('1', ['Inside Out', 'The Dark Knight', '12 Years a Slave']),\n",
       " '27': {'count': 8, 'names': ['Daniel Radcliffe', 'Rupert Grint']}}"
      ]
     },
     "metadata": {},
     "execution_count": 68
    }
   ],
   "source": [
    "# в конце можно посмотреть свои ответы к каждому вопросу\n",
    "answers"
   ]
  },
  {
   "cell_type": "code",
   "execution_count": 69,
   "metadata": {},
   "outputs": [
    {
     "output_type": "execute_result",
     "data": {
      "text/plain": [
       "27"
      ]
     },
     "metadata": {},
     "execution_count": 69
    }
   ],
   "source": [
    "# и убедиться что ни чего не пропустил)\n",
    "len(answers)"
   ]
  },
  {
   "cell_type": "code",
   "execution_count": null,
   "metadata": {},
   "outputs": [],
   "source": []
  }
 ]
}